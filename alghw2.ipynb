{
 "cells": [
  {
   "cell_type": "markdown",
   "metadata": {},
   "source": [
    "### Литература\n",
    "\n",
    "1. И.Н. Порублев, А.Н. Ставровский - Алгоритмы и программы. Решение олимпиадных задач<br>\n",
    "Загружена в канал #edu_materials\n",
    "\n",
    "# Упражнение 1. Бинарный поиск\n",
    "\n",
    "Лучший способ искать элемент в отсортированном массиве. Пусть требуется определить индекс $i$ элемента, равного `x`, в упорядоченном по возрастанию массиве $A$. Тогда действовать следует следующим образом:\n",
    "\n",
    "1. Берем центральный элемент $c$ в массиве $A$\n",
    "\n",
    "2. Сравниваем $c$ с $x$. Если $c < x$, то элемент, равный $x$ правее $c$ и бинарный поиск применяется к правой половине массива. Если $c < x$, то бинарный поиск соответственно применяется к левой половине массива.\n",
    "\n",
    "Реализуйте поиск элемента, равного $x$, в рекурсивном и нерекурсивном вариантах."
   ]
  },
  {
   "cell_type": "code",
   "execution_count": 23,
   "metadata": {},
   "outputs": [
    {
     "name": "stdout",
     "output_type": "stream",
     "text": [
      "8\n",
      "8\n"
     ]
    }
   ],
   "source": [
    "def bin(A,x,left,right):\n",
    "    c = (left+right)//2\n",
    "#     print('c',c)\n",
    "#     print(A[5])\n",
    "#     print(isinstance(A[c],int))\n",
    "    if A[c] == x:\n",
    "        return c\n",
    "\n",
    "    \n",
    "    elif x < A[c]:\n",
    "       \n",
    "       # print('x<A[c]',A[c])\n",
    "        return bin(A,x,left,c)\n",
    "       \n",
    "    else:\n",
    "       # print('x>A[c]',A[c])\n",
    "        return bin(A,x,c,right)\n",
    "\n",
    "a = [-1,0,2,3,4,5,6,7,8]\n",
    "x = int(input())\n",
    "print(bin(a,x,0,len(a)))\n"
   ]
  },
  {
   "cell_type": "code",
   "execution_count": 26,
   "metadata": {},
   "outputs": [
    {
     "name": "stdout",
     "output_type": "stream",
     "text": [
      "6\n"
     ]
    }
   ],
   "source": [
    "def bin_search(A,x):\n",
    "    left = 0\n",
    "    right = len(A)\n",
    "    c = int((left + right)//2)\n",
    "    while x != A[c] and left < right:     \n",
    "        if x < A[c]:\n",
    "            right = c\n",
    "        else:\n",
    "            left = c\n",
    "        c = int((left + right)//2)\n",
    "    if left > right:\n",
    "        return None\n",
    "    else:\n",
    "        while x == A[c]:\n",
    "            c -= 1\n",
    "        return c+1\n",
    "    \n",
    "    \n",
    "a = [0,0,0,3,3,5,6,7,8]            \n",
    "print(bin_search(a,6))\n",
    "            "
   ]
  },
  {
   "cell_type": "markdown",
   "metadata": {},
   "source": [
    "###### Упражнение 2. Поиск точки максимума в целых числах\n",
    "\n",
    "По целому $c \\ge 1$ найдите целое $a$, при котором $a^{c-a}$ максимально. Используйте бинарный поиск."
   ]
  },
  {
   "cell_type": "code",
   "execution_count": 8,
   "metadata": {},
   "outputs": [
    {
     "name": "stdout",
     "output_type": "stream",
     "text": [
      "4\n"
     ]
    }
   ],
   "source": [
    "def max_(c):\n",
    "    b = 0\n",
    "    a = 0\n",
    "    b_ = a ** (c - a)\n",
    "  #  print(b_)\n",
    "    while b_ >= b:\n",
    "        b = a ** (c - a)\n",
    "        a += 1\n",
    "        b_ = a ** (c - a)\n",
    "#         print('a',a)\n",
    "#         print('b',b)\n",
    "#         print('b_',b_)\n",
    "    return a-1\n",
    "print(max_(10))"
   ]
  },
  {
   "cell_type": "markdown",
   "metadata": {},
   "source": [
    "# Упражнение 3. $k$-й по величине элемент\n",
    "\n",
    "Найти $k$-е по величине значение в массиве из $N$ элементов (не сортируя массив полностью). Если сами не придумаете, есть подсказка к задаче 5.6 на стр. 438 в [1]."
   ]
  },
  {
   "cell_type": "code",
   "execution_count": 39,
   "metadata": {},
   "outputs": [
    {
     "name": "stdout",
     "output_type": "stream",
     "text": [
      "piv 0\n",
      "before while -1 7\n",
      "[7, 5, 9, 0, 1, 4, 2]\n",
      "j loop 5\n",
      "j loop 4\n",
      "j loop 3\n",
      "[0, 5, 9, 7, 1, 4, 2]\n",
      "j loop 1\n",
      "j loop 0\n",
      "piv 7\n",
      "before while 0 7\n",
      "[0, 5, 9, 7, 1, 4, 2]\n",
      "i loop 2 7\n",
      "[0, 5, 2, 7, 1, 4, 9]\n",
      "[0, 5, 2, 4, 1, 7, 9]\n",
      "i loop 5 5\n",
      "k 4\n",
      "None\n"
     ]
    }
   ],
   "source": [
    "def partition(A,lo,hi,k):   \n",
    "    piv = int(A[(lo+hi)//2])\n",
    "    print('piv',piv)\n",
    "   # print((lo+hi)//2)\n",
    "#     if piv == k:\n",
    "#         return piv\n",
    "    \n",
    "    #print(int(piv))\n",
    "  \n",
    "    i = lo - 1\n",
    "    j = hi + 1\n",
    "    print(\"before while\",i,j)\n",
    "    while True:\n",
    "        print(A)\n",
    "        i += 1\n",
    "        while A[i] < piv:\n",
    "            i += 1\n",
    "            print(\"i loop\", i,j)\n",
    "        j -= 1 \n",
    "        while A[j] > piv:\n",
    "            j -= 1  \n",
    "            print(\"j loop\",j)\n",
    "\n",
    "        if i >= j:\n",
    "            return j\n",
    "\n",
    "        A[i], A[j] = A[j],A[i]\n",
    "    \n",
    "def quicksort(A, lo, hi,k):\n",
    "    if lo < hi:\n",
    "        p = partition(A, lo, hi,k)\n",
    "        if len(A[0:p]) == k:\n",
    "            print('k',k)\n",
    "            return (A[p])\n",
    "        elif len(A[0:p]) > k:\n",
    "            print(\"p\",p)\n",
    "            quicksort(A, lo, p,k)       \n",
    "        else:\n",
    "            quicksort(A, p + 1, hi,k-len(A[0:p+1]))\n",
    "\n",
    "a = [7,5,9,0,1,4,2]\n",
    "print(quicksort(a,0,len(a)-1,5))\n"
   ]
  },
  {
   "cell_type": "markdown",
   "metadata": {},
   "source": [
    "# Упражнение 4. Разбиение Ломуто\n",
    "\n",
    "Реализуйте быструю сортировку на основе [разбиения Ломуто](https://en.wikipedia.org/wiki/Quicksort#Lomuto_partition_scheme)."
   ]
  },
  {
   "cell_type": "code",
   "execution_count": 50,
   "metadata": {},
   "outputs": [
    {
     "name": "stdout",
     "output_type": "stream",
     "text": [
      "[1, 2, 3, 3, 4, 5, 6, 7, 9]\n"
     ]
    }
   ],
   "source": [
    "def lomuto(A, lo, hi):\n",
    "    if lo < hi:\n",
    "        p = partition(A, lo, hi)\n",
    "        lomuto(A, lo, p - 1)\n",
    "        lomuto(A, p + 1, hi)\n",
    "\n",
    "def partition(A, lo, hi):\n",
    "    pivot = A[hi]\n",
    "    i = lo\n",
    "    for j in range(lo,hi-1):\n",
    "        if A[j] < pivot:\n",
    "            A[i],A[j] = A[j],A[i]\n",
    "            i += 1\n",
    "        A[i],A[hi] = A[hi],A[i]\n",
    "    return i\n",
    "\n",
    "a = [9,4,1,3,3,5,6,7,2] \n",
    "lomuto(a,0,len(a)-1)\n",
    "print(a)"
   ]
  },
  {
   "cell_type": "markdown",
   "metadata": {},
   "source": [
    "# Упражнение 5. Задача флага Нидерландов\n",
    "\n",
    "Пусть есть массив, элементы которого равны одному из чисел 0, 1, 2. Как упорядочить такой массив возрастанию в один проход?<br>\n",
    "Попробуйте придумать решение самостоятельно, а затем сравните с алгоритмом, описанном [здесь](https://neerc.ifmo.ru/wiki/index.php?title=Dutch_national_flag_problem). Реализуйте быструю сортировку на основе описанного разбиения. Функция `partition()` должна разбивать массив на 3 части: в первой должны быть элементы меньше опорного, во второй - равные опорному, в третей - элементы больше опорного.\n",
    "\n",
    "> [Здесь](https://algs4.cs.princeton.edu/lectures/23DemoPartitioning.pdf) есть демонстрация работы разбиения под названием \"Dijkstra 3-way partitioning\" \n",
    "\n",
    "> Запись `++` может обозначать либо префиксный, либо постфиксный инкремент, в зависимости от того, где расположен операнд. Инструкция\n",
    "```c++\n",
    "a = ++i\n",
    "```\n",
    "содержит оператор \"префиксный инкремент\", который сначала увеличивает `i` на 1, а затем возвращает значение `i`. Например, если `i == 0`, то после выполнения инструкции `i == 1`, `a == 1`. В следующем фрагменте показан постфиксный инкремент.\n",
    "```c++\n",
    "a = i++\n",
    "```\n",
    "В этом случае сначала возвращается значение `i` до увеличения, а затем уже выполняется увеличение `i` на 1. Пусть `i == 0`, тогда в конце получится `i == 1`, `a == 0`.\n",
    "\n",
    "> Перед тем обменивать "
   ]
  },
  {
   "cell_type": "code",
   "execution_count": 14,
   "metadata": {},
   "outputs": [
    {
     "name": "stdout",
     "output_type": "stream",
     "text": [
      "[0, 0, 0, 1, 1, 1, 2, 2, 2, 2, 2]\n"
     ]
    }
   ],
   "source": [
    "\n",
    "def partition(a,lo,mid,hi): \n",
    "   \n",
    "    while mid <= hi:\n",
    "        if a[mid] == 0:\n",
    "            a[lo],a[mid] = a[mid],a[lo]\n",
    "            lo += 1\n",
    "            mid += 1\n",
    "        elif a[mid] == 1:\n",
    "            mid += 1\n",
    "        else: \n",
    "            a[mid],a[hi] = a[hi], a[mid]\n",
    "            hi -= 1\n",
    "\n",
    "    return a\n",
    " \n",
    "b = [2,2,1,0,2,2,1,0,2,1,0]\n",
    "print(partition(b,0,0,len(b)-1))\n",
    "      \n"
   ]
  },
  {
   "cell_type": "markdown",
   "metadata": {},
   "source": [
    "# Упражнение 6. Быстрая сортировка на 2-х опорных элементах (dual pivot quicksort)\n",
    "\n",
    "Есть улучшенная версия разбиения из упражнения 5. Выбираются **2** различных опорных элемента, и меньший из которых $p_1$ располагается в начале массива, а больший $p_2$ в конце массива. Если такие опорные элементы не удалось выбрать, то массив состоит из одинаковых элементов и уже отсортирован. Далее элементы, находящиеся между опорными распределяются, как в упражнении 5, но в центральную часть попадают элементы, чье значение $v$ удовлетворяет неравенствам $p_1 \\le v \\le p_2$. После распределения опорные элементы $p_1$ и $p_2$ присоединяются к центральной части соответственно с начала и с конца. \n",
    "\n",
    "Реализация на C есть [тут](https://www.geeksforgeeks.org/dual-pivot-quicksort/)\n",
    "\n",
    "> [Здесь](https://algs4.cs.princeton.edu/lectures/23DemoPartitioning.pdf) есть демонстрация работы разбиения под названием \"dual-pivot partitioning\" "
   ]
  },
  {
   "cell_type": "code",
   "execution_count": 7,
   "metadata": {},
   "outputs": [
    {
     "name": "stdout",
     "output_type": "stream",
     "text": [
      "2\n"
     ]
    },
    {
     "ename": "NameError",
     "evalue": "name 'lp' is not defined",
     "output_type": "error",
     "traceback": [
      "\u001b[0;31m---------------------------------------------------------------------------\u001b[0m",
      "\u001b[0;31mNameError\u001b[0m                                 Traceback (most recent call last)",
      "\u001b[0;32m<ipython-input-7-ec6b97f517d1>\u001b[0m in \u001b[0;36m<module>\u001b[0;34m\u001b[0m\n\u001b[1;32m     53\u001b[0m \u001b[0;34m\u001b[0m\u001b[0m\n\u001b[1;32m     54\u001b[0m \u001b[0marr\u001b[0m \u001b[0;34m=\u001b[0m \u001b[0;34m[\u001b[0m\u001b[0;36m24\u001b[0m\u001b[0;34m,\u001b[0m \u001b[0;36m8\u001b[0m\u001b[0;34m,\u001b[0m \u001b[0;36m42\u001b[0m\u001b[0;34m,\u001b[0m \u001b[0;36m75\u001b[0m\u001b[0;34m,\u001b[0m \u001b[0;36m29\u001b[0m\u001b[0;34m,\u001b[0m \u001b[0;36m77\u001b[0m\u001b[0;34m,\u001b[0m \u001b[0;36m38\u001b[0m\u001b[0;34m,\u001b[0m \u001b[0;36m57\u001b[0m\u001b[0;34m]\u001b[0m\u001b[0;34m\u001b[0m\u001b[0m\n\u001b[0;32m---> 55\u001b[0;31m \u001b[0mDualPivotQuickSort\u001b[0m\u001b[0;34m(\u001b[0m\u001b[0marr\u001b[0m\u001b[0;34m,\u001b[0m \u001b[0;36m0\u001b[0m\u001b[0;34m,\u001b[0m \u001b[0mlen\u001b[0m\u001b[0;34m(\u001b[0m\u001b[0marr\u001b[0m\u001b[0;34m)\u001b[0m\u001b[0;34m-\u001b[0m\u001b[0;36m1\u001b[0m\u001b[0;34m)\u001b[0m\u001b[0;34m;\u001b[0m\u001b[0;34m\u001b[0m\u001b[0m\n\u001b[0m\u001b[1;32m     56\u001b[0m \u001b[0mprint\u001b[0m\u001b[0;34m(\u001b[0m\u001b[0marr\u001b[0m\u001b[0;34m)\u001b[0m\u001b[0;34m\u001b[0m\u001b[0m\n",
      "\u001b[0;32m<ipython-input-7-ec6b97f517d1>\u001b[0m in \u001b[0;36mDualPivotQuickSort\u001b[0;34m(a, low, high)\u001b[0m\n\u001b[1;32m     46\u001b[0m         \u001b[0;31m#lp, rp\u001b[0m\u001b[0;34m\u001b[0m\u001b[0;34m\u001b[0m\u001b[0m\n\u001b[1;32m     47\u001b[0m         \u001b[0mpartition\u001b[0m\u001b[0;34m(\u001b[0m\u001b[0ma\u001b[0m\u001b[0;34m,\u001b[0m \u001b[0mlow\u001b[0m\u001b[0;34m,\u001b[0m \u001b[0mhigh\u001b[0m\u001b[0;34m)\u001b[0m\u001b[0;34m\u001b[0m\u001b[0m\n\u001b[0;32m---> 48\u001b[0;31m         \u001b[0mDualPivotQuickSort\u001b[0m\u001b[0;34m(\u001b[0m\u001b[0ma\u001b[0m\u001b[0;34m,\u001b[0m \u001b[0mlow\u001b[0m\u001b[0;34m,\u001b[0m \u001b[0mlp\u001b[0m \u001b[0;34m-\u001b[0m \u001b[0;36m1\u001b[0m\u001b[0;34m)\u001b[0m\u001b[0;34m\u001b[0m\u001b[0m\n\u001b[0m\u001b[1;32m     49\u001b[0m         \u001b[0mDualPivotQuickSort\u001b[0m\u001b[0;34m(\u001b[0m\u001b[0ma\u001b[0m\u001b[0;34m,\u001b[0m \u001b[0mlp\u001b[0m \u001b[0;34m+\u001b[0m \u001b[0;36m1\u001b[0m\u001b[0;34m,\u001b[0m \u001b[0mrp\u001b[0m \u001b[0;34m-\u001b[0m \u001b[0;36m1\u001b[0m\u001b[0;34m)\u001b[0m\u001b[0;34m\u001b[0m\u001b[0m\n\u001b[1;32m     50\u001b[0m         \u001b[0mDualPivotQuickSort\u001b[0m\u001b[0;34m(\u001b[0m\u001b[0ma\u001b[0m\u001b[0;34m,\u001b[0m \u001b[0mrp\u001b[0m \u001b[0;34m+\u001b[0m \u001b[0;36m1\u001b[0m\u001b[0;34m,\u001b[0m \u001b[0mhigh\u001b[0m\u001b[0;34m)\u001b[0m\u001b[0;34m\u001b[0m\u001b[0m\n",
      "\u001b[0;31mNameError\u001b[0m: name 'lp' is not defined"
     ]
    }
   ],
   "source": [
    "def partition(a,low,high): \n",
    "    \n",
    "   \n",
    "    if low < high:\n",
    "        if a[low] > a[high]:\n",
    "            a[low],a[high] = a[high], a[low]\n",
    "        lp = low + 1\n",
    "        rp = high - 1 \n",
    "        k = low + 1\n",
    "        p = a[low]\n",
    "        q = a[high]  \n",
    "        \n",
    "        if lp <= rp:\n",
    "\n",
    "            if a[lp] < p:\n",
    "                a[k], a[lp] = a[lp],a[k]\n",
    "                lp += 1 \n",
    "                print(lp)\n",
    "\n",
    "\n",
    "            else: # a[lp] >= q:  \n",
    "                while a[rp] > q and lp < rp:\n",
    "                    rp -= 1 \n",
    "                a[k],a[rp] = a[rp],a[k]\n",
    "                rp -= 1\n",
    "                if a[k] < p:\n",
    "                    a[k], a[lp] = a[lp],a[k]\n",
    "                    lp += 1\n",
    "\n",
    "        k += 1 \n",
    "\n",
    "    lp -= 1\n",
    "    rp += 1 \n",
    "\n",
    "    #// bring pivots to their appropriate positions. \n",
    "    a[low], a[lp] = a[lp],a[low] \n",
    "    a[high], a[rp] = a[rp],a[high] \n",
    "\n",
    "    return rp; \n",
    "\n",
    "def DualPivotQuickSort(a, low, high):\n",
    "   # def partition(arr, low, high, lp):\n",
    "        \n",
    "    if low < high: \n",
    "        #// lp means left pivot, and rp means right pivot. \n",
    "        #lp, rp  \n",
    "        partition(a, low, high)\n",
    "        DualPivotQuickSort(a, low, lp - 1)\n",
    "        DualPivotQuickSort(a, lp + 1, rp - 1)\n",
    "        DualPivotQuickSort(a, rp + 1, high)\n",
    "    return a\n",
    "\n",
    "  \n",
    "arr = [24, 8, 42, 75, 29, 77, 38, 57]\n",
    "DualPivotQuickSort(arr, 0, len(arr)-1); \n",
    "print(arr)"
   ]
  },
  {
   "cell_type": "markdown",
   "metadata": {},
   "source": [
    "# Упражнение 7. Упорядоченные множества\n",
    "\n",
    "Два множества целых чисел через пробел записаны в файлах <font color=green>set1.txt</font> и <font color=green>set2.txt</font> в порядке возрастания. Создайте из них третье множество чисел и запишите его в файл в порядке возрастания.\n",
    "\n",
    "Напишите код для создания третьего множества каждым из перечисленных способов:\n",
    "\n",
    "1. объединение,\n",
    "\n",
    "- пересечение,\n",
    "\n",
    "- разность,\n",
    "\n",
    "- симметричная разность.\n",
    "\n",
    "Алгоритм должен быть однопроходным. Не используйте объекты типа `set`."
   ]
  },
  {
   "cell_type": "code",
   "execution_count": null,
   "metadata": {
    "collapsed": true
   },
   "outputs": [],
   "source": []
  },
  {
   "cell_type": "markdown",
   "metadata": {},
   "source": [
    "# Упражнение 8.  Top down merge sort\n",
    "\n",
    "Напишите рекурсивный вариант сортировки слиянием. Отталкивайтесь кода C, приведенного [тут](https://en.wikipedia.org/wiki/Merge_sort)."
   ]
  },
  {
   "cell_type": "code",
   "execution_count": 5,
   "metadata": {},
   "outputs": [
    {
     "name": "stdout",
     "output_type": "stream",
     "text": [
      "[0, 0, 1, 4, 5, 6, 7, 8, 9]\n"
     ]
    }
   ],
   "source": [
    "#// Array A[] has the items to sort; array B[] is a work array.\n",
    "\n",
    "def TopDownMergeSort(A, B, n):\n",
    "    \n",
    "    CopyArray(A, 0, n, B);           #// duplicate array A[] into B[]\n",
    "    TopDownSplitMerge(B, 0, n, A);   #// sort data from B[] into A[]\n",
    "\n",
    "\n",
    "# // Sort the given run of array A[] using array B[] as a source.\n",
    "# // iBegin is inclusive; iEnd is exclusive (A[iEnd] is not in the set).\n",
    "def TopDownSplitMerge(B, iBegin, iEnd, A):\n",
    "\n",
    "    if (iEnd - iBegin) < 2:                       #// if run size == 1\n",
    "        return B                                #//   consider it sorted\n",
    "    else:\n",
    "        #split the run longer than 1 item into halves\n",
    "        iMiddle = (iEnd + iBegin) // 2;            #  // iMiddle = mid point\n",
    "    #// recursively sort both runs from array A[] into B[]\n",
    "        TopDownSplitMerge(A, iBegin,  iMiddle, B)  #// sort the left  run\n",
    "        TopDownSplitMerge(A, iMiddle,    iEnd, B)  #// sort the right run\n",
    "      #  // merge the resulting runs from array B[] into A[]\n",
    "        TopDownMerge(B, iBegin, iMiddle, iEnd, A)\n",
    "\n",
    "\n",
    "\n",
    "def TopDownMerge(A, iBegin, iMiddle, iEnd, B):\n",
    "\n",
    "    i = iBegin \n",
    "    j = iMiddle\n",
    "\n",
    "    for k in range(iBegin,iEnd):\n",
    "        \n",
    "       \n",
    "        if i < iMiddle and j >= iEnd or A[i] <= A[j]:\n",
    "            B[k] = A[i]\n",
    "            i = i + 1\n",
    "        else:\n",
    "            B[k] = A[j]\n",
    "            j = j + 1\n",
    "  \n",
    "\n",
    "def CopyArray(A, iBegin, iEnd, B):\n",
    "    B[:] = A[:]\n",
    "    return B\n",
    "    \n",
    "  \n",
    "A = [8,9,0,6,7,5,4,0,1]\n",
    "B = []\n",
    "TopDownMergeSort(A,B,len(A))\n",
    "print(A)"
   ]
  },
  {
   "cell_type": "code",
   "execution_count": null,
   "metadata": {},
   "outputs": [],
   "source": []
  }
 ],
 "metadata": {
  "kernelspec": {
   "display_name": "Python 3",
   "language": "python",
   "name": "python3"
  },
  "language_info": {
   "codemirror_mode": {
    "name": "ipython",
    "version": 3
   },
   "file_extension": ".py",
   "mimetype": "text/x-python",
   "name": "python",
   "nbconvert_exporter": "python",
   "pygments_lexer": "ipython3",
   "version": "3.7.0"
  }
 },
 "nbformat": 4,
 "nbformat_minor": 2
}
