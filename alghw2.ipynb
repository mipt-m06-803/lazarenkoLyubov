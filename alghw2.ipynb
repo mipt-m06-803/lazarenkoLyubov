{
 "cells": [
  {
   "cell_type": "markdown",
   "metadata": {},
   "source": [
    "### Литература\n",
    "\n",
    "1. И.Н. Порублев, А.Н. Ставровский - Алгоритмы и программы. Решение олимпиадных задач<br>\n",
    "Загружена в канал #edu_materials\n",
    "\n",
    "# Упражнение 1. Бинарный поиск\n",
    "\n",
    "Лучший способ искать элемент в отсортированном массиве. Пусть требуется определить индекс $i$ элемента, равного `x`, в упорядоченном по возрастанию массиве $A$. Тогда действовать следует следующим образом:\n",
    "\n",
    "1. Берем центральный элемент $c$ в массиве $A$\n",
    "\n",
    "2. Сравниваем $c$ с $x$. Если $c < x$, то элемент, равный $x$ правее $c$ и бинарный поиск применяется к правой половине массива. Если $c < x$, то бинарный поиск соответственно применяется к левой половине массива.\n",
    "\n",
    "Реализуйте поиск элемента, равного $x$, в рекурсивном и нерекурсивном вариантах."
   ]
  },
  {
   "cell_type": "code",
   "execution_count": 23,
   "metadata": {},
   "outputs": [
    {
     "name": "stdout",
     "output_type": "stream",
     "text": [
      "8\n",
      "8\n"
     ]
    }
   ],
   "source": [
    "def bin(A,x,left,right):\n",
    "    c = (left+right)//2\n",
    "#     print('c',c)\n",
    "#     print(A[5])\n",
    "#     print(isinstance(A[c],int))\n",
    "    if A[c] == x:\n",
    "        return c\n",
    "\n",
    "    \n",
    "    elif x < A[c]:\n",
    "       \n",
    "       # print('x<A[c]',A[c])\n",
    "        return bin(A,x,left,c)\n",
    "       \n",
    "    else:\n",
    "       # print('x>A[c]',A[c])\n",
    "        return bin(A,x,c,right)\n",
    "\n",
    "a = [-1,0,2,3,4,5,6,7,8]\n",
    "x = int(input())\n",
    "print(bin(a,x,0,len(a)))\n"
   ]
  },
  {
   "cell_type": "code",
   "execution_count": 26,
   "metadata": {},
   "outputs": [
    {
     "name": "stdout",
     "output_type": "stream",
     "text": [
      "6\n"
     ]
    }
   ],
   "source": [
    "def bin_search(A,x):\n",
    "    left = 0\n",
    "    right = len(A)\n",
    "    c = int((left + right)//2)\n",
    "    while x != A[c] and left < right:     \n",
    "        if x < A[c]:\n",
    "            right = c\n",
    "        else:\n",
    "            left = c\n",
    "        c = int((left + right)//2)\n",
    "    if left > right:\n",
    "        return None\n",
    "    else:\n",
    "        while x == A[c]:\n",
    "            c -= 1\n",
    "        return c+1\n",
    "    \n",
    "    \n",
    "a = [0,0,0,3,3,5,6,7,8]            \n",
    "print(bin_search(a,6))\n",
    "            "
   ]
  },
  {
   "cell_type": "markdown",
   "metadata": {},
   "source": [
    "###### Упражнение 2. Поиск точки максимума в целых числах\n",
    "\n",
    "По целому $c \\ge 1$ найдите целое $a$, при котором $a^{c-a}$ максимально. Используйте бинарный поиск."
   ]
  },
  {
   "cell_type": "code",
   "execution_count": 141,
   "metadata": {},
   "outputs": [
    {
     "name": "stdout",
     "output_type": "stream",
     "text": [
      "a 1\n",
      "b 0\n",
      "b_ 1\n",
      "a 2\n",
      "b 1\n",
      "b_ 256\n",
      "a 3\n",
      "b 256\n",
      "b_ 2187\n",
      "a 4\n",
      "b 2187\n",
      "b_ 4096\n",
      "a 5\n",
      "b 4096\n",
      "b_ 3125\n",
      "4\n"
     ]
    }
   ],
   "source": [
    "def max_(c):\n",
    "    b = 0\n",
    "    a = 0\n",
    "    b_ = a ** (c - a)\n",
    "    b\n",
    "  #  print(b_)\n",
    "    while b_ >= b:\n",
    "        b = a ** (c - a)\n",
    "        a += 1\n",
    "        b_ = a ** (c - a)\n",
    "        print('a',a)\n",
    "        print('b',b)\n",
    "        print('b_',b_)\n",
    "    return a-1\n",
    "print(max_(10))"
   ]
  },
  {
   "cell_type": "code",
   "execution_count": 138,
   "metadata": {},
   "outputs": [
    {
     "name": "stdout",
     "output_type": "stream",
     "text": [
      "[0, 1, 2, 3, 4, 5, 6, 7, 8, 9, 10, 11, 12, 13, 14, 15, 16, 17, 18, 19, 20, 21, 22, 23, 24, 25, 26, 27, 28, 29, 30, 31, 32, 33, 34, 35, 36, 37, 38, 39, 40, 41, 42, 43, 44, 45, 46, 47, 48, 49, 50, 51, 52, 53, 54, 55, 56, 57, 58, 59, 60, 61, 62, 63, 64, 65, 66, 67, 68, 69, 70, 71, 72, 73, 74, 75, 76, 77, 78, 79, 80, 81, 82, 83, 84, 85, 86, 87, 88, 89, 90, 91, 92, 93, 94, 95, 96, 97, 98, 99]\n",
      "24\n"
     ]
    }
   ],
   "source": [
    "\n",
    "def max_(c):\n",
    "#     b = 0\n",
    "#     #a = c\n",
    "#     b_ = a ** (c - a)\n",
    "    left = 0\n",
    "    right = c\n",
    "    a = [i for i in range(c)]\n",
    "    print(a)\n",
    "    mid = (left + right)//2\n",
    "    #print(mid)\n",
    "    def f(x):\n",
    "        return x**(c - x)\n",
    "    while max(f(mid), f(mid-1), f(mid+1)) != f(mid):   \n",
    "        if f(mid - 1) - f(mid) > 0:\n",
    "            right = mid\n",
    "        else:# a[mid] ** (c - a[mid]) - a[mid + 1] ** (c - a[mid + 1]) > 0:\n",
    "            left = mid\n",
    "        mid = (left + right)//2\n",
    "    return mid\n",
    "\n",
    "    \n",
    "print(max_(100))"
   ]
  },
  {
   "cell_type": "markdown",
   "metadata": {},
   "source": [
    "# Упражнение 3. $k$-й по величине элемент\n",
    "\n",
    "Найти $k$-е по величине значение в массиве из $N$ элементов (не сортируя массив полностью). Если сами не придумаете, есть подсказка к задаче 5.6 на стр. 438 в [1]."
   ]
  },
  {
   "cell_type": "code",
   "execution_count": 13,
   "metadata": {},
   "outputs": [
    {
     "name": "stdout",
     "output_type": "stream",
     "text": [
      "p (0, 0)\n",
      "k bef 6\n",
      "len 0\n",
      "False\n",
      "!\n",
      "p (0, 0)\n",
      "p (4, 7)\n",
      "k bef 6\n",
      "len 7\n",
      "False\n",
      "p (4, 7)\n",
      "p (2, 2)\n",
      "k bef 6\n",
      "len 2\n",
      "False\n",
      "!\n",
      "p (2, 2)\n",
      "p (3, 4)\n",
      "k bef 4\n",
      "len 4\n",
      "True\n",
      "! 4\n",
      "5\n"
     ]
    }
   ],
   "source": [
    "def partition(A,lo,hi):   \n",
    "    piv = int(A[(lo+hi)//2])\n",
    "  #  print('piv',piv)\n",
    "  \n",
    "    i = lo - 1\n",
    "    j = hi + 1\n",
    "  #  print(\"before while\",i,j)\n",
    "    while True:\n",
    "      #  print(A)\n",
    "        i += 1\n",
    "        while A[i] < piv:\n",
    "            i += 1\n",
    "        #    print(\"i loop\", i,j)\n",
    "        j -= 1 \n",
    "        while A[j] > piv:\n",
    "            j -= 1  \n",
    "          #  print(\"j loop\",j)\n",
    "\n",
    "        if i >= j:\n",
    "            return j, piv\n",
    "\n",
    "        A[i], A[j] = A[j],A[i]\n",
    "    \n",
    "def quicksort(A, lo, hi,k):\n",
    "    if lo < hi:\n",
    "        p = partition(A, lo, hi)\n",
    "        print('p',p)\n",
    "        print('k bef',k)\n",
    "        print('len',len(A[0:p[1]]))\n",
    "        print(len(A[0:p[1]]) == k)\n",
    "        if len(A[0:p[1]]) == k:\n",
    "            print('!',k)\n",
    "            \n",
    "            print(A[p[1]])\n",
    "        elif len(A[0:p[1]]) > k:\n",
    "            print(\"p\",p)\n",
    "            \n",
    "            quicksort(A, lo, p[0],k)       \n",
    "        else:\n",
    "            print('!')\n",
    "            print('p',p)\n",
    "            quicksort(A, p[0] + 1, hi,k - len(A[0:p[1]]))\n",
    "          #  print('k',k)\n",
    "    else:\n",
    "\n",
    "a = [7,5,9,0,1,4,2]\n",
    "quicksort(a,0,len(a)-1,6)\n"
   ]
  },
  {
   "cell_type": "code",
   "execution_count": 32,
   "metadata": {},
   "outputs": [],
   "source": [
    "def find_max(A, lo, hi, k):\n",
    "    if lo <= hi:\n",
    "        # print(lo, hi)\n",
    "        m1, m2, m3 = partition(A, lo, hi)\n",
    "        if m1 >= k:\n",
    "            find_max(A, lo, lo + m1 - 1, k)\n",
    "        elif m1 + m2 >= k:\n",
    "            print(A[lo + m1])\n",
    "            #return A[lo + m1]\n",
    "        else:\n",
    "            find_max(A, hi - m3 + 1, hi, k - m1 - m2)\n",
    "\n",
    "        \n",
    "def partition(A, lo, hi):\n",
    "    start, end, leng = lo, hi, hi - lo + 1\n",
    "    mid = lo\n",
    "    pivot = A[(lo + hi) // 2]\n",
    "   # print(A, lo, mid, hi, pivot)\n",
    "    while mid <= hi:\n",
    "        if A[mid] < pivot:\n",
    "            A[lo], A[mid] = A[mid], A[lo]\n",
    "            lo += 1\n",
    "            mid += 1\n",
    "        elif A[mid] == pivot:\n",
    "            mid += 1\n",
    "        else:\n",
    "            A[mid], A[hi] = A[hi], A[mid]\n",
    "            hi -= 1\n",
    "    m1 = lo - start\n",
    "    m2 = mid - lo\n",
    "    m3 = leng - (m1 + m2)\n",
    "    return m1, m2, m3"
   ]
  },
  {
   "cell_type": "code",
   "execution_count": 33,
   "metadata": {},
   "outputs": [
    {
     "name": "stdout",
     "output_type": "stream",
     "text": [
      "1\n"
     ]
    }
   ],
   "source": [
    "a = [7,5,9,0,1,4,2]\n",
    "find_max(a,0,len(a)-1,2)"
   ]
  },
  {
   "cell_type": "markdown",
   "metadata": {},
   "source": [
    "# Упражнение 4. Разбиение Ломуто\n",
    "\n",
    "Реализуйте быструю сортировку на основе [разбиения Ломуто](https://en.wikipedia.org/wiki/Quicksort#Lomuto_partition_scheme)."
   ]
  },
  {
   "cell_type": "code",
   "execution_count": 126,
   "metadata": {},
   "outputs": [
    {
     "name": "stdout",
     "output_type": "stream",
     "text": [
      "[0, 1, 2, 3, 5, 6]\n"
     ]
    }
   ],
   "source": [
    "def lomuto(A, lo, hi):\n",
    "    if lo < hi:\n",
    "        p = partition(A, lo, hi)\n",
    "        lomuto(A, lo, p - 1)\n",
    "        lomuto(A, p+1, hi)\n",
    "\n",
    "def partition(A, lo, hi):\n",
    "    pivot = A[hi]\n",
    "    i = lo\n",
    "    for j in range(lo,hi):\n",
    "        if A[j] < pivot:\n",
    "            A[i],A[j] = A[j],A[i]\n",
    "            i += 1\n",
    "    A[i],A[hi] = A[hi],A[i]\n",
    "    return i\n",
    "\n",
    "a = [3,6,0,1,5,2] \n",
    "lomuto(a,0,len(a)-1)\n",
    "print(a)"
   ]
  },
  {
   "cell_type": "markdown",
   "metadata": {},
   "source": [
    "# Упражнение 5. Задача флага Нидерландов\n",
    "\n",
    "Пусть есть массив, элементы которого равны одному из чисел 0, 1, 2. Как упорядочить такой массив возрастанию в один проход?<br>\n",
    "Попробуйте придумать решение самостоятельно, а затем сравните с алгоритмом, описанном [здесь](https://neerc.ifmo.ru/wiki/index.php?title=Dutch_national_flag_problem). Реализуйте быструю сортировку на основе описанного разбиения. Функция `partition()` должна разбивать массив на 3 части: в первой должны быть элементы меньше опорного, во второй - равные опорному, в третей - элементы больше опорного.\n",
    "\n",
    "> [Здесь](https://algs4.cs.princeton.edu/lectures/23DemoPartitioning.pdf) есть демонстрация работы разбиения под названием \"Dijkstra 3-way partitioning\" \n",
    "\n",
    "> Запись `++` может обозначать либо префиксный, либо постфиксный инкремент, в зависимости от того, где расположен операнд. Инструкция\n",
    "```c++\n",
    "a = ++i\n",
    "```\n",
    "содержит оператор \"префиксный инкремент\", который сначала увеличивает `i` на 1, а затем возвращает значение `i`. Например, если `i == 0`, то после выполнения инструкции `i == 1`, `a == 1`. В следующем фрагменте показан постфиксный инкремент.\n",
    "```c++\n",
    "a = i++\n",
    "```\n",
    "В этом случае сначала возвращается значение `i` до увеличения, а затем уже выполняется увеличение `i` на 1. Пусть `i == 0`, тогда в конце получится `i == 1`, `a == 0`.\n",
    "\n",
    "> Перед тем обменивать "
   ]
  },
  {
   "cell_type": "code",
   "execution_count": 14,
   "metadata": {},
   "outputs": [
    {
     "name": "stdout",
     "output_type": "stream",
     "text": [
      "[0, 0, 0, 1, 1, 1, 2, 2, 2, 2, 2]\n"
     ]
    }
   ],
   "source": [
    "\n",
    "def partition(a,lo,mid,hi): \n",
    "   \n",
    "    while mid <= hi:\n",
    "        if a[mid] == 0:\n",
    "            a[lo],a[mid] = a[mid],a[lo]\n",
    "            lo += 1\n",
    "            mid += 1\n",
    "        elif a[mid] == 1:\n",
    "            mid += 1\n",
    "        else: \n",
    "            a[mid],a[hi] = a[hi], a[mid]\n",
    "            hi -= 1\n",
    "\n",
    "    return a\n",
    " \n",
    "b = [2,2,1,0,2,2,1,0,2,1,0]\n",
    "print(partition(b,0,0,len(b)-1))\n",
    "      \n"
   ]
  },
  {
   "cell_type": "markdown",
   "metadata": {},
   "source": [
    "# Упражнение 6. Быстрая сортировка на 2-х опорных элементах (dual pivot quicksort)\n",
    "\n",
    "Есть улучшенная версия разбиения из упражнения 5. Выбираются **2** различных опорных элемента, и меньший из которых $p_1$ располагается в начале массива, а больший $p_2$ в конце массива. Если такие опорные элементы не удалось выбрать, то массив состоит из одинаковых элементов и уже отсортирован. Далее элементы, находящиеся между опорными распределяются, как в упражнении 5, но в центральную часть попадают элементы, чье значение $v$ удовлетворяет неравенствам $p_1 \\le v \\le p_2$. После распределения опорные элементы $p_1$ и $p_2$ присоединяются к центральной части соответственно с начала и с конца. \n",
    "\n",
    "Реализация на C есть [тут](https://www.geeksforgeeks.org/dual-pivot-quicksort/)\n",
    "\n",
    "> [Здесь](https://algs4.cs.princeton.edu/lectures/23DemoPartitioning.pdf) есть демонстрация работы разбиения под названием \"dual-pivot partitioning\" "
   ]
  },
  {
   "cell_type": "code",
   "execution_count": 3,
   "metadata": {},
   "outputs": [
    {
     "name": "stdout",
     "output_type": "stream",
     "text": [
      "[8, 29, 38, 42, 57, 75, 77, 24]\n"
     ]
    }
   ],
   "source": [
    "def partition(A,lo,hi): \n",
    "    \n",
    "   \n",
    "    if lo < hi:\n",
    "        if A[lo] > A[hi]:\n",
    "            A[lo],A[hi] = A[hi], A[lo]\n",
    "        lp = lo + 1\n",
    "        rp = hi - 1 \n",
    "        piv1 = A[lo]\n",
    "        piv2 = A[hi]  \n",
    "            \n",
    "        for j in range(lo + 1, hi):\n",
    "        # print(j, i_1, i_2, A)\n",
    "            if A[j] < piv1:\n",
    "                A[lp], A[j] = A[j], A[lp]\n",
    "                lp += 1\n",
    "            elif A[j] > piv2:\n",
    "                while (A[rp] > piv2) and (rp > j):\n",
    "                    rp -= 1\n",
    "                A[rp], A[j] = A[j], A[rp]\n",
    "                rp -= 1\n",
    "\n",
    "            if A[j] < piv1:\n",
    "                    A[lp], A[j] = A[j], A[lp]\n",
    "                    lp += 1\n",
    "\n",
    "            if j >= rp:\n",
    "                break\n",
    "        lp -= 1\n",
    "        rp += 1\n",
    "        A[lp], A[lo] = A[lo], A[lp]\n",
    "        A[rp], A[hi] = A[hi], A[rp]\n",
    "        #print(i_1, i_2, A)\n",
    "        return lp, rp\n",
    "\n",
    "            \n",
    "def DualPivotQuickSort(A, lo, hi):\n",
    "   # def partition(arr, low, high, lp):\n",
    "        \n",
    "    if lo < hi: \n",
    "        #// lp means left pivot, and rp means right pivot. \n",
    "        #lp, rp  \n",
    "        p1,p2 = partition(A, lo, hi)\n",
    "        DualPivotQuickSort(A, lo, p1 - 1)\n",
    "        DualPivotQuickSort(A, p1 + 1, p2 - 1)\n",
    "        DualPivotQuickSort(A, p2 + 1, hi)\n",
    "   # return a\n",
    "\n",
    "  \n",
    "a = [24, 8, 42, 75, 29, 77, 38, 57]\n",
    "DualPivotQuickSort(a, 0, len(arr)-1); \n",
    "print(a)"
   ]
  },
  {
   "cell_type": "markdown",
   "metadata": {},
   "source": [
    "# Упражнение 7. Упорядоченные множества\n",
    "\n",
    "Два множества целых чисел через пробел записаны в файлах <font color=green>set1.txt</font> и <font color=green>set2.txt</font> в порядке возрастания. Создайте из них третье множество чисел и запишите его в файл в порядке возрастания.\n",
    "\n",
    "Напишите код для создания третьего множества каждым из перечисленных способов:\n",
    "\n",
    "1. объединение,\n",
    "\n",
    "- пересечение,\n",
    "\n",
    "- разность,\n",
    "\n",
    "- симметричная разность.\n",
    "\n",
    "Алгоритм должен быть однопроходным. Не используйте объекты типа `set`."
   ]
  },
  {
   "cell_type": "code",
   "execution_count": null,
   "metadata": {},
   "outputs": [],
   "source": [
    "# with open('set1.txt','r') as g:\n",
    "#     t1 = g.read()\n",
    "# with open('set2.txt', 'r') as f:\n",
    "#     t2 = f.read()\n",
    "\n",
    "def merge(a,b):\n",
    "    a1 = a[:]\n",
    "    b1 = b[:]\n",
    "    c = []\n",
    "    while len(a) > 0 and len(b) > 0:\n",
    "        if a[0] > b[0]:\n",
    "            c.append(b.pop(0))\n",
    "        else:\n",
    "            c.append(a.pop(0))\n",
    "    if len(a) > 0:\n",
    "        c.extend(a)\n",
    "    if len(b) > 0:\n",
    "        c.extend(b)\n",
    "    return c\n",
    "\n",
    "\n",
    "def intersection(a,b):\n",
    "    c = []\n",
    "    while len(a) > 0 and len(b) > 0:\n",
    "        if a[0] == b[0]:\n",
    "            c.append(b.pop(0))\n",
    "            del a[0]\n",
    "        elif a[0] > b[0]:\n",
    "            del b[0]\n",
    "        else:\n",
    "            del a[0]\n",
    "    return c\n",
    "\n",
    "def symmetric_difference(a,b):\n",
    "    c = []\n",
    "    while len(a) > 0 and len(b) > 0:\n",
    "        if a[0] == b[0]:\n",
    "            del b[0]\n",
    "            del a[0]\n",
    "        elif a[0] > b[0]:\n",
    "            c.append(b.pop(0))\n",
    "        else:\n",
    "            c.append(a.pop(0))\n",
    "    if len(a) > 0:\n",
    "        c.extend(a)\n",
    "    if len(b) > 0:\n",
    "        c.extend(b)\n",
    "    return c\n",
    "\n",
    "def difference(a,b):\n",
    "    c = []\n",
    "    \n",
    "    while len(a) > 0 and len(b) > 0:\n",
    "        if a[0] == b[0]:\n",
    "            \n",
    "            del a[0]\n",
    "        elif a[0] > b[0]:\n",
    "            del b[0]\n",
    "        else:\n",
    "            c.append(a.pop(0))\n",
    "    if len(a) > 0:\n",
    "        c.extend(a)\n",
    "    \n",
    "    return c\n"
   ]
  },
  {
   "cell_type": "code",
   "execution_count": 12,
   "metadata": {},
   "outputs": [
    {
     "name": "stdout",
     "output_type": "stream",
     "text": [
      "1 2 6\n"
     ]
    }
   ],
   "source": [
    "def calculator(a,b,what_to_do):\n",
    "    if what_to_do == merge:\n",
    "        return merge(a,b)\n",
    "    elif what_to_do == intersection:\n",
    "        return intersection(a,b)\n",
    "    elif what_to_do == symmetric_difference:\n",
    "        return symmetric_difference(a,b)\n",
    "    elif what_to_do == difference:\n",
    "        return difference(a,b)\n",
    "    else:\n",
    "        raise Exception(\"Try another methods\")\n",
    "\n",
    "t1 = [1,2,3,4,5,6]\n",
    "t2 = [3,4,5,7,8,9]\n",
    "print(\" \".join(map(str,calculator(t1,t2,difference))))\n",
    "# with open('culculate.txt', 'w') as q:\n",
    "#     q.write(\" \".join(map(str,calculator(t1,t2,difference))))\n",
    "    "
   ]
  },
  {
   "cell_type": "markdown",
   "metadata": {},
   "source": [
    "# Упражнение 8.  Top down merge sort\n",
    "\n",
    "Напишите рекурсивный вариант сортировки слиянием. Отталкивайтесь кода C, приведенного [тут](https://en.wikipedia.org/wiki/Merge_sort)."
   ]
  },
  {
   "cell_type": "code",
   "execution_count": 12,
   "metadata": {},
   "outputs": [
    {
     "name": "stdout",
     "output_type": "stream",
     "text": [
      "[0, 0, 1, 4, 5, 6, 7, 8, 9]\n"
     ]
    }
   ],
   "source": [
    "#// Array A[] has the items to sort; array B[] is a work array.\n",
    "\n",
    "def TopDownMergeSort(A, B, n):\n",
    "    \n",
    "    CopyArray(A, B);           #// duplicate array A[] into B[]\n",
    "    TopDownSplitMerge(B, 0, n, A);   #// sort data from B[] into A[]\n",
    "\n",
    "\n",
    "# // Sort the given run of array A[] using array B[] as a source.\n",
    "# // iBegin is inclusive; iEnd is exclusive (A[iEnd] is not in the set).\n",
    "def TopDownSplitMerge(B, iBegin, iEnd, A):\n",
    "\n",
    "    if (iEnd - iBegin) < 2:                       #// if run size == 1\n",
    "        return B                                #//   consider it sorted\n",
    "    else:\n",
    "        #split the run longer than 1 item into halves\n",
    "        iMiddle = (iEnd + iBegin) // 2;            #  // iMiddle = mid point\n",
    "    #// recursively sort both runs from array A[] into B[]\n",
    "        TopDownSplitMerge(A, iBegin,  iMiddle, B)  #// sort the left  run\n",
    "        TopDownSplitMerge(A, iMiddle,    iEnd, B)  #// sort the right run\n",
    "      #  // merge the resulting runs from array B[] into A[]\n",
    "        TopDownMerge(B, iBegin, iMiddle, iEnd, A)\n",
    "\n",
    "\n",
    "\n",
    "def TopDownMerge(A, iBegin, iMiddle, iEnd, B):\n",
    "\n",
    "    i = iBegin \n",
    "    j = iMiddle\n",
    "\n",
    "    for k in range(iBegin,iEnd):\n",
    "        \n",
    "       \n",
    "        if i < iMiddle and j >= iEnd or A[i] <= A[j]:\n",
    "            B[k] = A[i]\n",
    "            i = i + 1\n",
    "        else:\n",
    "            B[k] = A[j]\n",
    "            j = j + 1\n",
    "\n",
    "\n",
    "def CopyArray(A, B):\n",
    "    B[:] = A[:]\n",
    "    return B\n",
    "\n",
    "  \n",
    "A = [8,9,0,6,7,5,4,0,1]\n",
    "B = []\n",
    "TopDownMergeSort(A,B,len(A))\n",
    "print(A)"
   ]
  },
  {
   "cell_type": "code",
   "execution_count": 140,
   "metadata": {},
   "outputs": [
    {
     "name": "stdout",
     "output_type": "stream",
     "text": [
      "0.004506413002673071\n"
     ]
    }
   ],
   "source": [
    "def CopyArray(A,B):\n",
    "    import random\n",
    "    \n",
    "    B[:] = A[:]\n",
    "    return B\n",
    "\n",
    "# if __name__ == '__main__':\n",
    "#     import timeit\n",
    "#     print(timeit.timeit(\"CopyArray(A,B)\", setup=\"from __main__ import CopyArray\"))\n",
    "    \n",
    "if __name__=='__main__':\n",
    "    from timeit import Timer\n",
    "    A = [random.randint(1, 5) for _ in range(10000)]\n",
    "    B = []\n",
    "    t = Timer(lambda: CopyArray(A,B))\n",
    "    print (t.timeit(number=20))"
   ]
  },
  {
   "cell_type": "code",
   "execution_count": 139,
   "metadata": {},
   "outputs": [
    {
     "name": "stdout",
     "output_type": "stream",
     "text": [
      "0.0017888790025608614\n"
     ]
    }
   ],
   "source": [
    "def CopyArray1(A,B):\n",
    "    import random\n",
    "    \n",
    "    B[:] = A\n",
    "    return B\n",
    "\n",
    "if __name__=='__main__':\n",
    "    from timeit import Timer\n",
    "    A = [random.randint(1, 5) for _ in range(10000)]\n",
    "    B = []\n",
    "    \n",
    "    t = Timer(lambda: CopyArray1(A,B))\n",
    "    print (t.timeit(number=20))"
   ]
  }
 ],
 "metadata": {
  "kernelspec": {
   "display_name": "Python 3",
   "language": "python",
   "name": "python3"
  },
  "language_info": {
   "codemirror_mode": {
    "name": "ipython",
    "version": 3
   },
   "file_extension": ".py",
   "mimetype": "text/x-python",
   "name": "python",
   "nbconvert_exporter": "python",
   "pygments_lexer": "ipython3",
   "version": "3.7.0"
  }
 },
 "nbformat": 4,
 "nbformat_minor": 2
}
