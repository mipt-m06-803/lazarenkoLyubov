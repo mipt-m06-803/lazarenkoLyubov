{
 "cells": [
  {
   "cell_type": "markdown",
   "metadata": {},
   "source": [
    "# Упражнение 1. Уточнить данные из персональной карточки\n",
    "\n",
    "Проверьте полностью ли заполнены персональная карточка сотрудника. Персональная карточка - это словарь, который должен содержать 4 элемента: имя, фамилию, возраст и должность. Если какие-то из значений в словаре равны `None`, организуйте ввод значения с клавиатуры (программа должна выдать подсказку `\"Заполните поле '<имя поля>'\"`)."
   ]
  },
  {
   "cell_type": "code",
   "execution_count": 3,
   "metadata": {},
   "outputs": [
    {
     "name": "stdout",
     "output_type": "stream",
     "text": [
      "заполните поле 'surname'ghg\n",
      "заполните поле 'age'14\n",
      "{'name': 'Mary', 'surname': None, 'age': None, 'position': 'junior developer'}\n"
     ]
    }
   ],
   "source": [
    "card = dict(\n",
    "    name='Mary',\n",
    "    surname=None,\n",
    "    age=None,\n",
    "    position='junior developer'\n",
    ")\n",
    "for field,value in card.items():\n",
    "    if value == None:\n",
    "        input(\"заполните поле '{}'\".format(field))\n",
    "print(card)"
   ]
  },
  {
   "cell_type": "markdown",
   "metadata": {},
   "source": [
    "# Упражнение 2\n",
    "\n",
    "Напишите функции для поэлементного сложения, деления, возведения в степень двух списков."
   ]
  },
  {
   "cell_type": "code",
   "execution_count": 114,
   "metadata": {},
   "outputs": [
    {
     "name": "stdout",
     "output_type": "stream",
     "text": [
      "1 2\n",
      "1 2\n",
      "[2, 4]\n",
      "[1.0, 1.0]\n",
      "[1, 4]\n"
     ]
    }
   ],
   "source": [
    "def sloz(a,b,c,i):\n",
    "    if i < len(a):\n",
    "        c.append(int(a[i]) + int(b[i]))\n",
    "        i += 1\n",
    "        sloz(a,b,c,i)\n",
    "    else:\n",
    "        print(c)\n",
    "    \n",
    "def dele(a,b,d,i):\n",
    "    if i < len(a):\n",
    "        if b[i] != 0:\n",
    "            d.append(int(a[i])/int(b[i]))\n",
    "            i += 1\n",
    "            dele(a,b,d,i)\n",
    "        else:\n",
    "            return None\n",
    "    else:\n",
    "        print(d)\n",
    "    \n",
    "def voz(a,b,e,i):\n",
    "    if i < len(a):\n",
    "        e.append(int(a[i])**int(b[i]))\n",
    "        i += 1\n",
    "        voz(a,b,e,i)\n",
    "    else:\n",
    "        print(e)\n",
    "\n",
    "a = input().split()\n",
    "b = input().split()\n",
    "c = []\n",
    "d = []\n",
    "e = []\n",
    "i = 0\n",
    "sloz(a,b,c,i)\n",
    "dele(a,b,d,i)\n",
    "voz(a,b,e,i)"
   ]
  },
  {
   "cell_type": "markdown",
   "metadata": {},
   "source": [
    "# Упражнение 3\n",
    "\n",
    "Удалите из словаря все элементы, значения которых равны `None`. Реализуйте это двумя способами.\n",
    "\n",
    "1. Напишите функцию, модифицирующую исходный словарь.\n",
    "\n",
    "2. Напишите функцию, создающую новый словарь из старого."
   ]
  },
  {
   "cell_type": "code",
   "execution_count": 6,
   "metadata": {},
   "outputs": [
    {
     "name": "stdout",
     "output_type": "stream",
     "text": [
      "{'name': 'Mary', 'position': 'junior developer'}\n",
      "{'name': 'Mary', 'position': 'junior developer'}\n"
     ]
    }
   ],
   "source": [
    "def modif(D):\n",
    "    for k, v in list(D.items()):\n",
    "        if v is None:\n",
    "            del D[k] \n",
    "    return D\n",
    "            \n",
    "def new(D):\n",
    "    D1 = {}\n",
    "    for k in D:\n",
    "        if D[k] != None:\n",
    "            D1[k] = D[k]\n",
    "           \n",
    "    return D1\n",
    "\n",
    "card = dict(\n",
    "    name='Mary',\n",
    "    surname=None,\n",
    "    age=None,\n",
    "    position='junior developer'\n",
    ")\n",
    "print(modif(card))\n",
    "#print(D)\n",
    "\n",
    "print(new(card))\n",
    "        "
   ]
  },
  {
   "cell_type": "markdown",
   "metadata": {},
   "source": [
    "# Упражнение 4. Применение функции к вложенным объектам\n",
    "\n",
    "Напишите функцию `apply2nested()`, заменяющую все числа из вложенных списков `L` на результат применения к ним заданной функции `f()`. Гарантируется, что в `L` содержатся, только списки и числа. Реализуйте 2 варианта функции `apply2nested()`: \n",
    "\n",
    "1. `apply2nested()` должна менять `L`;\n",
    "\n",
    "2. `apply2nested()` должна создавать новый объект.\n",
    "\n",
    "В первом варианте `apply2nested()`  ничего не возвращает, а во втором варианте возвращает результат применения `f()`. Инструкция `def` для  `apply2nested()` приведена ниже\n",
    "\n",
    "```python\n",
    "def apply2nested(L, f):\n",
    "    pass\n",
    "```\n",
    "\n",
    "### Указания\n",
    "\n",
    "1. Используйте рекурсию\n",
    "\n",
    "2. Проверку того, является ли объект списком, выполните с помощью встроенной функции [`isinstance()`](https://docs.python.org/3/library/functions.html#isinstance). Пример в следующей клетке.\n",
    "\n",
    "| <font size=3>Аргументы `apply2nested()`</font>| <font size=3>Полученный объект</font> |\n",
    "| :--- | :--- |\n",
    "| <font size=3>`L=[2, [3, 4]]`<br>`f=lambda x: x**2`</font> | <font size=3>`[4, [9, 16]]`</font> |"
   ]
  },
  {
   "cell_type": "code",
   "execution_count": 19,
   "metadata": {},
   "outputs": [
    {
     "name": "stdout",
     "output_type": "stream",
     "text": [
      "True\n",
      "True\n"
     ]
    }
   ],
   "source": [
    "l = [1,[2]]\n",
    "a = 1\n",
    "print(isinstance(l, list))\n",
    "print(isinstance(a, int))"
   ]
  },
  {
   "cell_type": "code",
   "execution_count": 8,
   "metadata": {},
   "outputs": [
    {
     "name": "stdout",
     "output_type": "stream",
     "text": [
      "[4]\n"
     ]
    }
   ],
   "source": [
    "def apply2nested(L,f):   \n",
    "    for i in L:\n",
    "        if isinstance(i, int):\n",
    "            L1.append(f(i))\n",
    "           # print(f(i))\n",
    "        if isinstance(i, list):    \n",
    "            #print(i)\n",
    "            apply2nested(i,f)\n",
    "        return L1\n",
    "            \n",
    "L=[2, [3, 4], [5, 6], 7]\n",
    "L1 = []\n",
    "apply2nested(L,f = lambda x: x**2)\n",
    "print(L1)\n",
    "\n"
   ]
  },
  {
   "cell_type": "code",
   "execution_count": 2,
   "metadata": {},
   "outputs": [
    {
     "name": "stdout",
     "output_type": "stream",
     "text": [
      "[]\n"
     ]
    }
   ],
   "source": [
    "def apply2nested(L,f):   \n",
    "    for i in L:\n",
    "        if isinstance(i, int):\n",
    "            i = f(i)\n",
    "           # print(f(i))\n",
    "        if isinstance(i, list):    \n",
    "            #print(i)\n",
    "            apply2nested(i,f)\n",
    "        return L1\n",
    "            \n",
    "L=[2, [3, 4], [5, 6], 7]\n",
    "L1 = []\n",
    "apply2nested(L,f = lambda x: x**2)\n",
    "print(L1)"
   ]
  },
  {
   "cell_type": "markdown",
   "metadata": {},
   "source": [
    "# Упражнение 5\n",
    "\n",
    "Добавьте в функцию `apply2nested()` из упражнения 4 возможность устанавливать максимальную глубину, на которую будет применяться функция `f()`. Для достижения этой цели добавьте в функцию `apply2nested()` аргумент `depth`, определяющий глубину рекурсии (если `depth=0`, то вложенные списки не обрабатываются). То есть если `depth=1`, `f=lambda x: x**2`,  `L=[2, [3, 4]]`, то на выходе должно получится `[4, [3, 4]]`. \n",
    "\n",
    "Если `depth=None`, то `apply2nested()` должна вести себя так, как в упражнении 4, то есть обрабатывать все числа во вложенном объекте.\n",
    "\n",
    "| <font size=3>Аргументы `apply2nested()`</font>| <font size=3>Полученный объект</font> |\n",
    "| :--- | :--- |\n",
    "| <font size=3>`L=[2, [3, 4]]`<br>`f=lambda x: x**2`<br>`depth=1`</font> | <font size=3>`[4, [3, 4]]`</font> |\n",
    "| <font size=3>`L=[2, [3, [4, 5]]]`<br>`f=lambda x: x**2`<br>`depth=2`</font> | <font size=3>`[4, [9, [4, 5]]]`</font> |"
   ]
  },
  {
   "cell_type": "code",
   "execution_count": 5,
   "metadata": {},
   "outputs": [
    {
     "name": "stdout",
     "output_type": "stream",
     "text": [
      "asdcsa2331 00\n",
      "a\n",
      "s\n",
      "d\n",
      "c\n",
      "s\n",
      "a\n",
      "2\n",
      "3\n",
      "3\n",
      "1\n",
      " \n",
      "0\n"
     ]
    }
   ],
   "source": [
    "s = input()\n",
    "for i in range(len(s)-1):\n",
    "    if any(i.isdigit() for i in s):\n",
    "        print(s[i])"
   ]
  },
  {
   "cell_type": "markdown",
   "metadata": {},
   "source": [
    "# Упражнение 6. Шахматная ладья\n",
    "\n",
    "Шахматная ладья ходит по горизонтали или вертикали. Даны две различные клетки шахматной доски, определите, может ли ладья попасть с первой клетки на вторую одним ходом. Программа получает на вход четыре числа от 1 до 8 каждое, задающие номер столбца и номер строки сначала для первой клетки, потом для второй клетки. Программа должна вывести YES, если из первой клетки ходом ладьи можно попасть во вторую или NO в противном случае.\n",
    "\n",
    "Для простоты можно не рассматривать случай, когда данные клетки совпадают.\n",
    "\n",
    "| <font size=3>Входные данные</font>      | <font size=3>Выходные данные</font>    |\n",
    "| :--- | :--- |\n",
    "| <font size=3>1 1 1 8</font> | <font size=3>YES</font> |\n",
    "| <font size=3>3 4 4 3</font> | <font size=3>NO</font> |"
   ]
  },
  {
   "cell_type": "code",
   "execution_count": 13,
   "metadata": {},
   "outputs": [
    {
     "name": "stdout",
     "output_type": "stream",
     "text": [
      "3 4 4 3\n",
      "NO\n"
     ]
    }
   ],
   "source": [
    "a = input().split()\n",
    "if a[1] == a[3] or a[0] == a[2]:\n",
    "    print('YES')\n",
    "else:\n",
    "    print('NO')"
   ]
  },
  {
   "cell_type": "markdown",
   "metadata": {},
   "source": [
    "# Упражнение 7. Симметричная последовательность\n",
    "Последовательность чисел назовем симметричной, если она одинаково читается как слева направо, так и справа налево. Например, следующие последовательности являются симметричными:\n",
    "\n",
    ">1 2 3 4 5 4 3 2 1<br>1 2 1 2 2 1 2 1\n",
    "\n",
    "Вашей программе будет дана последовательность чисел. Требуется определить, какое минимальное количество и каких чисел надо приписать в конец этой последовательности, чтобы она стала симметричной.\n",
    "\n",
    "Программа получает на вход N чисел — элементы последовательности, натуральные числа от 1 до 9.\n",
    "\n",
    "Выведите сначала число M — минимальное количество элементов, которое надо дописать к последовательности, а потом M чисел (каждое от 1 до 9) — числа, которые надо дописать к последовательности."
   ]
  },
  {
   "cell_type": "code",
   "execution_count": 6,
   "metadata": {},
   "outputs": [
    {
     "ename": "KeyboardInterrupt",
     "evalue": "",
     "output_type": "error",
     "traceback": [
      "\u001b[0;31m---------------------------------------------------------------------------\u001b[0m",
      "\u001b[0;31mKeyboardInterrupt\u001b[0m                         Traceback (most recent call last)",
      "\u001b[0;32m~/miniconda3/lib/python3.7/site-packages/ipykernel/kernelbase.py\u001b[0m in \u001b[0;36m_input_request\u001b[0;34m(self, prompt, ident, parent, password)\u001b[0m\n\u001b[1;32m    877\u001b[0m             \u001b[0;32mtry\u001b[0m\u001b[0;34m:\u001b[0m\u001b[0;34m\u001b[0m\u001b[0m\n\u001b[0;32m--> 878\u001b[0;31m                 \u001b[0mident\u001b[0m\u001b[0;34m,\u001b[0m \u001b[0mreply\u001b[0m \u001b[0;34m=\u001b[0m \u001b[0mself\u001b[0m\u001b[0;34m.\u001b[0m\u001b[0msession\u001b[0m\u001b[0;34m.\u001b[0m\u001b[0mrecv\u001b[0m\u001b[0;34m(\u001b[0m\u001b[0mself\u001b[0m\u001b[0;34m.\u001b[0m\u001b[0mstdin_socket\u001b[0m\u001b[0;34m,\u001b[0m \u001b[0;36m0\u001b[0m\u001b[0;34m)\u001b[0m\u001b[0;34m\u001b[0m\u001b[0m\n\u001b[0m\u001b[1;32m    879\u001b[0m             \u001b[0;32mexcept\u001b[0m \u001b[0mException\u001b[0m\u001b[0;34m:\u001b[0m\u001b[0;34m\u001b[0m\u001b[0m\n",
      "\u001b[0;32m~/miniconda3/lib/python3.7/site-packages/jupyter_client/session.py\u001b[0m in \u001b[0;36mrecv\u001b[0;34m(self, socket, mode, content, copy)\u001b[0m\n\u001b[1;32m    802\u001b[0m         \u001b[0;32mtry\u001b[0m\u001b[0;34m:\u001b[0m\u001b[0;34m\u001b[0m\u001b[0m\n\u001b[0;32m--> 803\u001b[0;31m             \u001b[0mmsg_list\u001b[0m \u001b[0;34m=\u001b[0m \u001b[0msocket\u001b[0m\u001b[0;34m.\u001b[0m\u001b[0mrecv_multipart\u001b[0m\u001b[0;34m(\u001b[0m\u001b[0mmode\u001b[0m\u001b[0;34m,\u001b[0m \u001b[0mcopy\u001b[0m\u001b[0;34m=\u001b[0m\u001b[0mcopy\u001b[0m\u001b[0;34m)\u001b[0m\u001b[0;34m\u001b[0m\u001b[0m\n\u001b[0m\u001b[1;32m    804\u001b[0m         \u001b[0;32mexcept\u001b[0m \u001b[0mzmq\u001b[0m\u001b[0;34m.\u001b[0m\u001b[0mZMQError\u001b[0m \u001b[0;32mas\u001b[0m \u001b[0me\u001b[0m\u001b[0;34m:\u001b[0m\u001b[0;34m\u001b[0m\u001b[0m\n",
      "\u001b[0;32m~/miniconda3/lib/python3.7/site-packages/zmq/sugar/socket.py\u001b[0m in \u001b[0;36mrecv_multipart\u001b[0;34m(self, flags, copy, track)\u001b[0m\n\u001b[1;32m    466\u001b[0m         \"\"\"\n\u001b[0;32m--> 467\u001b[0;31m         \u001b[0mparts\u001b[0m \u001b[0;34m=\u001b[0m \u001b[0;34m[\u001b[0m\u001b[0mself\u001b[0m\u001b[0;34m.\u001b[0m\u001b[0mrecv\u001b[0m\u001b[0;34m(\u001b[0m\u001b[0mflags\u001b[0m\u001b[0;34m,\u001b[0m \u001b[0mcopy\u001b[0m\u001b[0;34m=\u001b[0m\u001b[0mcopy\u001b[0m\u001b[0;34m,\u001b[0m \u001b[0mtrack\u001b[0m\u001b[0;34m=\u001b[0m\u001b[0mtrack\u001b[0m\u001b[0;34m)\u001b[0m\u001b[0;34m]\u001b[0m\u001b[0;34m\u001b[0m\u001b[0m\n\u001b[0m\u001b[1;32m    468\u001b[0m         \u001b[0;31m# have first part already, only loop while more to receive\u001b[0m\u001b[0;34m\u001b[0m\u001b[0;34m\u001b[0m\u001b[0m\n",
      "\u001b[0;32mzmq/backend/cython/socket.pyx\u001b[0m in \u001b[0;36mzmq.backend.cython.socket.Socket.recv\u001b[0;34m()\u001b[0m\n",
      "\u001b[0;32mzmq/backend/cython/socket.pyx\u001b[0m in \u001b[0;36mzmq.backend.cython.socket.Socket.recv\u001b[0;34m()\u001b[0m\n",
      "\u001b[0;32mzmq/backend/cython/socket.pyx\u001b[0m in \u001b[0;36mzmq.backend.cython.socket._recv_copy\u001b[0;34m()\u001b[0m\n",
      "\u001b[0;32m~/miniconda3/lib/python3.7/site-packages/zmq/backend/cython/checkrc.pxd\u001b[0m in \u001b[0;36mzmq.backend.cython.checkrc._check_rc\u001b[0;34m()\u001b[0m\n",
      "\u001b[0;31mKeyboardInterrupt\u001b[0m: ",
      "\nDuring handling of the above exception, another exception occurred:\n",
      "\u001b[0;31mKeyboardInterrupt\u001b[0m                         Traceback (most recent call last)",
      "\u001b[0;32m<ipython-input-6-80407b18c270>\u001b[0m in \u001b[0;36m<module>\u001b[0;34m\u001b[0m\n\u001b[0;32m----> 1\u001b[0;31m \u001b[0ma\u001b[0m \u001b[0;34m=\u001b[0m \u001b[0minput\u001b[0m\u001b[0;34m(\u001b[0m\u001b[0;34m)\u001b[0m\u001b[0;34m\u001b[0m\u001b[0m\n\u001b[0m\u001b[1;32m      2\u001b[0m \u001b[0mo\u001b[0m \u001b[0;34m=\u001b[0m \u001b[0;34m[\u001b[0m\u001b[0;34m]\u001b[0m\u001b[0;34m\u001b[0m\u001b[0m\n\u001b[1;32m      3\u001b[0m \u001b[0;32mfor\u001b[0m \u001b[0mi\u001b[0m \u001b[0;32min\u001b[0m \u001b[0mrange\u001b[0m\u001b[0;34m(\u001b[0m\u001b[0mlen\u001b[0m\u001b[0;34m(\u001b[0m\u001b[0ma\u001b[0m\u001b[0;34m)\u001b[0m\u001b[0;34m//\u001b[0m\u001b[0;36m2\u001b[0m\u001b[0;34m,\u001b[0m\u001b[0mlen\u001b[0m\u001b[0;34m(\u001b[0m\u001b[0ma\u001b[0m\u001b[0;34m)\u001b[0m\u001b[0;34m)\u001b[0m\u001b[0;34m:\u001b[0m\u001b[0;34m\u001b[0m\u001b[0m\n\u001b[1;32m      4\u001b[0m     \u001b[0mj\u001b[0m \u001b[0;34m=\u001b[0m \u001b[0;36m1\u001b[0m\u001b[0;34m\u001b[0m\u001b[0m\n\u001b[1;32m      5\u001b[0m     \u001b[0my\u001b[0m \u001b[0;34m=\u001b[0m \u001b[0;36m1\u001b[0m\u001b[0;34m\u001b[0m\u001b[0m\n",
      "\u001b[0;32m~/miniconda3/lib/python3.7/site-packages/ipykernel/kernelbase.py\u001b[0m in \u001b[0;36mraw_input\u001b[0;34m(self, prompt)\u001b[0m\n\u001b[1;32m    851\u001b[0m             \u001b[0mself\u001b[0m\u001b[0;34m.\u001b[0m\u001b[0m_parent_ident\u001b[0m\u001b[0;34m,\u001b[0m\u001b[0;34m\u001b[0m\u001b[0m\n\u001b[1;32m    852\u001b[0m             \u001b[0mself\u001b[0m\u001b[0;34m.\u001b[0m\u001b[0m_parent_header\u001b[0m\u001b[0;34m,\u001b[0m\u001b[0;34m\u001b[0m\u001b[0m\n\u001b[0;32m--> 853\u001b[0;31m             \u001b[0mpassword\u001b[0m\u001b[0;34m=\u001b[0m\u001b[0;32mFalse\u001b[0m\u001b[0;34m,\u001b[0m\u001b[0;34m\u001b[0m\u001b[0m\n\u001b[0m\u001b[1;32m    854\u001b[0m         )\n\u001b[1;32m    855\u001b[0m \u001b[0;34m\u001b[0m\u001b[0m\n",
      "\u001b[0;32m~/miniconda3/lib/python3.7/site-packages/ipykernel/kernelbase.py\u001b[0m in \u001b[0;36m_input_request\u001b[0;34m(self, prompt, ident, parent, password)\u001b[0m\n\u001b[1;32m    881\u001b[0m             \u001b[0;32mexcept\u001b[0m \u001b[0mKeyboardInterrupt\u001b[0m\u001b[0;34m:\u001b[0m\u001b[0;34m\u001b[0m\u001b[0m\n\u001b[1;32m    882\u001b[0m                 \u001b[0;31m# re-raise KeyboardInterrupt, to truncate traceback\u001b[0m\u001b[0;34m\u001b[0m\u001b[0;34m\u001b[0m\u001b[0m\n\u001b[0;32m--> 883\u001b[0;31m                 \u001b[0;32mraise\u001b[0m \u001b[0mKeyboardInterrupt\u001b[0m\u001b[0;34m\u001b[0m\u001b[0m\n\u001b[0m\u001b[1;32m    884\u001b[0m             \u001b[0;32melse\u001b[0m\u001b[0;34m:\u001b[0m\u001b[0;34m\u001b[0m\u001b[0m\n\u001b[1;32m    885\u001b[0m                 \u001b[0;32mbreak\u001b[0m\u001b[0;34m\u001b[0m\u001b[0m\n",
      "\u001b[0;31mKeyboardInterrupt\u001b[0m: "
     ]
    }
   ],
   "source": [
    "a = input()\n",
    "o = []\n",
    "for i in range(len(a)//2,len(a)):\n",
    "    j = 1\n",
    "    y = 1\n",
    "    #print(i)     \n",
    "    while ((i-j) >= 0 and (i+j) <= (len(a)-1) and a[i-j] == a[i+j]):\n",
    "       # print(a[i-j], a[i+j])\n",
    "        j = j + 1  \n",
    "        if i+j == len(a)-1:\n",
    "            o = a[:i-j]\n",
    "            oo = o[::-1]\n",
    "    \n",
    "    while ((i-y+1) >= 0 and (i+y) <= (len(a)-1) and a[i-y+1] == a[i+y]):\n",
    "      #  print(a[i-y+1], a[i+y])\n",
    "        y = y + 1\n",
    "        if i + y == len(a)-1:\n",
    "            o = a[:i-y+1]\n",
    "            oo = o[::-1]\n",
    "    \n",
    "print(oo,len(oo))\n",
    "\n",
    "    "
   ]
  },
  {
   "cell_type": "code",
   "execution_count": null,
   "metadata": {},
   "outputs": [],
   "source": [
    "for i in range(len(s)):\n",
    "    j =0\n",
    "    while sym(s[i-j:i+j+1]):\n",
    "        j += 1\n",
    "    L.append(j)\n",
    "def sym(s):\n",
    "    return s == s[::-1]"
   ]
  },
  {
   "cell_type": "markdown",
   "metadata": {},
   "source": [
    "# "
   ]
  },
  {
   "cell_type": "markdown",
   "metadata": {},
   "source": [
    "# Упражнение 8. Сначала нечетные\n",
    "\n",
    "Дан массив. Отсортировать его так, чтобы сначала шли нечетные по возрастанию, потом четные во убыванию.\n",
    "\n",
    "Вход: на первой строке натуральное нечетное N (N < 100, нечетное) – количество элементов. На второй N элементов.\n",
    "\n",
    "Выход: Отсортированный требуемым образом массив."
   ]
  },
  {
   "cell_type": "code",
   "execution_count": 150,
   "metadata": {},
   "outputs": [
    {
     "name": "stdout",
     "output_type": "stream",
     "text": [
      "1 2 3 4 5\n",
      "введите N элементов1 2 3 4 5\n",
      "1 3 5 4 2\n"
     ]
    }
   ],
   "source": [
    "N = input()\n",
    "a = input('введите N элементов').split()\n",
    "b1 = []\n",
    "b2 = []\n",
    "for i in a:\n",
    "    if int(i)%2 == 0:\n",
    "        b2.append(i)\n",
    "    if int(i)%2 != 0:\n",
    "        b1.append(i)\n",
    "b11 = sorted(b1)\n",
    "b22 = sorted(b2,reverse = True)\n",
    "b = b11+b22\n",
    "print(\" \".join(b))"
   ]
  },
  {
   "cell_type": "markdown",
   "metadata": {},
   "source": [
    "# Упражнение 9. Автомат со сдачей\n",
    "\n",
    "Одна фирма обслуживает автоматы по продаже чая и кофе.\n",
    "\n",
    "Стоимость стакана чая и кофе в автомате равна пяти рублям. Автомат принимает монеты по 5 и 10 рублей, а также купюры в 10, 50 и 100 рублей. Когда покупателю надо выдавать сдачу (т.е. когда пассажир бросил в автомат десятирублёвую монету или 10-, 50- или 100-рублёвую купюру), автомат выдаёт сдачу пятирублёвыми монетами; если же покупатель бросил в автомат пятирублёвую монету, то автомат её сохраняет и может использовать для сдачи следующим покупателям.\n",
    "\n",
    "Ясно, что, чтобы обеспечить возможность выдачи сдачи всем покупателям, может потребоваться изначально загрузить в автомат некоторое количество пятирублёвых монет. Сейчас автоматы проходят испытания с целью определить минимальное количество монет, которые надо загрузить в автомат перед началом дня. Вам дан протокол одного из таких испытаний: известен порядок, в котором покупатели оплачивали свои покупки различными монетами и купюрами. Определите, какое минимальное количество пятирублёвых монет должно было изначально находиться в автомате, чтобы всем покупателям хватило сдачи.\n",
    "\n",
    "В первой строке входных данных находится одно натуральное число N — количество покупок в автомате, которые были совершены в ходе испытания (1≤N≤50000). Во второй строке находятся N натуральных чисел, каждое из которых равно номиналу монеты или купюры, которую использовал очередной покупатель для оплаты; каждый номинал может принимать одно из четырёх значений: 5, 10, 50 или 100.\n",
    "\n",
    "Выведите одно число — минимальное количество пятирублёвых монет, которые надо было загрузить в автомат изначально, чтобы всем покупателям хватило сдачи."
   ]
  },
  {
   "cell_type": "code",
   "execution_count": null,
   "metadata": {
    "collapsed": true
   },
   "outputs": [],
   "source": []
  },
  {
   "cell_type": "markdown",
   "metadata": {},
   "source": [
    "# Упражнение 10. Максимальные подпалиндромы\n",
    "\n",
    "Дана непустая строка, длина которой не превышает 1000000. Требуется для каждой позиции символа в строке найти длину наибольшего палиндрома с центром в этом символе. Строка состоит из букв английского алфавита, большие и маленькие буквы считаются различными. Ограничение времени - 1 секунда.\n",
    "\n",
    "№Входные данные\n",
    "Одна строка длины N, 0 < N ≤ 1000000.\n",
    "\n",
    "Выходные данные\n",
    "N чисел, разделенные пробелами."
   ]
  },
  {
   "cell_type": "code",
   "execution_count": 1,
   "metadata": {},
   "outputs": [
    {
     "name": "stdout",
     "output_type": "stream",
     "text": [
      "asdfgfdsdfgfds\n",
      "1 1 1 1 7 1 1 13 1 1 7 1 1 1\n"
     ]
    }
   ],
   "source": [
    "def sym(s):\n",
    "    return s == s[::-1]\n",
    "s = input()\n",
    "L = []\n",
    "for i in range(len(s)):\n",
    "    j = 0\n",
    "    while sym(s[i-j:i+j+1]) and j <= i and j < len(s)-i:\n",
    "       # print(repr(s[i-j:i+j+1]), i, j)\n",
    "        j += 1\n",
    "    L.append(2*j-1)\n",
    "print(' '.join(map(str,L)))\n",
    "\n"
   ]
  },
  {
   "cell_type": "code",
   "execution_count": null,
   "metadata": {},
   "outputs": [],
   "source": [
    "p(i) = max(j): T[:j] == T[i-j:i]"
   ]
  },
  {
   "cell_type": "code",
   "execution_count": null,
   "metadata": {},
   "outputs": [],
   "source": [
    "abaaaba"
   ]
  },
  {
   "cell_type": "markdown",
   "metadata": {},
   "source": [
    "L = [] \n",
    "for i in range(len(s)):\n",
    "    j =0\n",
    "    while sym(s[i-j:i+j+1]):\n",
    "        j += 1\n",
    "    L.append(j)\n",
    "def sym(s):\n",
    "    return s == s[::-1]"
   ]
  },
  {
   "cell_type": "code",
   "execution_count": 97,
   "metadata": {},
   "outputs": [
    {
     "name": "stdout",
     "output_type": "stream",
     "text": [
      "12345432\n",
      "5 1\n",
      "5 2\n",
      "5 3\n",
      "[1, 1, 1, 1, 7, 1, 1, 1]\n",
      "[0, 0, 0, 0, 0, 0, 0, 0]\n"
     ]
    }
   ],
   "source": [
    "a = input()\n",
    "u=[]\n",
    "m=[]\n",
    "for i in range(len(a)):\n",
    "    t = 0\n",
    "    j = 1\n",
    "    r = 0\n",
    "    y = 1\n",
    "   # print(i) \n",
    "    \n",
    "    while ((i-j) >= 0 and (i+j) <= (len(a)-1) and a[i-j] == a[i+j]):\n",
    "       # print(a[i-j], a[i+j])\n",
    "        j = j + 1\n",
    "        t = t + 1\n",
    "        print(a[i],t)\n",
    "    u.append(t*2+1)\n",
    "    \n",
    "    while ((i-y+1) >= 0 and (i+y) <= (len(a)-1) and a[i-y+1] == a[i+y]):\n",
    "       # print(a[i-y+1], a[i+y])\n",
    "        y = y + 1\n",
    "        r = r + 1\n",
    "        print(a[i],r)\n",
    "    m.append(r*2)\n",
    "    \n",
    "print(u)\n",
    "print(m)\n",
    "    "
   ]
  },
  {
   "cell_type": "code",
   "execution_count": 4,
   "metadata": {},
   "outputs": [
    {
     "name": "stdout",
     "output_type": "stream",
     "text": [
      "thgyuiuyggvdg\n",
      "[0, 0, 0, 0, 0, 3, 0, 0, 0, 0, 0, 0, 0]\n"
     ]
    }
   ],
   "source": [
    "def p(pos,offs,count,end,answ):\n",
    "    if ((pos-offs) >= 0 and (pos+offs) <= (end-1) and a[pos-offs] == a[pos+offs]):\n",
    "       # print(pos, \"yes\")\n",
    "        offs += 1\n",
    "        count += 1\n",
    "        p(pos,offs,count,end,answ)\n",
    "        \n",
    "    elif pos < end :\n",
    "      #  print(pos, \"no\")\n",
    "        answ.append(count)\n",
    "        pos += 1\n",
    "        offs = 1\n",
    "        count = 0\n",
    "        p(pos,offs,count,end,answ)\n",
    "    return(answ)\n",
    "        \n",
    "a = input()\n",
    "endd = len(a)\n",
    "poss = 0\n",
    "offss = 1\n",
    "countt = 0\n",
    "answw = []\n",
    "l = p(poss,offss,countt,endd,answw)\n",
    "print(l)"
   ]
  },
  {
   "cell_type": "code",
   "execution_count": null,
   "metadata": {},
   "outputs": [],
   "source": []
  }
 ],
 "metadata": {
  "kernelspec": {
   "display_name": "Python 3",
   "language": "python",
   "name": "python3"
  },
  "language_info": {
   "codemirror_mode": {
    "name": "ipython",
    "version": 3
   },
   "file_extension": ".py",
   "mimetype": "text/x-python",
   "name": "python",
   "nbconvert_exporter": "python",
   "pygments_lexer": "ipython3",
   "version": "3.7.0"
  }
 },
 "nbformat": 4,
 "nbformat_minor": 2
}
