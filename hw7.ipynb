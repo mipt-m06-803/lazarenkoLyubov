{
 "cells": [
  {
   "cell_type": "markdown",
   "metadata": {},
   "source": [
    "# Упражнение 1. От А до B\n",
    "\n",
    "Даны два целых числа A и В (каждое в отдельной строке). Выведите все числа от A до B включительно, в порядке возрастания, если A < B, или в порядке убывания в противном случае."
   ]
  },
  {
   "cell_type": "code",
   "execution_count": 11,
   "metadata": {},
   "outputs": [
    {
     "name": "stdout",
     "output_type": "stream",
     "text": [
      "[4, 3, 2, 1]\n"
     ]
    }
   ],
   "source": [
    "def g(A,B):\n",
    "    k = []\n",
    "    if A<B:\n",
    "        for i in range(A,B+1):\n",
    "            k.append(i) \n",
    "    else:\n",
    "        for i in range(A,B-1,-1):\n",
    "            k.append(i)\n",
    "    \n",
    "    return k\n",
    "    \n",
    "print(g(4,1))"
   ]
  },
  {
   "cell_type": "code",
   "execution_count": 64,
   "metadata": {},
   "outputs": [
    {
     "name": "stdout",
     "output_type": "stream",
     "text": [
      "2\n",
      "3\n",
      "4\n",
      "5\n",
      "6\n",
      "7\n",
      "8\n",
      "9\n"
     ]
    }
   ],
   "source": [
    "def g(A,B):\n",
    "    if A ==B:\n",
    "        print(A)\n",
    "    elif A < B:\n",
    "        print(A)\n",
    "        g(A+1,B)\n",
    "    else:\n",
    "        print(A)\n",
    "        g(A-1,B)\n",
    "g(2,9)"
   ]
  },
  {
   "cell_type": "markdown",
   "metadata": {},
   "source": [
    "# Упражнение 2. Проверка на простоту\n",
    "Дано натуральное число $n>1$. Проверьте, является ли оно простым. Программа должна вывести слово YES, если число простое и NO, если число составное. Алгоритм должен иметь сложность $O(n^\\frac{1}{2})$.\n",
    "\n",
    "Указание. Понятно, что задача сама по себе нерекурсивна, т.к. проверка числа $n$ на простоту никак не сводится к проверке на простоту меньших чисел. Поэтому нужно сделать еще один параметр рекурсии: делитель числа, и именно по этому параметру и делать рекурсию."
   ]
  },
  {
   "cell_type": "code",
   "execution_count": 41,
   "metadata": {},
   "outputs": [
    {
     "ename": "RecursionError",
     "evalue": "maximum recursion depth exceeded in comparison",
     "output_type": "error",
     "traceback": [
      "\u001b[0;31m---------------------------------------------------------------------------\u001b[0m",
      "\u001b[0;31mRecursionError\u001b[0m                            Traceback (most recent call last)",
      "\u001b[0;32m<ipython-input-41-05ab051f4137>\u001b[0m in \u001b[0;36m<module>\u001b[0;34m\u001b[0m\n\u001b[1;32m      6\u001b[0m     \u001b[0;32mreturn\u001b[0m \u001b[0mcheck\u001b[0m\u001b[0;34m(\u001b[0m\u001b[0mN\u001b[0m\u001b[0;34m,\u001b[0m\u001b[0md\u001b[0m\u001b[0;34m+\u001b[0m\u001b[0;36m1\u001b[0m\u001b[0;34m)\u001b[0m\u001b[0;34m\u001b[0m\u001b[0m\n\u001b[1;32m      7\u001b[0m \u001b[0;34m\u001b[0m\u001b[0m\n\u001b[0;32m----> 8\u001b[0;31m \u001b[0mprint\u001b[0m\u001b[0;34m(\u001b[0m\u001b[0mcheck\u001b[0m\u001b[0;34m(\u001b[0m\u001b[0;36m37\u001b[0m\u001b[0;34m)\u001b[0m\u001b[0;34m)\u001b[0m\u001b[0;34m\u001b[0m\u001b[0m\n\u001b[0m\u001b[1;32m      9\u001b[0m \u001b[0;34m\u001b[0m\u001b[0m\n",
      "\u001b[0;32m<ipython-input-41-05ab051f4137>\u001b[0m in \u001b[0;36mcheck\u001b[0;34m(N, d)\u001b[0m\n\u001b[1;32m      4\u001b[0m     \u001b[0;32mif\u001b[0m \u001b[0mn\u001b[0m\u001b[0;34m%\u001b[0m\u001b[0md\u001b[0m \u001b[0;34m==\u001b[0m \u001b[0;36m0\u001b[0m\u001b[0;34m:\u001b[0m\u001b[0;34m\u001b[0m\u001b[0m\n\u001b[1;32m      5\u001b[0m         \u001b[0;32mreturn\u001b[0m \u001b[0;34m'NO'\u001b[0m\u001b[0;34m\u001b[0m\u001b[0m\n\u001b[0;32m----> 6\u001b[0;31m     \u001b[0;32mreturn\u001b[0m \u001b[0mcheck\u001b[0m\u001b[0;34m(\u001b[0m\u001b[0mN\u001b[0m\u001b[0;34m,\u001b[0m\u001b[0md\u001b[0m\u001b[0;34m+\u001b[0m\u001b[0;36m1\u001b[0m\u001b[0;34m)\u001b[0m\u001b[0;34m\u001b[0m\u001b[0m\n\u001b[0m\u001b[1;32m      7\u001b[0m \u001b[0;34m\u001b[0m\u001b[0m\n\u001b[1;32m      8\u001b[0m \u001b[0mprint\u001b[0m\u001b[0;34m(\u001b[0m\u001b[0mcheck\u001b[0m\u001b[0;34m(\u001b[0m\u001b[0;36m37\u001b[0m\u001b[0;34m)\u001b[0m\u001b[0;34m)\u001b[0m\u001b[0;34m\u001b[0m\u001b[0m\n",
      "... last 1 frames repeated, from the frame below ...\n",
      "\u001b[0;32m<ipython-input-41-05ab051f4137>\u001b[0m in \u001b[0;36mcheck\u001b[0;34m(N, d)\u001b[0m\n\u001b[1;32m      4\u001b[0m     \u001b[0;32mif\u001b[0m \u001b[0mn\u001b[0m\u001b[0;34m%\u001b[0m\u001b[0md\u001b[0m \u001b[0;34m==\u001b[0m \u001b[0;36m0\u001b[0m\u001b[0;34m:\u001b[0m\u001b[0;34m\u001b[0m\u001b[0m\n\u001b[1;32m      5\u001b[0m         \u001b[0;32mreturn\u001b[0m \u001b[0;34m'NO'\u001b[0m\u001b[0;34m\u001b[0m\u001b[0m\n\u001b[0;32m----> 6\u001b[0;31m     \u001b[0;32mreturn\u001b[0m \u001b[0mcheck\u001b[0m\u001b[0;34m(\u001b[0m\u001b[0mN\u001b[0m\u001b[0;34m,\u001b[0m\u001b[0md\u001b[0m\u001b[0;34m+\u001b[0m\u001b[0;36m1\u001b[0m\u001b[0;34m)\u001b[0m\u001b[0;34m\u001b[0m\u001b[0m\n\u001b[0m\u001b[1;32m      7\u001b[0m \u001b[0;34m\u001b[0m\u001b[0m\n\u001b[1;32m      8\u001b[0m \u001b[0mprint\u001b[0m\u001b[0;34m(\u001b[0m\u001b[0mcheck\u001b[0m\u001b[0;34m(\u001b[0m\u001b[0;36m37\u001b[0m\u001b[0;34m)\u001b[0m\u001b[0;34m)\u001b[0m\u001b[0;34m\u001b[0m\u001b[0m\n",
      "\u001b[0;31mRecursionError\u001b[0m: maximum recursion depth exceeded in comparison"
     ]
    }
   ],
   "source": [
    "def check(N,d = 2):\n",
    "    #for i in range(2,n):\n",
    "    #print(i)\n",
    "    if n%d == 0:\n",
    "        return 'NO'\n",
    "    return check(N,d+1)\n",
    "\n",
    "print(check(37))\n",
    "        "
   ]
  },
  {
   "cell_type": "markdown",
   "metadata": {},
   "source": [
    "# Упражнение 3. Количество единиц \n",
    "Дана последовательность натуральных чисел (одно число в строке), завершающаяся двумя числами 0 подряд. Определите, сколько раз в этой последовательности встречается число 1. Числа, идущие после двух нулей, необходимо игнорировать.\n",
    "\n",
    "В этой задаче нельзя использовать глобальные переменные и параметры, передаваемые в функцию. Функция получает данные, считывая их с клавиатуры, а не получая их в виде параметров."
   ]
  },
  {
   "cell_type": "code",
   "execution_count": 79,
   "metadata": {},
   "outputs": [
    {
     "name": "stdout",
     "output_type": "stream",
     "text": [
      "1\n",
      "1\n",
      "0\n",
      "0\n",
      "2\n"
     ]
    }
   ],
   "source": [
    "def count_ones(counter = 0, patience = 0):\n",
    "    x = int(input())\n",
    "    if x == 1:\n",
    "        counter += 1\n",
    "        patience = 0\n",
    "    else:\n",
    "        if x == 0:\n",
    "            patience += 1\n",
    "        else:\n",
    "            patience = 0\n",
    "        if patience > 1:\n",
    "            return counter\n",
    "    return count_ones(counter,patience)\n",
    "print(count_ones())"
   ]
  },
  {
   "cell_type": "markdown",
   "metadata": {},
   "source": [
    "# Упражнение 4. Треугольная последовательность\n",
    "\n",
    "Дана монотонная последовательность, в которой каждое натуральное число $k$ встречается ровно $k$ раз:\n",
    "```\n",
    "1, 2, 2, 3, 3, 3, 4, 4, 4, 4,…\n",
    "```\n",
    "По данному натуральному $n$ выведите первые $n$ членов этой последовательности. Попробуйте обойтись только одним циклом for."
   ]
  },
  {
   "cell_type": "code",
   "execution_count": 90,
   "metadata": {},
   "outputs": [
    {
     "name": "stdout",
     "output_type": "stream",
     "text": [
      "1\n",
      "2\n",
      "2\n",
      "3\n",
      "3\n"
     ]
    }
   ],
   "source": [
    "def tr(n,k=1):\n",
    "    C = (k-1)*k//2\n",
    "    c = 0\n",
    "    while (C + c) < n and c < k:\n",
    "        print(k)\n",
    "        c += 1\n",
    "    if C + c >= n:\n",
    "        return None\n",
    "    tr(n,k+1)\n",
    "        \n",
    "tr(5)\n"
   ]
  },
  {
   "cell_type": "markdown",
   "metadata": {},
   "source": [
    "# Упражнение 5. Сиракузская последовательность.\n",
    "Распечатайте [сиракузскую последовательность](https://ru.wikipedia.org/wiki/%D0%93%D0%B8%D0%BF%D0%BE%D1%82%D0%B5%D0%B7%D0%B0_%D0%9A%D0%BE%D0%BB%D0%BB%D0%B0%D1%82%D1%86%D0%B0) для произвольного начального $n$, используя рекурсию."
   ]
  },
  {
   "cell_type": "code",
   "execution_count": 3,
   "metadata": {},
   "outputs": [
    {
     "name": "stdout",
     "output_type": "stream",
     "text": [
      "3\n",
      "10\n",
      "5.0\n",
      "16.0\n",
      "8.0\n",
      "4.0\n",
      "2.0\n",
      "1.0\n",
      "16.0\n",
      "8.0\n",
      "4.0\n",
      "2.0\n",
      "1.0\n",
      "None\n",
      "10\n",
      "5.0\n",
      "16.0\n",
      "8.0\n",
      "4.0\n",
      "2.0\n",
      "1.0\n",
      "16.0\n",
      "8.0\n",
      "4.0\n",
      "2.0\n",
      "1.0\n",
      "None\n",
      "None\n"
     ]
    }
   ],
   "source": [
    "def sir(n):\n",
    "    print(n)\n",
    "    if n%2 == 0:        \n",
    "        if n != 1:\n",
    "            sir(n/2)\n",
    "    elif n == 1:\n",
    "        return n\n",
    "    else:\n",
    "        sir(3*n+1)\n",
    "        print(sir(3*n+1))\n",
    "    \n",
    "sir(3)"
   ]
  },
  {
   "cell_type": "markdown",
   "metadata": {},
   "source": [
    "# Упражнение 6. Быстрое возведение в степень\n",
    "\n",
    "1. Реализуйте функцию `pow_c()`, вычисляющую натуральные степени $a^N$, $N \\in \\mathbb{N}$. Вычисление должно производиться простейшим образом в цикле без использования рекурсии.\n",
    "\n",
    "2. Реализуйте функцию `pow_r()`, для вычисления натуральные степени с помощью рекурсии.\n",
    "\n",
    "3. Реализуйте функцию `pow_fast_c()`, вычисляющую натуральные степени числа $a$. Вычисление должно производиться без использования рекурсии. **Оптимизируйте алгоритм с помощью перевода $N$ в двоичную систему счисления.** Пусть требуется вычислить $a^N$. Натуральное число $N$ в двоичной системе счисления имеет вид  $\\alpha_k \\alpha_{k-1} ... \\alpha_0$, где $\\left\\lbrace \\alpha_i \\right\\rbrace^k_{i=0}$ - цифры в двоичной системе счисления. Получаем \n",
    "$$\\large {a^N = a^{\\sum_{i=0}^k \\alpha_i 2^i} = \\displaystyle\\prod_{i=0}^k \\left(a^\\left(2^i\\right)\\right)^{\\alpha_i}}.$$\n",
    "Рассмотрим более пристально выражение $a^\\left(2^i\\right)$. Легко видеть, что\n",
    "$$\\large{a^\\left(2^{i-1}\\right) \\cdot a^\\left(2^{i-1}\\right) = a^{2^{i-1} + 2^{i-1}} = a^{2 \\cdot 2^{i-1}} = a^\\left(2^i\\right)}$$\n",
    "Таким образом, при вычилении  натуральной степени числа $a$ должен производится перевод показателя степени $N$ из десятичной системы счисления в двоичную. Если результат собирается в переменной $pow$, то  на итерации цикла вместо добавления разряда в двоичную запись $N$ в $pow$ умножается на $a^{\\alpha_i 2^i}$. На каждой итерации с помощью формулы\n",
    "$$\\large{a^\\left(2^i\\right) = a^\\left(2^{i-1}\\right) \\cdot a^\\left(2^{i-1}\\right)}$$\n",
    "Пересчитывается $a^\\left(2^i\\right)$.\n",
    "\n",
    "4. Реализуйте рекурсивную функцию для вычисления $a^N$, использующую оптимизацию из пункта 3.\n",
    "\n",
    "5. Определите число операций умножения, которое требуется выполнить для возведения $a$ в степень $N$ при использовании каждого из подходов.\n",
    "\n",
    "6. Определите скорость работы каждого из алгоритмов. Пример того, как это можно сделать есть в следующей клетке.\n",
    "\n",
    "7. Как Вы сичтаете, возможно ли повысить эффективность алгоритма из пункта 3, если переводить $N$ в систему счисления с большим основанием? Ответ обоснуйте."
   ]
  },
  {
   "cell_type": "code",
   "execution_count": 1,
   "metadata": {},
   "outputs": [
    {
     "name": "stderr",
     "output_type": "stream",
     "text": [
      "/Users/admin/miniconda3/lib/python3.7/site-packages/ipykernel_launcher.py:3: DeprecationWarning: time.clock has been deprecated in Python 3.3 and will be removed from Python 3.8: use time.perf_counter or time.process_time instead\n",
      "  This is separate from the ipykernel package so we can avoid doing imports until\n"
     ]
    },
    {
     "name": "stdout",
     "output_type": "stream",
     "text": [
      "Среднее время вычисления факториала: 0.0001555209999999998\n"
     ]
    },
    {
     "name": "stderr",
     "output_type": "stream",
     "text": [
      "/Users/admin/miniconda3/lib/python3.7/site-packages/ipykernel_launcher.py:7: DeprecationWarning: time.clock has been deprecated in Python 3.3 and will be removed from Python 3.8: use time.perf_counter or time.process_time instead\n",
      "  import sys\n"
     ]
    }
   ],
   "source": [
    "import math\n",
    "import time\n",
    "start = time.clock()\n",
    "N = 1000\n",
    "for _ in range(N):\n",
    "    math.factorial(N)\n",
    "print(\"Среднее время вычисления факториала:\", (time.clock() - start) / N)"
   ]
  },
  {
   "cell_type": "code",
   "execution_count": 8,
   "metadata": {},
   "outputs": [
    {
     "name": "stdout",
     "output_type": "stream",
     "text": [
      "2\n",
      "2\n",
      "4\n"
     ]
    }
   ],
   "source": [
    "def pow_c(): \n",
    "    n = 1\n",
    "    a = int(input())\n",
    "    while n != N:\n",
    "        a = a*a\n",
    "        n += 1\n",
    "    return a    \n",
    "    \n",
    "N = int(input())\n",
    "\n",
    "print(pow_c())"
   ]
  },
  {
   "cell_type": "code",
   "execution_count": 16,
   "metadata": {},
   "outputs": [
    {
     "name": "stdout",
     "output_type": "stream",
     "text": [
      "2\n",
      "2\n",
      "4\n"
     ]
    }
   ],
   "source": [
    "def pow_r(n,a):\n",
    "    if n != N:   \n",
    "        a = a*a\n",
    "        pow_r(n+1,a)\n",
    "    return a\n",
    "\n",
    "a = int(input())\n",
    "N = int(input())\n",
    "n = 1\n",
    "print(pow_r(n,a))"
   ]
  },
  {
   "cell_type": "markdown",
   "metadata": {},
   "source": [
    "# Упражнение 7. Проверка правильности скобочной последовательности\n",
    "\n",
    "На вход подается строка, состоящая из символов `'('`, `')'`, `'['`, `']'`, `'{'`, `'}'`. Проверьте, является скобочная последовательность правильной, т. е. все ли скобки корректно закрыты.\n",
    "\n",
    "| <font size=3>Входные данные</font> | <font size=3>Выходные данные</font>    |\n",
    "| :--- | :--- |\n",
    "| <font size=3>((</font> | <font size=3>False</font> |\n",
    "| <font size=3>()</font> | <font size=3>True</font> |\n",
    "| <font size=3>([)]</font> | <font size=3>False</font> |\n",
    "| <font size=3>(){[]}</font> | <font size=3>True</font> |"
   ]
  },
  {
   "cell_type": "code",
   "execution_count": 37,
   "metadata": {},
   "outputs": [
    {
     "name": "stdout",
     "output_type": "stream",
     "text": [
      "))\n",
      "-1\n"
     ]
    }
   ],
   "source": [
    "def f(y,a,i):\n",
    "    if i == (len(a) - 1):\n",
    "        if y == 0:\n",
    "            return True\n",
    "        else:\n",
    "            return False\n",
    "       \n",
    "    if a[i] == '(' or a[i] == '[' or a[i] == '{':\n",
    "       # print(a[i])\n",
    "        y += 1   \n",
    "    if a[i] == ')' or a[i] == ']' or a[i]== '}':\n",
    "        y -= 1    \n",
    "    print(y)\n",
    "    f(y,a, i+1)\n",
    "f(0,input(),0)    "
   ]
  },
  {
   "cell_type": "code",
   "execution_count": null,
   "metadata": {},
   "outputs": [],
   "source": []
  },
  {
   "cell_type": "code",
   "execution_count": null,
   "metadata": {},
   "outputs": [],
   "source": []
  }
 ],
 "metadata": {
  "kernelspec": {
   "display_name": "Python 3",
   "language": "python",
   "name": "python3"
  },
  "language_info": {
   "codemirror_mode": {
    "name": "ipython",
    "version": 3
   },
   "file_extension": ".py",
   "mimetype": "text/x-python",
   "name": "python",
   "nbconvert_exporter": "python",
   "pygments_lexer": "ipython3",
   "version": "3.7.0"
  }
 },
 "nbformat": 4,
 "nbformat_minor": 2
}
