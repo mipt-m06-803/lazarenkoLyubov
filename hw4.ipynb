{
 "cells": [
  {
   "cell_type": "markdown",
   "metadata": {},
   "source": [
    "### Упражнение 1. Простые упражнения на списки\n",
    "\n",
    "Каждая из задач должна быть решена в одну строку. Список чисел `list_` уже введён.\n",
    "\n",
    "Используйте метод [`list.index`](https://docs.python.org/3/library/stdtypes.html#common-sequence-operations) и срезы ([lab2](https://github.com/mipt-cs/python-biocad/blob/master/lab2.ipynb), [питонтьютор](http://pythontutor.ru/lessons/lists/)) и встроенную функцию [`max`](https://docs.python.org/3/library/functions.html#max).\n",
    "\n",
    "1. Найдите наибольший элемент в списке. Выведите значение элемента и его индекс.\n",
    "\n",
    "| <font size=3>входные данные</font> | <font size=3>выходные данные</font> |\n",
    "| :---: | :---: |\n",
    "| <font size=3>1 2 3 2 1</font> | <font size=3>3 2</font> |\n",
    "\n",
    "2. Выведите список в обратном порядке.\n",
    "\n",
    "| <font size=3>входные данные</font> | <font size=3>выходные данные</font> |\n",
    "| :---: | :---: |\n",
    "| <font size=3>1 2 3 4 5</font> | <font size=3>5 4 3 2 1</font> |"
   ]
  },
  {
   "cell_type": "code",
   "execution_count": 3,
   "metadata": {},
   "outputs": [
    {
     "name": "stdout",
     "output_type": "stream",
     "text": [
      "1 2 3 4\n",
      "4 3\n",
      "[4, 3, 2, 1]\n"
     ]
    }
   ],
   "source": [
    "list_ = [int(elem) for elem in input().split()]\n",
    "print(max(list_), list_.index(max(list_)))\n",
    "print(list_[::-1])"
   ]
  },
  {
   "cell_type": "markdown",
   "metadata": {},
   "source": [
    "### Упражнение 2. Простые упражнения на генераторы списков\n",
    "\n",
    "Про генераторы списков здесь: [lab2](https://github.com/mipt-cs/python-biocad/blob/master/lab2.ipynb), [питонтьютор](http://pythontutor.ru/lessons/lists/).\n",
    "\n",
    "Задачи должны решаться в одну строчку.\n",
    "\n",
    "1. Выведите элементы списка с четными индексами\n",
    "\n",
    "| <font size=3>входные данные</font> | <font size=3>выходные данные</font> |\n",
    "| :---: | :---: |\n",
    "| <font size=3>2 4 6 8 10</font> | <font size=3>2 6 10</font> |\n",
    "\n",
    "2. Создайте список из первых 20 чисел, кратных 3.\n",
    "\n",
    "3. Создайте список всех делителей натурального числа `N`."
   ]
  },
  {
   "cell_type": "code",
   "execution_count": 35,
   "metadata": {},
   "outputs": [
    {
     "name": "stdout",
     "output_type": "stream",
     "text": [
      "2 4 6 8 10\n",
      "[2, 6, 10]\n"
     ]
    }
   ],
   "source": [
    "print([int(elem) for elem in input().split()[::2]])\n"
   ]
  },
  {
   "cell_type": "code",
   "execution_count": 23,
   "metadata": {},
   "outputs": [
    {
     "name": "stdout",
     "output_type": "stream",
     "text": [
      "[3, 6, 9, 12, 15, 18, 21, 24, 27, 30, 33, 36, 39, 42, 45, 48, 51, 54, 57, 60]\n"
     ]
    }
   ],
   "source": [
    "print([int(elem) for elem in range(3,63)[::3]])\n"
   ]
  },
  {
   "cell_type": "code",
   "execution_count": 33,
   "metadata": {},
   "outputs": [
    {
     "name": "stdout",
     "output_type": "stream",
     "text": [
      "[1, 2, 4, 5, 10]\n"
     ]
    }
   ],
   "source": [
    "print([int(elem) for elem in range(1,N) if N%elem == 0])"
   ]
  },
  {
   "cell_type": "markdown",
   "metadata": {},
   "source": [
    "### Упражнение 3. Генераторы списков и словарей\n",
    "\n",
    "Ниже приведен код, в котором создается словарь, ключами которого, являются целые числа, а значениями квадраты этих чисел. Перепишите код так, чтобы для преобразования входной строки в список целых чисел использовался генератор списков, а для создания словаря - генератор словарей (см. [lab2](https://github.com/mipt-cs/python-biocad/blob/master/lab2.ipynb)).\n",
    "\n",
    " На вход программе подается строка из целых чисел, разделенных пробелами."
   ]
  },
  {
   "cell_type": "code",
   "execution_count": 36,
   "metadata": {},
   "outputs": [
    {
     "name": "stdout",
     "output_type": "stream",
     "text": [
      "1 2 3 4 6 8 \n",
      "{1: 1, 2: 4, 3: 9, 4: 16, 6: 36, 8: 64}\n"
     ]
    }
   ],
   "source": [
    "l = []\n",
    "for num in input().split():\n",
    "    l.append(int(num))\n",
    "squares = {}\n",
    "for num in l:\n",
    "    squares[num] = num**2\n",
    "print(squares)"
   ]
  },
  {
   "cell_type": "code",
   "execution_count": 44,
   "metadata": {},
   "outputs": [
    {
     "name": "stdout",
     "output_type": "stream",
     "text": [
      "1 2 3 4\n"
     ]
    },
    {
     "ename": "NameError",
     "evalue": "name 'elem' is not defined",
     "output_type": "error",
     "traceback": [
      "\u001b[0;31m---------------------------------------------------------------------------\u001b[0m",
      "\u001b[0;31mNameError\u001b[0m                                 Traceback (most recent call last)",
      "\u001b[0;32m<ipython-input-44-7fdb2bdf577d>\u001b[0m in \u001b[0;36m<module>\u001b[0;34m\u001b[0m\n\u001b[1;32m      1\u001b[0m \u001b[0ml\u001b[0m \u001b[0;34m=\u001b[0m \u001b[0;34m[\u001b[0m\u001b[0mint\u001b[0m\u001b[0;34m(\u001b[0m\u001b[0melem\u001b[0m\u001b[0;34m)\u001b[0m \u001b[0;32mfor\u001b[0m \u001b[0melem\u001b[0m \u001b[0;32min\u001b[0m \u001b[0minput\u001b[0m\u001b[0;34m(\u001b[0m\u001b[0;34m)\u001b[0m\u001b[0;34m.\u001b[0m\u001b[0msplit\u001b[0m\u001b[0;34m(\u001b[0m\u001b[0;34m)\u001b[0m\u001b[0;34m]\u001b[0m\u001b[0;34m\u001b[0m\u001b[0m\n\u001b[0;32m----> 2\u001b[0;31m \u001b[0md\u001b[0m \u001b[0;34m=\u001b[0m \u001b[0;34m{\u001b[0m\u001b[0ml\u001b[0m\u001b[0;34m[\u001b[0m\u001b[0melem\u001b[0m\u001b[0;34m]\u001b[0m\u001b[0;34m:\u001b[0m \u001b[0melem\u001b[0m\u001b[0;34m**\u001b[0m\u001b[0;36m2\u001b[0m\u001b[0;34m}\u001b[0m\u001b[0;34m\u001b[0m\u001b[0m\n\u001b[0m",
      "\u001b[0;31mNameError\u001b[0m: name 'elem' is not defined"
     ]
    }
   ],
   "source": [
    "l = [int(elem) for elem in input().split()]\n",
    "d = {l[elem]: elem**2}\n"
   ]
  },
  {
   "cell_type": "markdown",
   "metadata": {},
   "source": [
    "### Упражнение 4. Множественное присваивание.\n",
    "\n",
    "Ниже приведена функция для вычисления n-го числа Фибоначчи. Модифицируйте ее так, чтобы в теле цикла было только одно выражение. Используйте множественное присваивание для `prev` и `next_`."
   ]
  },
  {
   "cell_type": "code",
   "execution_count": 49,
   "metadata": {},
   "outputs": [
    {
     "name": "stdout",
     "output_type": "stream",
     "text": [
      "1\n",
      "1\n",
      "1\n",
      "2\n",
      "3\n",
      "5\n",
      "8\n",
      "13\n",
      "21\n",
      "34\n",
      "55\n",
      "89\n",
      "144\n",
      "233\n",
      "377\n",
      "610\n",
      "987\n",
      "1597\n",
      "2584\n",
      "4181\n"
     ]
    }
   ],
   "source": [
    "def fib(n):\n",
    "    prev = 1\n",
    "    next_ = 1\n",
    "    for _ in range(n - 2):\n",
    "        prev,next_ = next_,prev + next_\n",
    "    return next_\n",
    "\n",
    "for i in range(20):\n",
    "    print(fib(i))"
   ]
  },
  {
   "cell_type": "code",
   "execution_count": 48,
   "metadata": {},
   "outputs": [
    {
     "name": "stdout",
     "output_type": "stream",
     "text": [
      "1\n",
      "1\n",
      "1\n",
      "2\n",
      "3\n",
      "5\n",
      "8\n",
      "13\n",
      "21\n",
      "34\n",
      "55\n",
      "89\n",
      "144\n",
      "233\n",
      "377\n",
      "610\n",
      "987\n",
      "1597\n",
      "2584\n",
      "4181\n"
     ]
    }
   ],
   "source": [
    "def fib(n):\n",
    "    prev = 1\n",
    "    next_ = 1\n",
    "    for _ in range(n - 2):\n",
    "        tmp = prev + next_\n",
    "        prev = next_\n",
    "        next_ = tmp\n",
    "    return next_\n",
    "\n",
    "for i in range(20):\n",
    "    print(fib(i))"
   ]
  },
  {
   "cell_type": "markdown",
   "metadata": {},
   "source": [
    "### Упражнение 5. Уникальные элементы в списке\n",
    "\n",
    "Выведите элементы, которые встречаются в списке только один раз. Элементы нужно выводить в том порядке, в котором они встречаются в списке. Список `list_` уже введен. Задача решается в одну строчку с использованием генератора списка и метода [`list.count`](https://docs.python.org/3/tutorial/datastructures.html#more-on-lists)."
   ]
  },
  {
   "cell_type": "code",
   "execution_count": null,
   "metadata": {},
   "outputs": [],
   "source": [
    "list_ = [int(elem) for elem in input().split()]\n",
    "print(list_.count)\n"
   ]
  },
  {
   "cell_type": "markdown",
   "metadata": {},
   "source": [
    "### Упражнение 6. Изменение подсписка\n",
    "На вход программе подаются 2 списка целых чисел `L1` и `L2`. Замените все подсписки `L1`, равные список `L2`, на  записанный в обратном порядке `L2`. Если 2 подсписка из `L1`, равные `L2` пересекаются, заменить следует тот подсписок, находящийся ближе к началу `L1`.\n",
    "\n",
    "\n",
    "Решите задачу двумя способами:\n",
    "  \n",
    "  - с помощью сравнения `L2` со срезами `L1` и изменения списка срезом (см. [lab2](https://github.com/mipt-cs/python-biocad/blob/master/lab2.ipynb), [хабр](https://habr.com/post/319200/#2)),\n",
    "\n",
    "  - преобразованием списков `L1` и `L2` в строки `S1` и `S2` с последующей заменой подстрок строки `S1`, равных `S2`, с помощью метода [`str.replace`](https://docs.python.org/3/library/stdtypes.html#str.replace).\n",
    "  \n",
    "| <font size=3>входные данные</font> | <font size=3>выходные данные</font> |\n",
    "| :---: | :---: |\n",
    "| <font size=3>1 2 3 4 5 6<br>2 3 4</font> | <font size=3>1 4 3 2 5 6</font> |\n",
    "| <font size=3>0 1 2 1 2 1 2 0 0 0<br>1 2 1 2</font> | <font size=3>0 2 1 2 1 1 2 0 0 0</font> |\n",
    "| <font size=3>0 1 2 1 2 2 0 0 0<br>1 2 1 2</font> | <font size=3>0 2 1 2 1 2 0 0 0</font> |\n",
    "| <font size=3>0 1 2 0 1 2 0 1 2 0<br>1 2</font> | <font size=3>0 2 1 0 2 1 0 2 1 0</font> |\n",
    "| <font size=3>0 10 11 12 0 0<br>10 11</font> | <font size=3>0 11 10 12 0 0</font> |"
   ]
  },
  {
   "cell_type": "code",
   "execution_count": 8,
   "metadata": {},
   "outputs": [
    {
     "name": "stdout",
     "output_type": "stream",
     "text": [
      "1 2 3 4 5 6\n",
      "2 3 4\n",
      "[1, 4, 3, 2, 5, 6]\n"
     ]
    }
   ],
   "source": [
    "L1 = [int(elem) for elem in input().split()]\n",
    "L2 = [int(elem) for elem in input().split()]\n",
    "#m = enumerate(L1)\n",
    "for elem in range(0,len(L1)):\n",
    "    for elem1 in range(elem,len(L1)):\n",
    "        if L1[elem:elem1] == L2:\n",
    "            L2 = L2[::-1]  \n",
    "            L1[elem:elem1] = L2\n",
    "print(L1)\n",
    "    \n",
    "\n",
    "\n",
    "        "
   ]
  },
  {
   "cell_type": "code",
   "execution_count": null,
   "metadata": {},
   "outputs": [],
   "source": [
    "L1 = [(elem) for elem in input().split()]\n",
    "L2 = [(elem) for elem in input().split()]\n",
    "s1 = ''.join(L1)\n",
    "s2 = ''.join(L2)\n",
    "s3 = s2[::-1]\n",
    "if s2 in s1: \n",
    "    s2.replace(s1,s3)\n",
    "#s1 += \n",
    "print(s1,s2,s3)\n"
   ]
  },
  {
   "cell_type": "code",
   "execution_count": 1,
   "metadata": {},
   "outputs": [
    {
     "name": "stdout",
     "output_type": "stream",
     "text": [
      "\n",
      "testing not empty string s:\n",
      "True\n",
      "\n",
      "testing not empty list l:\n",
      "True\n",
      "\n",
      "testing not empty tuple t:\n",
      "True\n",
      "\n",
      "testing not empty set st:\n",
      "True\n",
      "\n",
      "testing not empty dict d:\n",
      "True\n"
     ]
    }
   ],
   "source": [
    "s = 'abc'  # не пустая строка\n",
    "l = [-1]  # не пустой список\n",
    "t = (1, 2)  # не пустой кортеж\n",
    "st = {'a', 'b'}  # не пустое множество\n",
    "d = {'a': 1}  # не пустой словарь\n",
    "print(\"\\ntesting not empty string s:\")\n",
    "if s:\n",
    "    print(\"True\")\n",
    "else:\n",
    "    print(\"False\")\n",
    "print(\"\\ntesting not empty list l:\")\n",
    "if l:\n",
    "    print(\"True\")\n",
    "else:\n",
    "    print(\"False\")\n",
    "print(\"\\ntesting not empty tuple t:\")\n",
    "if t:\n",
    "    print(\"True\")\n",
    "else:\n",
    "    print(\"False\")\n",
    "print(\"\\ntesting not empty set st:\")\n",
    "if st:\n",
    "    print(\"True\")\n",
    "else:\n",
    "    print(\"False\")\n",
    "print(\"\\ntesting not empty dict d:\")\n",
    "if d:\n",
    "    print(\"True\")\n",
    "else:\n",
    "    print(\"False\")"
   ]
  },
  {
   "cell_type": "code",
   "execution_count": null,
   "metadata": {},
   "outputs": [],
   "source": []
  },
  {
   "cell_type": "code",
   "execution_count": 2,
   "metadata": {},
   "outputs": [
    {
     "name": "stdout",
     "output_type": "stream",
     "text": [
      "L1: [1, 2, 3, 4]\n",
      "\n",
      "L2: [10, 11, 12]\n",
      "L1 after 'L1[:2] = L2': [10, 11, 12, 3, 4]\n",
      "\n",
      "L3: [-3, -4]\n",
      "L1 after 'L1[1:2] = L3': [10, -3, -4, 12, 3, 4]\n",
      "\n",
      "L4: [5, 6, 7, 8]\n",
      "L1 after 'L1[3:3] = L4': [10, -3, -4, 5, 6, 7, 8, 12, 3, 4]\n"
     ]
    }
   ],
   "source": [
    "L1 = [1, 2, 3, 4]\n",
    "print(\"L1:\", L1)\n",
    "L2 = [10, 11, 12]\n",
    "L1[:2] = L2\n",
    "print(\"\\nL2:\", L2)\n",
    "print(\"L1 after 'L1[:2] = L2':\", L1)\n",
    "L3 = [-3, -4]\n",
    "L1[1:2] = L3\n",
    "print(\"\\nL3:\", L3)\n",
    "print(\"L1 after 'L1[1:2] = L3':\", L1)\n",
    "L4 = [5, 6, 7, 8]\n",
    "L1[3:3] = L4\n",
    "print(\"\\nL4:\", L4)\n",
    "print(\"L1 after 'L1[3:3] = L4':\", L1)"
   ]
  },
  {
   "cell_type": "markdown",
   "metadata": {},
   "source": [
    "### Упражнение 7. Подсчет слов в тексте\n",
    "\n",
    "1. Напишите программу, вычисляющую, сколько раз каждое слово встречается в поданной на вход строке. Результаты подсчета поместите в словарь.\n",
    "\n",
    "2. Распечатайте словарь в порядке убывания встречаемости слов. В каждой строке сначала печатается номер места по встречаемости, которое заняло слово, а затем через пробел сколько раз оно встретилось и само слово. Используйте функцию [`sorted()`](https://docs.python.org/3/library/functions.html#sorted) ([lab2](https://github.com/mipt-cs/python-biocad/blob/master/lab2.ipynb)) и [`enumerate()`](https://docs.python.org/3/library/functions.html#enumerate) ([lab4](https://github.com/mipt-cs/python-biocad/blob/master/lab4.ipynb)).\n",
    "\n",
    "Гарантируется, что входная строка состоит только из букв и пробелов. Перед сортировкой строку следует перевести в нижний регистр с помощью метода [`str.lower`](https://docs.python.org/3/library/stdtypes.html#str.lower).\n",
    "\n",
    "В клетке снизу приведен пример длинной строки для тестирования программы. (Символ `\\` в конце строчки кода используется, чтобы продолжить выражение на следующей строчке.)\n",
    "\n",
    "| <font size=3>входные данные</font> | <font size=3>выходные данные</font> |\n",
    "| :---: | :-------- |\n",
    "| <font size=3>b a a b c a</font> | <font size=3>1 3 a<br>2 2 b<br>3 1 c</font> |\n",
    "| <font size=3>Напишите программу вычисляющую сколько раз каждое слово встречается в поданной на вход тексте строке Результаты подсчета поместите в словарь а затем распечатайте словарь в порядке убывания встречаемости слов В каждой строке сначала печатается номер места по встречаемости которое заняло слово а затем через пробел то сколько раз оно встретилось и само слово  Гарантируется что во входном тексте не будет символов кроме букв и пробелов Перед сортировкой весь текст следует перевести в нижний регистр с помощью метода strlower</font> | <font size=3>1 5 в<br>2 3 слово<br>3 2 а<br>4 2 словарь<br>5 2 и<br>6 2 раз<br>7 2 тексте<br>8 2 строке<br>9 2 сколько<br>10 2 затем<br>11 2 встречаемости<br>12 1 то<br>13 1 вход<br>14 1 кроме<br>15 1 с<br>16 1 букв<br>17 1 перед<br>18 1 весь<br>19 1 сначала<br>20 1 пробелов<br>21 1 не<br>22 1 символов<br>23 1 входном<br>24 1 каждой<br>25 1 сортировкой<br>26 1 порядке<br>27 1 результаты<br>28 1 печатается<br>29 1 перевести<br>30 1 заняло<br>31 1 по<br>32 1 метода<br>33 1 которое<br>34 1 встречается<br>35 1 следует<br>36 1 программу<br>37 1 текст<br>38 1 оно<br>39 1 будет<br>40 1 распечатайте<br>41 1 через<br>42 1 вычисляющую<br>43 1 каждое<br>44 1 на<br>45 1 подсчета<br>46 1 нижний<br>47 1 помощью<br>48 1 пробел<br>49 1 во<br>50 1 регистр<br>51 1 встретилось<br>52 1 поместите<br>53 1 strlower<br>54 1 места<br>55 1 напишите<br>56 1 слов<br>57 1 убывания<br>58 1 поданной<br>59 1 что<br>60 1 само<br>61 1 номер<br>62 1 гарантируется</font> |"
   ]
  },
  {
   "cell_type": "code",
   "execution_count": 65,
   "metadata": {},
   "outputs": [
    {
     "ename": "TypeError",
     "evalue": "list indices must be integers or slices, not tuple",
     "output_type": "error",
     "traceback": [
      "\u001b[0;31m---------------------------------------------------------------------------\u001b[0m",
      "\u001b[0;31mTypeError\u001b[0m                                 Traceback (most recent call last)",
      "\u001b[0;32m<ipython-input-65-ede1da4db3a7>\u001b[0m in \u001b[0;36m<module>\u001b[0;34m\u001b[0m\n\u001b[1;32m     14\u001b[0m     \u001b[0md\u001b[0m\u001b[0;34m[\u001b[0m\u001b[0mi\u001b[0m\u001b[0;34m]\u001b[0m \u001b[0;34m=\u001b[0m \u001b[0mt\u001b[0m\u001b[0;34m\u001b[0m\u001b[0m\n\u001b[1;32m     15\u001b[0m \u001b[0md1\u001b[0m \u001b[0;34m=\u001b[0m \u001b[0msorted\u001b[0m\u001b[0;34m(\u001b[0m\u001b[0md\u001b[0m\u001b[0;34m.\u001b[0m\u001b[0mitems\u001b[0m\u001b[0;34m(\u001b[0m\u001b[0;34m)\u001b[0m\u001b[0;34m,\u001b[0m \u001b[0mkey\u001b[0m\u001b[0;34m=\u001b[0m\u001b[0;32mlambda\u001b[0m \u001b[0mx\u001b[0m\u001b[0;34m:\u001b[0m \u001b[0mx\u001b[0m\u001b[0;34m[\u001b[0m\u001b[0;36m1\u001b[0m\u001b[0;34m]\u001b[0m\u001b[0;34m,\u001b[0m\u001b[0mreverse\u001b[0m\u001b[0;34m=\u001b[0m\u001b[0;32mTrue\u001b[0m\u001b[0;34m)\u001b[0m\u001b[0;34m\u001b[0m\u001b[0m\n\u001b[0;32m---> 16\u001b[0;31m \u001b[0md2\u001b[0m \u001b[0;34m=\u001b[0m \u001b[0md1\u001b[0m\u001b[0;34m[\u001b[0m\u001b[0;34m(\u001b[0m\u001b[0;34m)\u001b[0m\u001b[0;34m]\u001b[0m\u001b[0;34m\u001b[0m\u001b[0m\n\u001b[0m\u001b[1;32m     17\u001b[0m \u001b[0;31m#for idx,name in enumerate(d1):\u001b[0m\u001b[0;34m\u001b[0m\u001b[0;34m\u001b[0m\u001b[0m\n\u001b[1;32m     18\u001b[0m     \u001b[0;31m#print(idx+1,name)\u001b[0m\u001b[0;34m\u001b[0m\u001b[0;34m\u001b[0m\u001b[0m\n",
      "\u001b[0;31mTypeError\u001b[0m: list indices must be integers or slices, not tuple"
     ]
    }
   ],
   "source": [
    "text = \"Напишите программу вычисляющую сколько раз каждое слово \\\n",
    "встречается в поданной на вход тексте строке Результаты подсчета \\\n",
    "поместите в словарь а затем распечатайте словарь в порядке убывания \\\n",
    "встречаемости слов В каждой строке сначала печатается номер места \\\n",
    "по встречаемости которое заняло слово а затем через пробел то \\\n",
    "сколько раз оно встретилось и само слово  Гарантируется что во \\\n",
    "входном тексте не будет символов кроме букв и пробелов Перед \\\n",
    "сортировкой весь текст следует перевести в нижний регистр с помощью метода strlower\"\n",
    "m = text.lower().split()\n",
    "t = []\n",
    "d = {}\n",
    "for i in m:\n",
    "    t = m.count(i)\n",
    "    d[i] = t\n",
    "d1 = sorted(d.items(), key=lambda x: x[1],reverse=True)\n",
    "d2 = d1[()]\n",
    "#for idx,name in enumerate(d1):\n",
    "    #print(idx+1,name)\n",
    "\n",
    "print(d2)"
   ]
  },
  {
   "cell_type": "code",
   "execution_count": 50,
   "metadata": {},
   "outputs": [
    {
     "name": "stdout",
     "output_type": "stream",
     "text": [
      "['вычисляющую,', 'каждое', 'напишите', 'программу', 'раз', 'сколько', 'сло']\n"
     ]
    }
   ],
   "source": [
    "text = 'Напишите программу вычисляющую, сколько раз каждое сло'\n",
    "#l = enumerate(text)\n",
    "#te = text.lower()\n",
    "m = text.lower().split()\n",
    "print(sorted(m))\n",
    "#print(list(enumerate(text)))key=str.lower\n",
    "\n"
   ]
  },
  {
   "cell_type": "code",
   "execution_count": 51,
   "metadata": {},
   "outputs": [
    {
     "ename": "SyntaxError",
     "evalue": "invalid syntax (<ipython-input-51-84bf6d234e42>, line 1)",
     "output_type": "error",
     "traceback": [
      "\u001b[0;36m  File \u001b[0;32m\"<ipython-input-51-84bf6d234e42>\"\u001b[0;36m, line \u001b[0;32m1\u001b[0m\n\u001b[0;31m    for elem enumerate[text]:\u001b[0m\n\u001b[0m                     ^\u001b[0m\n\u001b[0;31mSyntaxError\u001b[0m\u001b[0;31m:\u001b[0m invalid syntax\n"
     ]
    }
   ],
   "source": [
    "for elem enumerate[text]:\n",
    "print(sorted(text, key=str.lower])"
   ]
  },
  {
   "cell_type": "markdown",
   "metadata": {},
   "source": [
    "### Упражнение 8. `xor` для словарей\n",
    "\n",
    "1. Напишите программу, заполняющую 2 словаря `D1` и `D2`, в которых ключами и значениями являются строки. При заполнении словаря на вход программе подаются строки, состоящие из двух слов. Первое слово в такой строке является ключом, а второе - значением. Заполнение словаря продолжается до тех пор, пока не введена строка `\"STOP\"`.\n",
    "\n",
    "2. Далее из элементов `D1` и `D2` составляется третий словарь, причем в нем не должно быть общих ключей `D1` и `D2`. Распечатайте полученный словарь.\n",
    "\n",
    "| <font size=3>входные данные</font> | <font size=3>выходные данные</font> |\n",
    "| :---: | :---: |\n",
    "| <font size=3>a 1<br>b 2<br>STOP<br>b 2<br>c 3<br>STOP</font> | <font size=3>{'a': '1', 'c': '3'}</font> |\n",
    "| <font size=3>a 1<br>b 2<br>STOP<br>b 3<br>c 3<br>STOP</font> | <font size=3>{'a': '1', 'c': '3'}</font> |\n",
    "| <font size=3>a 1<br>b 2<br>STOP<br>c 3<br>d 3<br>STOP</font> | <font size=3>{'a': '1', 'b': '2' 'c': '3', 'd': '3'}</font> |"
   ]
  },
  {
   "cell_type": "code",
   "execution_count": 4,
   "metadata": {},
   "outputs": [
    {
     "name": "stdout",
     "output_type": "stream",
     "text": [
      "input a,1 a 1\n",
      "input a,1 b 2\n",
      "input a,1 STOP\n",
      "input a,1 a 1\n",
      "input a,1 c 3\n",
      "input a,1 STOP\n",
      "{'a': '1', 'b': '2'} {'a': '1', 'c': '3'}\n",
      "{'a': '1', 'b': '2', 'c': '3'}\n"
     ]
    }
   ],
   "source": [
    "d1 = {}\n",
    "d2 = {}\n",
    "def dic():\n",
    "    d = dict()\n",
    "    a = input('input a,1 ')\n",
    "    while a !=('STOP'):\n",
    "        l = a.split() \n",
    "        a = input('input a,1 ')\n",
    "        d[l[0]]=l[1] \n",
    "    return d\n",
    "d1 = dic()\n",
    "d2 = dic()\n",
    "print(d1,d2)\n",
    "d3 = d1\n",
    "d3.update(d2)\n",
    "print (d3)\n",
    "\n",
    "\n"
   ]
  },
  {
   "cell_type": "markdown",
   "metadata": {},
   "source": [
    "### Упражнение 9. Перевод из одной системы счисления в другую\n",
    "\n",
    "1. Напишите программу, переводящую число из десятичной системы счисления в [позиционную систему счисления](https://ru.wikipedia.org/wiki/%D0%9F%D0%BE%D0%B7%D0%B8%D1%86%D0%B8%D0%BE%D0%BD%D0%BD%D0%B0%D1%8F_%D1%81%D0%B8%D1%81%D1%82%D0%B5%D0%BC%D0%B0_%D1%81%D1%87%D0%B8%D1%81%D0%BB%D0%B5%D0%BD%D0%B8%D1%8F) с произвольным основанием от 2 до 36.\n",
    "\n",
    "2. Для хранения [цифр](https://ru.wikipedia.org/wiki/%D0%A6%D0%B8%D1%84%D1%80%D1%8B) используйте список. Автоматизируйте его создание с помощью генераторов списков (см. [lab2](https://github.com/mipt-cs/python-biocad/blob/master/lab2.ipynb) и [питонтьютор](http://pythontutor.ru/lessons/lists/)) и встроенных функций [`chr()`](https://docs.python.org/3/library/functions.html#chr) и [`ord()`](https://docs.python.org/3/library/functions.html#ord) (см. также [lab2](https://github.com/mipt-cs/python-biocad/blob/master/lab2.ipynb)). Символы цифр от 0 до 9 и буквы английского алфавита расположены подряд в таблице unicode (пример внизу).\n",
    "\n",
    "3. Оформите перевод из одной системы счисления в другую в виде функции.\n",
    "\n",
    "4. Создайте словарь, в котором ключами будут цифры от `0` до `Z`, а значениями - соответствующие им числа в десятичной системе счисления. Используйте генераторы словарей.\n",
    "\n",
    "На вход программе подается целое число и основание новой системы счисления.\n",
    "\n",
    "| <font size=3>входные данные</font> | <font size=3>выходные данные</font> |\n",
    "| :---: | :---: |\n",
    "| <font size=3>5 2</font> | <font size=3>101</font> |\n",
    "| <font size=3>-5 2</font> | <font size=3>-101</font> |\n",
    "| <font size=3>5 3</font> | <font size=3>12</font> |\n",
    "| <font size=3>20 16</font> | <font size=3>14</font> |\n",
    "| <font size=3>255 16</font> | <font size=3>FF</font> |\n",
    "| <font size=3>200 20</font> | <font size=3>A0</font> |"
   ]
  },
  {
   "cell_type": "code",
   "execution_count": 67,
   "metadata": {},
   "outputs": [
    {
     "name": "stdout",
     "output_type": "stream",
     "text": [
      "input number200\n",
      "input base20\n",
      "10 0\n",
      "0 10\n",
      "[10, 0]\n"
     ]
    }
   ],
   "source": [
    "def preobr(a,b):\n",
    "    L = []\n",
    "    while a != 0:\n",
    "        c = a%b\n",
    "        a = a//b\n",
    "        L.append(c)\n",
    "        print(a, c)\n",
    "        L = L[::-1]\n",
    "    return L\n",
    "  \n",
    "a = int(input('input number'))\n",
    "b = int(input('input base'))\n",
    "print(preobr(a,b))\n",
    "#print(L)\n",
    "\n"
   ]
  },
  {
   "cell_type": "code",
   "execution_count": 18,
   "metadata": {},
   "outputs": [
    {
     "ename": "SyntaxError",
     "evalue": "can't assign to operator (<ipython-input-18-9f2478a34e6c>, line 3)",
     "output_type": "error",
     "traceback": [
      "\u001b[0;36m  File \u001b[0;32m\"<ipython-input-18-9f2478a34e6c>\"\u001b[0;36m, line \u001b[0;32m3\u001b[0m\n\u001b[0;31m    L = [a%b for a/b in range(1,a,b) if a!=0]\u001b[0m\n\u001b[0m                ^\u001b[0m\n\u001b[0;31mSyntaxError\u001b[0m\u001b[0;31m:\u001b[0m can't assign to operator\n"
     ]
    }
   ],
   "source": [
    "a = int(input('input number'))\n",
    "b = int(input('input base'))\n",
    "L = [a%b for a/b in range(1,a,b) if a!=0]\n",
    "#compr2 = [2 / el for el in compr if el > 10]\n",
    "print(L)\n"
   ]
  },
  {
   "cell_type": "code",
   "execution_count": 27,
   "metadata": {},
   "outputs": [
    {
     "name": "stdout",
     "output_type": "stream",
     "text": [
      "{'0': 0, '1': 1, '2': 2, '3': 3, '4': 4, '5': 5, '6': 6, '7': 7, '8': 8, '9': 9, 'A': 10, 'B': 11, 'C': 12, 'D': 13, 'E': 14, 'F': 15, 'G': 16, 'H': 17, 'I': 18, 'J': 19, 'K': 20, 'L': 21, 'M': 22, 'N': 23, 'O': 24, 'P': 25, 'Q': 26, 'R': 27, 'S': 28, 'T': 29, 'U': 30, 'V': 31, 'W': 32, 'X': 33, 'Y': 34, 'Z': 35}\n"
     ]
    }
   ],
   "source": [
    "a = '0123456789ABCDEFGHIJKLMNOPQRSTUVWXYZ'\n",
    "d = {a[i]: i for i in range(0,36)}       \n",
    "print(d)\n"
   ]
  },
  {
   "cell_type": "code",
   "execution_count": 14,
   "metadata": {},
   "outputs": [
    {
     "name": "stdout",
     "output_type": "stream",
     "text": [
      "48 49 50 51 52 53 54 55 56 57\n",
      "65 66 67 68 69 70 71 72 73 74 75 76 77 78 79 80 81 82 83 84 85 86 87 88 89 90\n"
     ]
    }
   ],
   "source": [
    "digits = '0123456789'\n",
    "uppercase = 'ABCDEFGHIJKLMNOPQRSTUVWXYZ'\n",
    "print(' '.join([str(ord(digit)) for digit in list(digits)]))\n",
    "print(' '.join([str(ord(char)) for char in list(uppercase)]))"
   ]
  }
 ],
 "metadata": {
  "kernelspec": {
   "display_name": "Python 3",
   "language": "python",
   "name": "python3"
  },
  "language_info": {
   "codemirror_mode": {
    "name": "ipython",
    "version": 3
   },
   "file_extension": ".py",
   "mimetype": "text/x-python",
   "name": "python",
   "nbconvert_exporter": "python",
   "pygments_lexer": "ipython3",
   "version": "3.7.0"
  }
 },
 "nbformat": 4,
 "nbformat_minor": 2
}
