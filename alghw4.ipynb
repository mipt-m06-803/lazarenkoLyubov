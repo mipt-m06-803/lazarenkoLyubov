{
 "cells": [
  {
   "cell_type": "markdown",
   "metadata": {},
   "source": [
    "# Упражнение 1. MSD для сортировки в лексикографическом порядке\n",
    "\n",
    "Реализуйте функцию, выполняющую MSD сортировку английских слов в лексикографическом порядке. \n",
    "\n",
    "1. **Лексикографический порядок** - отношение порядка на множестве слов над алфавитом $\\Sigma = \\left\\lbrace a_1, a_2, ...\\right\\rbrace$, для элементов которого опредлено отношение порядка.<br>\n",
    "\n",
    "- Под **словом** понимается поседовательность элементов алфавита $\\Sigma$.\n",
    "\n",
    "Согласно лексикографическому порядку, сравнение слов выполняется следующим образом.\n",
    "\n",
    "1. Если первые $i-1$ букв слов $A$ и $B$ совпадают, а $A_i \\ge B_i$, то $A \\ge B$. Пример: $\\text{Мария} \\ge \\text{Марина}$.\n",
    "\n",
    "- Если слово $B$ - начало (префикс) слова $A$, то $A \\ge B$. Пример: $\\text{Математика} \\ge \\text{Математик}$\n",
    "\n",
    "\n",
    "**Примеры**\n",
    "\n",
    "1. Упорядочивание слов в словаре. \n",
    "\n",
    "- Сравнение строк в Python.\n",
    "\n",
    "- Целые числа одинаковой длины (старшие разряды заполняются нулями): $000 \\leq 001 \\leq 002 \\leq 003 \\leq ...$"
   ]
  },
  {
   "cell_type": "code",
   "execution_count": 4,
   "metadata": {},
   "outputs": [
    {
     "name": "stdout",
     "output_type": "stream",
     "text": [
      "5\n",
      "{'': ['abasss']}\n",
      "{'': ['abasss', 'abaq']}\n",
      "{'': ['abasss', 'abaq', 'abaa']}\n",
      "{'': ['abasss', 'abaq', 'abaa', 'aba']}\n",
      "{'': ['abasss', 'abaq', 'abaa', 'aba', 'ab']}\n",
      "{'': ['abasss', 'abaq', 'abaa', 'aba', 'ab', 'z']}\n",
      "{'a': ['abasss']}\n",
      "{'a': ['abasss', 'abaq']}\n",
      "{'a': ['abasss', 'abaq', 'abaa']}\n",
      "{'a': ['abasss', 'abaq', 'abaa', 'aba']}\n",
      "{'a': ['abasss', 'abaq', 'abaa', 'aba', 'ab']}\n",
      "{'a': ['abasss', 'abaq', 'abaa', 'aba', 'ab'], 'z': ['z']}\n",
      "{'ab': ['abasss']}\n",
      "{'ab': ['abasss', 'abaq']}\n",
      "{'ab': ['abasss', 'abaq', 'abaa']}\n",
      "{'ab': ['abasss', 'abaq', 'abaa', 'aba']}\n",
      "{'ab': ['abasss', 'abaq', 'abaa', 'aba', 'ab']}\n",
      "{'ab': ['abasss', 'abaq', 'abaa', 'aba', 'ab'], 'z': ['z']}\n",
      "{'aba': ['abasss']}\n",
      "{'aba': ['abasss', 'abaq']}\n",
      "{'aba': ['abasss', 'abaq', 'abaa']}\n",
      "{'aba': ['abasss', 'abaq', 'abaa', 'aba']}\n",
      "{'aba': ['abasss', 'abaq', 'abaa', 'aba'], 'ab': ['ab']}\n",
      "{'aba': ['abasss', 'abaq', 'abaa', 'aba'], 'ab': ['ab'], 'z': ['z']}\n",
      "{'ab': ['ab']}\n",
      "{'ab': ['ab'], 'abas': ['abasss']}\n",
      "{'ab': ['ab'], 'abas': ['abasss'], 'abaq': ['abaq']}\n",
      "{'ab': ['ab'], 'abas': ['abasss'], 'abaq': ['abaq'], 'abaa': ['abaa']}\n",
      "{'ab': ['ab'], 'abas': ['abasss'], 'abaq': ['abaq'], 'abaa': ['abaa'], 'aba': ['aba']}\n",
      "{'ab': ['ab'], 'abas': ['abasss'], 'abaq': ['abaq'], 'abaa': ['abaa'], 'aba': ['aba'], 'z': ['z']}\n",
      "['ab', 'aba', 'abaa', 'abaq', 'abasss', 'z']\n"
     ]
    }
   ],
   "source": [
    "import random\n",
    "import string\n",
    "#L = [''.join(random.sample(string.ascii_lowercase, random.randint(4, 10))) for _ in range(300)]\n",
    "L = ['abasss','abaq','abaa','aba','ab','z']\n",
    "#L = ['z','aaa']\n",
    "def count_sort_strings(L,i):\n",
    "    D = {} \n",
    "    for elem in L:\n",
    "        first_l = elem[:i]\n",
    "        if first_l in D.keys():\n",
    "            D[first_l].append(elem)\n",
    "        else:\n",
    "            D[first_l] = [elem]  \n",
    "        print(D)\n",
    "   \n",
    "    counter = 0\n",
    "    for c,p in sorted(D.items()):\n",
    "        L[counter:counter+len(p)] = p\n",
    "        counter += int(len(p))\n",
    "    #return sorted(d.items())\n",
    "\n",
    "def max_len(L):\n",
    "    ml = -1\n",
    "    for i in range(len(L)):\n",
    "        if i > ml:\n",
    "            ml = i\n",
    "            \n",
    "    return ml\n",
    "\n",
    "def msd_sort(L): \n",
    "    #m = max([len(L[i]) for i in range(len(L))])\n",
    "    m = max_len(L)\n",
    "    #m = len(max(L))\n",
    "    print(m)\n",
    "    for i in range(0,m):\n",
    "        count_sort_strings(L, i)\n",
    "        \n",
    "msd_sort(L)\n",
    "print(L)"
   ]
  },
  {
   "cell_type": "code",
   "execution_count": null,
   "metadata": {},
   "outputs": [],
   "source": [
    "d = {x: [] for x in range(A,z)}"
   ]
  },
  {
   "cell_type": "markdown",
   "metadata": {},
   "source": [
    "# Упражнение 2. MSD для сортировки целых чисел\n",
    "\n",
    "Напишите функцию для сортировки целых чисел с помощью алгоритма MSD."
   ]
  },
  {
   "cell_type": "code",
   "execution_count": 22,
   "metadata": {},
   "outputs": [
    {
     "name": "stdout",
     "output_type": "stream",
     "text": [
      "2\n",
      "[(-1, [0, 46, 39, 41, 11, 22, 10, 24, 37, 2, 20, 23, 7, 15, 47, 45, 27, 8, 29, 16, 12, 38, 34, 40, 49, 48, 32, 36, 4, 43, 19, 21, 35, 30, 44, 13, 17, 42, 14, 18, 9, 31, 25, 28, 5, 1, 33, 6, 26, 3]), (0, []), (1, []), (2, []), (3, []), (4, []), (5, []), (6, []), (7, []), (8, []), (9, [])]\n",
      "1\n",
      "[(-1, [0, 2, 7, 8, 4, 9, 5, 1, 6, 3]), (0, []), (1, [11, 10, 15, 16, 12, 19, 13, 17, 14, 18]), (2, [22, 24, 20, 23, 27, 29, 21, 25, 28, 26]), (3, [39, 37, 38, 34, 32, 36, 35, 30, 31, 33]), (4, [46, 41, 47, 45, 40, 49, 48, 43, 44, 42]), (5, []), (6, []), (7, []), (8, []), (9, [])]\n",
      "[0, 2, 7, 8, 4, 9, 5, 1, 6, 3, 11, 10, 15, 16, 12, 19, 13, 17, 14, 18, 22, 24, 20, 23, 27, 29, 21, 25, 28, 26, 39, 37, 38, 34, 32, 36, 35, 30, 31, 33, 46, 41, 47, 45, 40, 49, 48, 43, 44, 42]\n"
     ]
    }
   ],
   "source": [
    "import random\n",
    "import math\n",
    "from operator import itemgetter, attrgetter, methodcaller\n",
    "L = list(range(50)) #+ list(range(100, 250))\n",
    "random.shuffle(L)\n",
    "#print(L)\n",
    "\n",
    "def counting_sort(L,r):\n",
    "    d = {x: [] for x in range(-1,10)}\n",
    "    for i in L:\n",
    "        if i < 10 ** r: \n",
    "            d[-1].append(i)\n",
    "        else:\n",
    "            j = (i % 10 ** (r + 1))// 10 ** r\n",
    "            #print(j)\n",
    "            if j in d:\n",
    "                d[j].append(i)  \n",
    "                \n",
    "    print(sorted(d.items(), key = itemgetter(0,1)))\n",
    "   \n",
    "    counter = 0\n",
    "    for c,p in sorted(d.items()):\n",
    "        L[counter:counter+len(p)] = p\n",
    "        counter += int(len(p))\n",
    "    #return sorted(d.items())\n",
    "\n",
    "def max_len(L):\n",
    "    ml = -1\n",
    "    for i in range(len(L)):\n",
    "        if i > ml:\n",
    "            ml = i\n",
    "            \n",
    "    return ml\n",
    "\n",
    "def msd_sort(L): \n",
    "    n = int(math.log(max_len(L),10))+1\n",
    "    for i in range(n,0,-1):\n",
    "        print(i)\n",
    "        counting_sort (L, i)\n",
    "        \n",
    "msd_sort(L)\n",
    "print(L)"
   ]
  },
  {
   "cell_type": "markdown",
   "metadata": {},
   "source": [
    "# Упражнение 3. Устойчивая быстрая сортировка\n",
    "\n",
    "Модифицируйте реализованную на занятии \"быструю сортировку\" так, чтобы она стала устойчивой. Используйте расширение ключа."
   ]
  },
  {
   "cell_type": "code",
   "execution_count": null,
   "metadata": {
    "collapsed": true
   },
   "outputs": [],
   "source": [
    "def partition(A,lo,hi,key):   \n",
    "    piv = int(A[(lo+hi)//2])\n",
    "    #print(int(piv))\n",
    "    print('piv',piv)\n",
    "    i = lo - 1\n",
    "    j = hi + 1\n",
    "    print(\"before while\",i,j)\n",
    "    while True:\n",
    "        print(A)\n",
    "        i += 1\n",
    "        while A[i] < piv:\n",
    "            i += 1\n",
    "            print(\"i loop\", i,j)\n",
    "        j -= 1 \n",
    "        while A[j] > piv:\n",
    "            j -= 1  \n",
    "            print(\"j loop\",j)\n",
    "\n",
    "        if i >= j:\n",
    "            return j\n",
    "\n",
    "        A[i], A[j] = A[j],A[i]\n",
    "    \n",
    "def quicksort(A, lo, hi):\n",
    "    if lo < hi:\n",
    "        p = partition(A, lo, hi)\n",
    "        print(\"p\",p)\n",
    "        quicksort(A, lo, p)\n",
    "        quicksort(A, p + 1, hi)\n",
    "    \n",
    "\n",
    "a = [int(i) for i in input().split()]\n",
    "quicksort(a,0,len(a)-1)\n",
    "print(a)"
   ]
  },
  {
   "cell_type": "markdown",
   "metadata": {},
   "source": [
    "# Упражнение 4. Однопроходная сортировка\n",
    "\n",
    "Отсортируйте список абитуриентов МФТИ так, чтобы в начале списка стояли все девушки, а затем юноши. Реализуйте однопроходный алгоритм, который **не использует** дополнительную память. Список состоит из кортежей: в каждом кортеже нулевой элемент равен или `\"М\"`, или `\"Ж\"` (пол абитуриента), а элементы с первого по третий содержат ФИО."
   ]
  },
  {
   "cell_type": "code",
   "execution_count": 10,
   "metadata": {},
   "outputs": [
    {
     "name": "stdout",
     "output_type": "stream",
     "text": [
      "[('Ж', 'Апр', 'Н', 'У'), ('Ж', 'Петт', 'Р', 'Н'), ('М', 'Иапнов', 'Петр', 'Петрович')]\n"
     ]
    }
   ],
   "source": [
    "students = [\n",
    "        ('Ж','Апр','Н','У'),\n",
    "        ('М','Иапнов', 'Петр', 'Петрович'),\n",
    "        ('Ж','Петт','Р','Н'),  \n",
    "    ]\n",
    "print(sorted(students, key=lambda student: student[0])) "
   ]
  },
  {
   "cell_type": "code",
   "execution_count": 12,
   "metadata": {},
   "outputs": [
    {
     "name": "stdout",
     "output_type": "stream",
     "text": [
      "[('Ж', 'Апр', 'Н', 'У'), ('Ж', 'Петт', 'Р', 'Н'), ('М', 'Иапнов', 'Петр', 'Петрович')]\n"
     ]
    }
   ],
   "source": [
    "def partition(a,lo,hi): \n",
    "   \n",
    "    while lo <= hi:\n",
    "        \n",
    "        if a[lo][0] == 'Ж':\n",
    "            lo += 1\n",
    "        else: \n",
    "            a[lo],a[hi] = a[hi], a[lo]\n",
    "            hi -= 1\n",
    "            \n",
    "partition(students,0,len(students)-1)\n",
    "print(students)"
   ]
  },
  {
   "cell_type": "code",
   "execution_count": null,
   "metadata": {},
   "outputs": [],
   "source": []
  }
 ],
 "metadata": {
  "kernelspec": {
   "display_name": "Python 3",
   "language": "python",
   "name": "python3"
  },
  "language_info": {
   "codemirror_mode": {
    "name": "ipython",
    "version": 3
   },
   "file_extension": ".py",
   "mimetype": "text/x-python",
   "name": "python",
   "nbconvert_exporter": "python",
   "pygments_lexer": "ipython3",
   "version": "3.7.0"
  }
 },
 "nbformat": 4,
 "nbformat_minor": 2
}
