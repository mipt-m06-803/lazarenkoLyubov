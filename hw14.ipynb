{
 "cells": [
  {
   "cell_type": "markdown",
   "metadata": {},
   "source": [
    "# <font color=blue>Упражнение 1. Функции `os.path.join()` и `os.path.exists()`</font>\n",
    "\n",
    "На вход подается путь в файловой системе, в котором каталоги и файл отделяются друг от друга пробелами. Сформируйте существующую часть пути и распечатайте ее. Если даже первая папка (или файл) не существуют, распечатайте `None`.\n",
    "\n",
    "**В решении для объединения имен файлов и папок в пусть должна применяться функция `os.path.join()`.**\n",
    "\n",
    "Пусть в текущей директории присутствует каталог `files` со следующей структурой.\n",
    "```\n",
    "files\n",
    "├── hw12\n",
    "│   ├── ex3_in.json\n",
    "│   ├── ex3_out.json\n",
    "│   └── ex4_conf.json\n",
    "├── hw5.9.txt\n",
    "├── hw6\n",
    "│   ├── ex1.txt\n",
    "│   ├── ex3_formats.txt\n",
    "│   ├── ex3.txt\n",
    "│   ├── ex4.txt\n",
    "│   ├── ex5.txt\n",
    "│   ├── ex8_inp.txt\n",
    "│   ├── ex8_out.txt\n",
    "│   └── ex8_params.txt\n",
    "├── lab12\n",
    "│   └── ex2_conf.json\n",
    "└── test7\n",
    "    ├── ex1_inp.txt\n",
    "    ├── ex1_out.txt\n",
    "    ├── ex2_out.txt\n",
    "    ├── ex3_out.txt\n",
    "    └── ex4_inp.txt\n",
    "```\n",
    "\n",
    "| <font size=3>Входные данные</font> | <font size=3>Выходные данные</font> |\n",
    "| :---: | :---: |\n",
    "| <font size=3>files hw12 ex3_in.json</font> | <font size=3>files/hw12/ex3_in.json</font> |\n",
    "| <font size=3>files hw12 ex4_in.json</font> | <font size=3>files/hw12</font> |\n",
    "| <font size=3>files lab14 ex4_in.json</font> | <font size=3>files</font> |\n",
    "| <font size=3>Files lab14 ex4_in.json</font> | <font size=3>None</font> |\n",
    "\n",
    ">Чтобы посмотреть структуру каталогов, можно использовать утилиту `tree`. Краткое руководство для Windows есть [здесь](https://ab57.ru/cmdlist/tree.html) и видео [тут](https://www.youtube.com/watch?v=23c1d1GNIt0). Для того чтобы установить утилиту `tree` на OS X, нужно выполнить команду\n",
    "```\n",
    "brew install tree\n",
    "```\n",
    "Если на Вашем Mac не работает команда `brew`, нужно сначала установить Homebrew:\n",
    "```\n",
    "/usr/bin/ruby -e \"$(curl -fsSL https://raw.githubusercontent.com/Homebrew/install/master/install)\"\n",
    "```\n",
    "Руководство по использованию утилиты `tree` в OS X [тут](https://www.geeksforgeeks.org/tree-command-unixlinux/)."
   ]
  },
  {
   "cell_type": "code",
   "execution_count": 23,
   "metadata": {},
   "outputs": [
    {
     "name": "stdout",
     "output_type": "stream",
     "text": [
      " hw12 ex4_in.json\n",
      "hw12\n"
     ]
    }
   ],
   "source": [
    "a = input().split()\n",
    "p = os.getcwd()\n",
    "q = os.path.join(*a)\n",
    "h,t = os.path.split(q)\n",
    "h1,t1 = os.path.split(h)\n",
    " \n",
    "if os.path.exists(q):\n",
    "    print(q)  \n",
    "elif os.path.exists(h):\n",
    "        print(h)\n",
    "elif os.path.exists(h1):\n",
    "        print(h1)\n",
    "else:\n",
    "    print('None')\n",
    "\n"
   ]
  },
  {
   "cell_type": "code",
   "execution_count": null,
   "metadata": {},
   "outputs": [],
   "source": [
    "a = input().split()\n",
    "p = os.getcwd()\n",
    "q = os.path.join(*a)  \n",
    "if os.path.exists(q):\n",
    "    print(q)\n",
    "else:\n",
    "    print('None')"
   ]
  },
  {
   "cell_type": "code",
   "execution_count": 1,
   "metadata": {},
   "outputs": [
    {
     "ename": "SyntaxError",
     "evalue": "invalid syntax (<ipython-input-1-1ad108523c94>, line 2)",
     "output_type": "error",
     "traceback": [
      "\u001b[0;36m  File \u001b[0;32m\"<ipython-input-1-1ad108523c94>\"\u001b[0;36m, line \u001b[0;32m2\u001b[0m\n\u001b[0;31m    Распечатайте содержимое каталогов, находящихся в на пути к текущей директории, используя функцию `os.path.split()`. Двигайтесь к корневому каталогу отщепляя крайние папки функцией `os.path.split()`. **Программа должна работать вне зависимости от того, где находится ее код.**\u001b[0m\n\u001b[0m                          ^\u001b[0m\n\u001b[0;31mSyntaxError\u001b[0m\u001b[0;31m:\u001b[0m invalid syntax\n"
     ]
    }
   ],
   "source": [
    "# <font color=blue>Упражнение 2. Функции `os.path.split()` и `os.listdir()`</font>\n",
    "Распечатайте содержимое каталогов, находящихся в на пути к текущей директории, используя функцию `os.path.split()`. Двигайтесь к корневому каталогу отщепляя крайние папки функцией `os.path.split()`. **Программа должна работать вне зависимости от того, где находится ее код.**\n",
    "\n",
    "При печати сначала указывайте путь к каталогу, содержимое которого выводится. В выходных данных отделяйте список содержимого папки от имени следующей папки пустой строкой.\n",
    "\n",
    "| <font size=3>Выходные данные</font> |\n",
    "| :--- |\n",
    "| <font size=3>/home/anton/python-biocad/homeworks<br>['hw12.ipynb', 'hw14.ipynb', 'hw6.ipynb', 'hw1.rst', 'hw9.ipynb', 'hw5.ipynb', 'hw7.ipynb', 'hw2.rst', '.ipynb_checkpoints', 'hw10.ipynb', 'hw4.ipynb']<br><br>/home/anton/python-biocad<br>['.git', 'files', 'labs', 'drafts', 'images', 'README.md', '.ipynb_checkpoints', 'tests', '.gitignore', 'problembook', 'homeworks']<br><br>/home/anton<br>['matlab_R2017b_glnxa64.zip', '.xsession-errors.old', 'Dropbox', '.config', '.wget-hsts', '.git', 'solutions', 'test Latex', 'gordon', '.mozilla', 'dir4', '__pycache__', '.profile', 'PycharmProjects', 'Pictures', 'deleted.tar.gz', 'matlab', 'python-biocad', '.recently-used', 'shl-graduate-thesis', '.subversion', '.PyCharmCE2016.3', '.jupyter', 'WIKI', 'profilib', 'test', '.gksu.lock', 'test.py', 'Public', 'Downloads', '.ipython', '.oracle_jre_usage', 'dpenv', '.PyCharm2016.3', '.dmrc', '.compiz', 'Templates', 'ParlAI', '.bash_history', 'create_pdf.ipynb', '.nv', '.gitconfig', 'Untitled Document', '.gconf', '.kde', 'установочная сессия.odt', 'tmp.py', 'test_module.py', 'examples.desktop', 'learning-to-learn', '.python_history', '.Xauthority', 'README.md', '.dropbox-dist', 'dir1', '.gnupg', '.viminfo', '.ipynb_checkpoints', 'Desktop', 'Videos', 'отчет по научной работе', '.matlab', '.ssh', '.nano', 'tensorflow', 'Documents', 'h-elmo', 'learning-to-learn-deepmind', '.texmf-var', '.dropbox', '.codeblocks', '.xsession-errors', 'RusDraCor', 'matlab_R2017b_glnxa64', '.dia', '.keras', 'samples_9.0', '.sudo_as_admin_successful', '.pki', 'Music', '.bashrc', '.cache', 'hyphen-file', '.tfdbg_history', 'peganov-anton-mipt-m06-803', '.nvidia-settings-rc', 'image.png', '.local', 'peganov', '.lesshst', 'scrapyenv', 'char-language-model', '.bash_logout', '.ICEauthority', '.gphoto', 'deja-dup', '.java', '.gnome', 'HM_LSTM']<br><br>/home<br>['anton']<br><br>/<br>['initrd.img.old', 'proc', 'lib64', 'core', 'lib', 'mnt', 'sbin', 'lib32', 'lost+found', 'root', 'sys', 'boot', 'cdrom', 'srv', 'bin', 'tmp', 'dev', 'initrd.img', 'opt', 'vmlinuz.old', 'snap', 'media', 'usr', 'vmlinuz', 'run', 'home', 'etc', 'var']</font> |\n",
    "\n",
    ">Если использовать аргументы `sep` и `end` функции `print()`, то решение укладывается в 5 строчек кода."
   ]
  },
  {
   "cell_type": "code",
   "execution_count": 1,
   "metadata": {},
   "outputs": [
    {
     "name": "stdout",
     "output_type": "stream",
     "text": [
      "1\n",
      "2\n",
      "\n",
      "3\n",
      "4\n",
      "\n"
     ]
    }
   ],
   "source": [
    "print(1, 2, sep='\\n', end='\\n\\n')\n",
    "print(3, 4, sep='\\n', end='\\n\\n')"
   ]
  },
  {
   "cell_type": "code",
   "execution_count": 4,
   "metadata": {},
   "outputs": [
    {
     "name": "stdout",
     "output_type": "stream",
     "text": [
      "/Users/admin/lazarenkoLyubov\n",
      "['.DS_Store', '.git', '.ipynb_checkpoints', 'bioinform', 'ex1', 'ex2', 'ex2_out.txt', 'ex3', 'ex4', 'ex5', 'ex6', 'ex7', 'ex8_inp.txt', 'ex8_out.txt', 'exc1.py', 'exc1lab3.py', 'exc2 les2', 'exc2.py', 'exc2lab3.py', 'exc3.py', 'exc4.py', 'exc5.py', 'exc6.py', 'exc7.py', 'exc8', 'exc8.py', 'exc9.py', 'file.txt', 'file2.txt', 'hw1', 'hw10.ipynb', 'hw10.ipynb.1', 'hw12', 'hw14.ipynb', 'hw4.ipynb', 'hw5.8.1.txt', 'hw5.8.2.txt', 'hw5.9.txt', 'hw5.ipynb', 'hw6', 'hw6.3.txt', 'hw6.ex5.txt', 'hw6_ex1.txt', 'hw6_ex4.txt', 'hw7.ipynb', 'lab10', 'lab11.ipynb', 'lab12.ipynb', 'lab12_ex1.txt', 'lab14.ipynb', 'lab2', 'lab2.ipynb', 'lab3.ipynb', 'lab4.ipynb', 'lab5.ipynb', 'lab6', 'lab6_ex6.txt', 'lab6_new.ipynb', 'lab7.ipynb', 'lab8.ipynb', 'lab9.ipynb', 'lesson str', 'out.txt', 'python-biocad', 'README.md', 'test10', 'test12.ipynb', 'test2', 'test22', 'test3.1.ipynb', 'test3.2.ipynb', 'test4.1.ipynb', 'test4.ipynb', 'test5.2.ipynb', 'test5.ipynb', 'test6', 'test7', 'test7.ipynb 2', 'unicode2000.txt']\n",
      "\n",
      "/Users/admin\n",
      "['.bash_history', '.bash_profile', '.cache', '.CFUserTextEncoding', '.config', '.DS_Store', '.gitconfig', '.ipynb_checkpoints', '.ipython', '.jupyter', '.local', '.matplotlib', '.python_history', '.pyzo', '.Rapp.history', '.rnd', '.spyder-py3', '.ssh', '.Trash', '.viminfo', '.wget-hsts', '.wine', '.Xauthority', '.yandex', 'Applications', 'Desktop', 'Documents', 'Downloads', 'lab8.ipynb', 'lazarenkoLyubov', 'Library', 'miniconda3', 'Movies', 'Music', 'Pictures', 'Public', 'test6.ipynb', 'test6_ex4.txt']\n",
      "\n",
      "/Users\n",
      "['.localized', 'admin', 'Guest', 'Shared', 'test4.ipynb.txt']\n",
      "\n",
      "/\n",
      "['.DocumentRevisions-V100', '.DS_Store', '.file', '.fseventsd', '.Spotlight-V100', '.Trashes', '.vol', 'Applications', 'bin', 'cores', 'dev', 'etc', 'home', 'Library', 'mach_kernel', 'net', 'Network', 'opt', 'private', 'sbin', 'System', 'tmp', 'Users', 'usr', 'var', 'Volumes']\n",
      "\n"
     ]
    }
   ],
   "source": [
    "import os\n",
    "cwd = os.getcwd()\n",
    "print(cwd,sep='\\n')\n",
    "print(os.listdir(), end='\\n\\n')\n",
    "head, tail = os.path.split(cwd)\n",
    "print(head, sep='\\n')\n",
    "print(os.listdir(head), end='\\n\\n')\n",
    "os.chdir('.')\n",
    "head, tail = os.path.split(head)\n",
    "print(head, sep='\\n')\n",
    "print(os.listdir(head), end='\\n\\n')\n",
    "os.chdir('.')\n",
    "head, tail = os.path.split(head)\n",
    "print(head, sep='\\n')\n",
    "print(os.listdir(head), end='\\n\\n')\n",
    "#os.chdir('/Users/admin/lazarenkoLyubov')\n"
   ]
  },
  {
   "cell_type": "markdown",
   "metadata": {},
   "source": [
    "# <font color=blue>Упражнение 3. Дерево. Функции `os.listdir()`, `os.path.join()`, `os.path.isfile()` или `os.path.isdir()`</font>\n",
    "\n",
    "Реализуйте функцию `tree()`, печатающую дерево содержимого, находящегося по указанному пути.  Сначала должны указываться файлы в порядке увеличения строк (сравнение строк Python), затем директории в порядке увеличения строк. Структура дерева должна выделяться отступами, кратными 2. В самом начале должен печататься путь к папке, поданной на вход функции `tree()`.\n",
    "\n",
    "| <font size=3>Путь к стартовой директории</font> | <font size=3>Выходные данные</font> |\n",
    "| :---: | :--- |\n",
    "| <font size=3>/home/anton/python-biocad/files</font> | <font face=\"monospace\">/home/anton/python-biocad/files<br>&nbsp;&nbsp;hw5.9.txt<br>&nbsp;&nbsp;.ipynb_checkpoints<br>&nbsp;&nbsp;hw12<br>&nbsp;&nbsp;&nbsp;&nbsp;ex3_in.json<br>&nbsp;&nbsp;&nbsp;&nbsp;ex3_out.json<br>&nbsp;&nbsp;&nbsp;&nbsp;ex4_conf.json<br>&nbsp;&nbsp;hw6<br>&nbsp;&nbsp;&nbsp;&nbsp;ex1.txt<br>&nbsp;&nbsp;&nbsp;&nbsp;ex3.txt<br>&nbsp;&nbsp;&nbsp;&nbsp;ex3_formats.txt<br>&nbsp;&nbsp;&nbsp;&nbsp;ex4.txt<br>&nbsp;&nbsp;&nbsp;&nbsp;ex5.txt<br>&nbsp;&nbsp;&nbsp;&nbsp;ex8_inp.txt<br>&nbsp;&nbsp;&nbsp;&nbsp;ex8_out.txt<br>&nbsp;&nbsp;&nbsp;&nbsp;ex8_params.txt<br>&nbsp;&nbsp;lab12<br>&nbsp;&nbsp;&nbsp;&nbsp;ex2_conf.json<br>&nbsp;&nbsp;test7<br>&nbsp;&nbsp;&nbsp;&nbsp;ex1_inp.txt<br>&nbsp;&nbsp;&nbsp;&nbsp;ex1_out.txt<br>&nbsp;&nbsp;&nbsp;&nbsp;ex2_out.txt<br>&nbsp;&nbsp;&nbsp;&nbsp;ex3_out.txt<br>&nbsp;&nbsp;&nbsp;&nbsp;ex4_inp.txt<br>&nbsp;&nbsp;&nbsp;&nbsp;.ipynb_checkpoints</font> |\n",
    "\n",
    "### Подсказка\n",
    "\n",
    "Задача решается через рекурсию"
   ]
  },
  {
   "cell_type": "code",
   "execution_count": 27,
   "metadata": {},
   "outputs": [
    {
     "name": "stdout",
     "output_type": "stream",
     "text": [
      "/Users/admin/lazarenkoLyubov\n",
      "['.DS_Store', '.git', '.ipynb_checkpoints', 'bioinform', 'hw1', 'hw10.ipynb', 'hw10.ipynb.1', 'hw12', 'hw14.ipynb', 'hw4.ipynb', 'hw5.8.1.txt', 'hw5.8.2.txt', 'hw5.9.txt', 'hw5.ipynb', 'hw6', 'hw6.3.txt', 'hw6.ex5.txt', 'hw6_ex1.txt', 'hw6_ex4.txt', 'hw7.ipynb', 'lab10', 'lab11.ipynb', 'lab12.ipynb', 'lab12_ex1.txt', 'lab14.ipynb', 'lab2', 'lab2.ipynb', 'lab3.ipynb', 'lab4.ipynb', 'lab5.ipynb', 'lab6', 'lab6_ex6.txt', 'lab6_new.ipynb', 'lab7.ipynb', 'lab8.ipynb', 'lab9.ipynb', 'lesson str', 'out.txt', 'python-biocad', 'README.md', 'test10', 'test12.ipynb', 'test2', 'test22', 'test3.1.ipynb', 'test3.2.ipynb', 'test4.1.ipynb', 'test4.ipynb', 'test4.ipynb.txt', 'test5.2.ipynb', 'test5.ipynb', 'test6', 'test6.ipynb', 'test7', 'test7.1.ipynb', 'test7.ipynb 2', 'unicode2000.txt']\n",
      "file\n",
      ".DS_Store\n",
      ".git\n",
      ".ipynb_checkpoints\n",
      "file\n",
      "README.md\n",
      "bioinform\n",
      "file\n",
      ".DS_Store\n",
      ".ipynb_checkpoints\n",
      "hw1\n",
      "file\n",
      "hw10.ipynb\n",
      "file\n",
      "hw10.ipynb.1\n",
      "hw12\n",
      "file\n",
      "hw14.ipynb\n",
      "file\n",
      "hw4.ipynb\n",
      "file\n",
      "hw5.8.1.txt\n",
      "file\n",
      "hw5.8.2.txt\n",
      "file\n",
      "hw5.9.txt\n",
      "file\n",
      "hw5.ipynb\n",
      "hw6\n",
      ".ipynb_checkpoints\n",
      "file\n",
      "hw6.3.txt\n",
      "file\n",
      "hw6.ex5.txt\n",
      "file\n",
      "hw6_ex1.txt\n",
      "file\n",
      "hw6_ex4.txt\n",
      "file\n",
      "hw7.ipynb\n",
      "lab10\n",
      "file\n",
      "lab11.ipynb\n",
      "file\n",
      "lab12.ipynb\n",
      "file\n",
      "lab12_ex1.txt\n",
      "file\n",
      "lab14.ipynb\n",
      "lab2\n",
      "file\n",
      ".DS_Store\n",
      ".ipynb_checkpoints\n",
      "file\n",
      "lab2.ipynb\n",
      "file\n",
      "lab3.ipynb\n",
      "file\n",
      "lab4.ipynb\n",
      "file\n",
      "lab5.ipynb\n",
      "lab6\n",
      "file\n",
      "lab6_ex6.txt\n",
      "file\n",
      "lab6_new.ipynb\n",
      "file\n",
      "lab7.ipynb\n",
      "file\n",
      "lab8.ipynb\n",
      "file\n",
      "lab9.ipynb\n",
      "file\n",
      "lesson str\n",
      "file\n",
      "out.txt\n",
      "python-biocad\n",
      "file\n",
      ".DS_Store\n",
      ".git\n",
      "test10\n",
      "file\n",
      "test12.ipynb\n",
      "file\n",
      "test2\n",
      "file\n",
      "test22\n",
      "file\n",
      "test3.1.ipynb\n",
      "file\n",
      "test3.2.ipynb\n",
      "file\n",
      "test4.1.ipynb\n",
      "file\n",
      "test4.ipynb\n",
      "file\n",
      "test4.ipynb.txt\n",
      "file\n",
      "test5.2.ipynb\n",
      "file\n",
      "test5.ipynb\n",
      "test6\n",
      "file\n",
      "test6.ipynb\n",
      "test7\n",
      "file\n",
      "test7.1.ipynb\n",
      "file\n",
      "test7.ipynb 2\n",
      "file\n",
      "unicode2000.txt\n"
     ]
    }
   ],
   "source": [
    "import os\n",
    "\n",
    "def tree(b):\n",
    "    if len(b) != 0:\n",
    "        e = min(b)\n",
    "        if os.path.isfile(e):\n",
    "            print('file')\n",
    "            print(e)\n",
    "            b.remove(e)\n",
    "            tree(b)\n",
    "        if os.path.isdir(e):\n",
    "        #else:\n",
    "           # print('dir')\n",
    "            print(e)\n",
    "            if len(os.listdir(e)) != 0:\n",
    "                c = os.listdir(e)\n",
    "                tree(c)\n",
    "            b.remove(e)\n",
    "            tree(b)\n",
    "          \n",
    "cwd = os.getcwd()\n",
    "print(cwd)\n",
    "b = os.listdir()  \n",
    "print(b)\n",
    "\n",
    "tree(b)"
   ]
  },
  {
   "cell_type": "markdown",
   "metadata": {},
   "source": [
    "# <font color=blue>Упражнение 4. Отработка перехода в родительские каталоги. Функция `os.path.join()`</font>\n",
    "\n",
    "Данное упражнение предназначено для отработки перехода в родительские каталоги. Напоминаю, что родительский каталог обозначается <font color=green>\"..\"</font>. Чтобы перейти на две директории выше, нужно использовать путь <font color=green>\"../..\"</font>, для перехода на 3 директории используется <font color=green>\"../../..\"</font> и т. д. (в Windows это будут <font color=green>\"..\\\\..\"</font> и <font color=green>\"..\\\\..\\\\..\"</font> соответственно).\n",
    "\n",
    "1. Распечатайте текущую директорию.\n",
    "\n",
    "2. Пока не будет введена строка `\"STOP\"`, считывайте натуральные числа и переходите на соответствующее число каталогов вверх с помощью функции `os.chdir()`.\n",
    "\n",
    "3. После перехода печатайте новую текущую директорию.\n",
    "\n",
    "4. В конце программы вернитесь в каталог с кодом.\n",
    "\n",
    "### Указания\n",
    "\n",
    "1. Используйте повторение списков для создания списка каталогов, которые требуется объединить.\n",
    "```python\n",
    "L = [0] * 3\n",
    "assert L == [0, 0, 0]\n",
    "```\n",
    "\n",
    "2. Используйте функцию `os.path.join()` для объединения каталогов. Используййте распаковку списка при вызове `os.path.join()`.\n",
    "\n",
    "### Пример\n",
    "\n",
    "Синим обозначены входные данные, зеленым - выходные.\n",
    "\n",
    "| <font size=3>Выходные данные</font> |\n",
    "| :--- |\n",
    "| <font size=3 color=green>/home/anton/python-biocad/homeworks</font> |\n",
    "| <font size=3 color=blue>1</font> |\n",
    "| <font size=3 color=green>/home/anton/python-biocad</font> |\n",
    "| <font size=3 color=blue>1</font> |\n",
    "| <font size=3 color=green>/home/anton</font> |\n",
    "| <font size=3 color=blue>2</font> |\n",
    "| <font size=3 color=green>/</font> |\n",
    "| <font size=3 color=blue>1</font> |\n",
    "| <font size=3 color=green>/</font> |\n",
    "| <font size=3 color=blue>STOP</font> |"
   ]
  },
  {
   "cell_type": "code",
   "execution_count": 41,
   "metadata": {},
   "outputs": [
    {
     "name": "stdout",
     "output_type": "stream",
     "text": [
      "1\n",
      "/Users/admin/lazarenkoLyubov\n",
      "/Users/admin\n",
      "1\n",
      "/Users/admin\n",
      "/Users\n",
      "1\n",
      "/Users\n",
      "/\n",
      "STOP\n"
     ]
    }
   ],
   "source": [
    "while True:\n",
    "    a = input()\n",
    "    if a == 'STOP':\n",
    "        break\n",
    "    L = ['..']*int(a)\n",
    "    cwd = os.getcwd()\n",
    "    print(cwd)\n",
    "    b = os.path.join(*L)\n",
    "    #print(b)\n",
    "    os.chdir(b)\n",
    "    print(os.getcwd())\n",
    "   # os.chdir('/Users/admin/lazarenkoLyubov')"
   ]
  },
  {
   "cell_type": "markdown",
   "metadata": {},
   "source": [
    "# <font color=blue>Упражнение 5. Сортировка папок. Функции `os.listdir()`, `os.path.join()`, `os.path.isdir()`</font>\n",
    "\n",
    "Распечатайте в порядке возрастания количества содержимого папки из поданного на вход каталога.  Перед названием каталога напечатайте количество напечатайте число файлов и папок в ней.\n",
    "\n",
    "Например, пусть каталог <font color=green>A</font> содержит папки <font color=green>d1</font>, <font color=green>d2</font>, <font color=green>d3</font> и файлы <font color=green>f1</font>, <font color=green>f2</font>. Тогда, если в <font color=green>d1</font> содержатся 3 папки и файла, в <font color=green>d2</font> - 5 папок и файлов, в <font color=green>d3</font> - 4 папки и файла, то сначала будет распечатана строка <font color=green>\"3 d1\"</font>, затем <font color=green>\"4 d3\"</font> и в конце <font color=green>\"5 d2\"</font>.\n",
    "\n",
    "Рассмотрим каталог <font color=green>files</font> со следующей структурой.\n",
    "\n",
    "```\n",
    "files\n",
    "├── hw12\n",
    "│   ├── ex3_in.json\n",
    "│   ├── ex3_out.json\n",
    "│   └── ex4_conf.json\n",
    "├── hw5.9.txt\n",
    "├── hw6\n",
    "│   ├── ex1.txt\n",
    "│   ├── ex3_formats.txt\n",
    "│   ├── ex3.txt\n",
    "│   ├── ex4.txt\n",
    "│   ├── ex5.txt\n",
    "│   ├── ex8_inp.txt\n",
    "│   ├── ex8_out.txt\n",
    "│   └── ex8_params.txt\n",
    "├── lab12\n",
    "│   └── ex2_conf.json\n",
    "└── test7\n",
    "    ├── ex1_inp.txt\n",
    "    ├── ex1_out.txt\n",
    "    ├── ex2_out.txt\n",
    "    ├── ex3_out.txt\n",
    "    └── ex4_inp.txt\n",
    "```\n",
    "\n",
    "| <font size=3>Входные данные</font> | <font size=3>Выходные данные</font> |\n",
    "| :---: | :--- |\n",
    "| <font size=3>/home/anton/python-biocad/files</font> | <font size=3>1 lab12<br>3 hw12<br>5 test7<br>8 hw6</font> |\n",
    "\n",
    "### Указания\n",
    "\n",
    "Для сортировки используйте встроенную функцию `sorted()`."
   ]
  },
  {
   "cell_type": "code",
   "execution_count": 115,
   "metadata": {},
   "outputs": [
    {
     "name": "stdout",
     "output_type": "stream",
     "text": [
      "3   hw6\n",
      "3   lab6\n",
      "3   test10\n",
      "4   bioinform\n",
      "4   lab10\n",
      "4   test6\n",
      "7   lab2\n",
      "8   hw12\n",
      "9   test7\n",
      "13   .git\n",
      "25   hw1\n",
      "25   python-biocad\n",
      "33   .ipynb_checkpoints\n"
     ]
    }
   ],
   "source": [
    "os.getcwd()\n",
    "#print(os.getcwd())\n",
    "a = os.listdir()\n",
    "b = {}\n",
    "for e in os.listdir():\n",
    "    if os.path.isdir(e):\n",
    "        t = len(os.listdir(e))\n",
    "        b[e] = t\n",
    "\n",
    "for e,v in sorted(b.items(), key=lambda x: x[1]):\n",
    "    print(v,' ',e)\n"
   ]
  },
  {
   "cell_type": "markdown",
   "metadata": {},
   "source": [
    "# <font color=blue>Упражнение 6. Зайчик</font>\n",
    "\n",
    "В нашем зоопарке появился заяц. Его поместили в клетку, и чтобы ему не было скучно, директор зоопарка распорядился поставить в его клетке лесенку. Теперь наш зайчик может прыгать по лесенке вверх, перепрыгивая через ступеньки. Лестница имеет определенное количество ступенек $N$. Заяц может одним прыжком преодолеть не более $K$ ступенек. Для разнообразия зайчик пытается каждый раз найти новый путь к вершине лестницы. Директору любопытно, сколько различных способов есть у зайца добраться до вершины лестницы при заданных значениях $K$ и $N$. Помогите директору написать программу, которая поможет вычислить это количество. Например, если $K=3$ и $N=4$, то существуют следующие маршруты: $1+1+1+1$, $1+1+2$, $1+2+1$, $2+1+1$, $2+2$, $1+3$, $3+1$. Т.е. при данных значениях у зайца всего 7 различных маршрутов добраться до вершины лестницы.\n",
    "\n",
    "Решите задачу с помощью цикла и с помощью рекурсии. Оцените число операций сложения в решении с помощью цикла и в решении с помощью рекурсии.\n",
    "\n",
    "На вход через пробел подаются два числа: $N$ и $K$, а на выходе должно быть число способов, которыми зайчик может подняться по лестнице.\n",
    "\n",
    "| <font size=3>Входные данные</font> | <font size=3>Выходные данные</font> |\n",
    "| :---: | :--- |\n",
    "| <font size=3>1 1</font> | <font size=3>1</font> |\n",
    "| <font size=3>4 1</font> | <font size=3>1</font> |\n",
    "| <font size=3>4 3</font> | <font size=3>7</font> |\n",
    "| <font size=3>5 3</font> | <font size=3>13</font> |\n",
    "| <font size=3>20 6</font> | <font size=3>463968</font> |\n",
    "| <font size=3>1000 10</font> | <font size=3>3294095758105787511385407972859038542317705852427481162892841272564748040138312014579265263161105170120201349689656513707891258830310535548882855330467329352402651303682567214655167621818296934460154723049280283873579833941963591827420579122855971331329868833951032621323875397280869936315517125658624</font> |\n",
    "\n",
    "### Примечание\n",
    "Последний случай невозможно посчитать с помощью рекурсии. "
   ]
  },
  {
   "cell_type": "code",
   "execution_count": 42,
   "metadata": {},
   "outputs": [
    {
     "name": "stdout",
     "output_type": "stream",
     "text": [
      "2 2\n",
      "2\n"
     ]
    }
   ],
   "source": [
    "import math\n",
    "r = []\n",
    "N,K = input().split()\n",
    "for i in range(N):\n",
    "    for j in range(K):\n",
    "        \n"
   ]
  },
  {
   "cell_type": "code",
   "execution_count": 69,
   "metadata": {},
   "outputs": [
    {
     "name": "stdout",
     "output_type": "stream",
     "text": [
      "24.0\n",
      "[0]\n",
      "[[0, 1, 2], [0, 2, 3], [1, 3, 0], [1, 0, 3], [2, 1, 0], [2, 3, 1], [3, 0, 1], [3, 1, 2], [0, 3, 1], [0, 1, 3], [1, 2, 0], [1, 3, 2], [2, 0, 1], [2, 1, 3], [3, 2, 0], [3, 0, 2], [0, 2, 1], [0, 3, 2], [1, 0, 2], [1, 2, 3], [2, 3, 0], [2, 0, 3], [3, 1, 0], [3, 2, 1]]\n"
     ]
    }
   ],
   "source": [
    "import math\n",
    "elm = 4\t\t\t\t# к-во элементов, n\n",
    "cells=3\t\t\t\t# к-во положений, m\n",
    "res=[]\t\t\t\t# результирующий список\n",
    "arrang = math.factorial(elm)/math.factorial(elm-cells)\t# расчёт к-ва сочетаний\n",
    "print(arrang)\n",
    "for i in range(int(arrang)):\n",
    "    res.append([])\n",
    "    source=[e for e in range(elm)]\t# массив ещё не задействованных элементов\n",
    "    for j in range(cells):\n",
    "        p=i//math.factorial(cells-1-j)%len(source)\n",
    "        res[len(res)-1].append(source[p])\n",
    "        source.pop(p)\n",
    "print(source)\n",
    "print(res)"
   ]
  },
  {
   "cell_type": "code",
   "execution_count": 70,
   "metadata": {},
   "outputs": [
    {
     "ename": "ZeroDivisionError",
     "evalue": "integer division or modulo by zero",
     "output_type": "error",
     "traceback": [
      "\u001b[0;31m---------------------------------------------------------------------------\u001b[0m",
      "\u001b[0;31mZeroDivisionError\u001b[0m                         Traceback (most recent call last)",
      "\u001b[0;32m<ipython-input-70-ea200feb6d9b>\u001b[0m in \u001b[0;36m<module>\u001b[0;34m\u001b[0m\n\u001b[1;32m      8\u001b[0m     \u001b[0;31m#source=[e for e in range()]        # массив ещё не задействованных элементов\u001b[0m\u001b[0;34m\u001b[0m\u001b[0;34m\u001b[0m\u001b[0m\n\u001b[1;32m      9\u001b[0m     \u001b[0;32mfor\u001b[0m \u001b[0mj\u001b[0m \u001b[0;32min\u001b[0m \u001b[0mrange\u001b[0m\u001b[0;34m(\u001b[0m\u001b[0mcells\u001b[0m\u001b[0;34m)\u001b[0m\u001b[0;34m:\u001b[0m\u001b[0;34m\u001b[0m\u001b[0m\n\u001b[0;32m---> 10\u001b[0;31m         \u001b[0mp\u001b[0m\u001b[0;34m=\u001b[0m\u001b[0mi\u001b[0m\u001b[0;34m//\u001b[0m\u001b[0mmath\u001b[0m\u001b[0;34m.\u001b[0m\u001b[0mfactorial\u001b[0m\u001b[0;34m(\u001b[0m\u001b[0mcells\u001b[0m\u001b[0;34m-\u001b[0m\u001b[0mj\u001b[0m\u001b[0;34m)\u001b[0m\u001b[0;34m%\u001b[0m\u001b[0mlen\u001b[0m\u001b[0;34m(\u001b[0m\u001b[0msource\u001b[0m\u001b[0;34m)\u001b[0m\u001b[0;34m\u001b[0m\u001b[0m\n\u001b[0m\u001b[1;32m     11\u001b[0m         \u001b[0mres\u001b[0m\u001b[0;34m[\u001b[0m\u001b[0;34m-\u001b[0m\u001b[0;36m1\u001b[0m\u001b[0;34m]\u001b[0m\u001b[0;34m.\u001b[0m\u001b[0mappend\u001b[0m\u001b[0;34m(\u001b[0m\u001b[0msource\u001b[0m\u001b[0;34m[\u001b[0m\u001b[0mp\u001b[0m\u001b[0;34m]\u001b[0m\u001b[0;34m)\u001b[0m\u001b[0;34m\u001b[0m\u001b[0m\n\u001b[1;32m     12\u001b[0m         \u001b[0msource\u001b[0m\u001b[0;34m.\u001b[0m\u001b[0mpop\u001b[0m\u001b[0;34m(\u001b[0m\u001b[0mp\u001b[0m\u001b[0;34m)\u001b[0m\u001b[0;34m\u001b[0m\u001b[0m\n",
      "\u001b[0;31mZeroDivisionError\u001b[0m: integer division or modulo by zero"
     ]
    }
   ],
   "source": [
    "import math\n",
    "elm = 3\n",
    "cells=4\t\t\t\t# к-во положений, m\n",
    "res=[]\t\t\t\t# результирующий список\n",
    "arrang = math.factorial(elm)/math.factorial(cells-elm)\t# расчёт к-ва сочетаний\n",
    "for i in range(int(elm)):\n",
    "    res.append([])\n",
    "    #source=[e for e in range()]\t# массив ещё не задействованных элементов\n",
    "    for j in range(cells):\n",
    "        p=i//math.factorial(cells-j)%len(source)\n",
    "        res[-1].append(source[p])\n",
    "        source.pop(p)\n",
    "        \n",
    "print(source)\n",
    "print(res)\n",
    "print(len(res))"
   ]
  },
  {
   "cell_type": "markdown",
   "metadata": {},
   "source": []
  }
 ],
 "metadata": {
  "kernelspec": {
   "display_name": "Python 3",
   "language": "python",
   "name": "python3"
  },
  "language_info": {
   "codemirror_mode": {
    "name": "ipython",
    "version": 3
   },
   "file_extension": ".py",
   "mimetype": "text/x-python",
   "name": "python",
   "nbconvert_exporter": "python",
   "pygments_lexer": "ipython3",
   "version": "3.7.0"
  }
 },
 "nbformat": 4,
 "nbformat_minor": 2
}
