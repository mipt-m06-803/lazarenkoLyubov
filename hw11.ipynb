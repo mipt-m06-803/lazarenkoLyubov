{
 "cells": [
  {
   "cell_type": "markdown",
   "metadata": {},
   "source": [
    "### Упражнение 1. Списки с одинаковым содержимым\n",
    "\n",
    "Определите, содержат ли списки $A$ и $B$ из одинаковые наборы элементов.\n",
    "\n",
    "\n",
    "#### Пример\n",
    "\n",
    "| <font size=3>Входные последовательности</font> | <font size=3>Выходная последовательность</font> |\n",
    "| :---: | :---: |\n",
    "| <font size=3>1 3 1<br>1 1 3</font> | <font size=3>True</font> |\n",
    "| <font size=3>1 3 1<br>1 3 3</font> | <font size=3>False</font> |"
   ]
  },
  {
   "cell_type": "code",
   "execution_count": 1,
   "metadata": {},
   "outputs": [],
   "source": [
    "import random\n",
    "alphabet = list(range(5))\n",
    "N = 20\n",
    "A = [random.choice(alphabet) for _ in range(N)]\n",
    "if random.randint(0, 2):\n",
    "    B = [random.choice(alphabet) for _ in range(N)]\n",
    "else:\n",
    "    B = random.shuffle(A)\n",
    "    "
   ]
  },
  {
   "cell_type": "code",
   "execution_count": 4,
   "metadata": {},
   "outputs": [
    {
     "name": "stdout",
     "output_type": "stream",
     "text": [
      "False\n"
     ]
    }
   ],
   "source": [
    "def inp(L):\n",
    "    for i in range(len(L)-1):\n",
    "        j = i + 1\n",
    "        while j >= 1 and L[j-1] > L[j]:\n",
    "            L[j], L[j-1] = L[j-1], L[j]\n",
    "            j -= 1\n",
    "    return L\n",
    "print(\"True\" if inp(A) == inp(B) else \"False\")"
   ]
  },
  {
   "cell_type": "markdown",
   "metadata": {},
   "source": [
    "### Упражнение 2. Наиболее близкие точки\n",
    "\n",
    "Дан список $A$ различных точек на коорднатной прямой. Распечатайте все пары точек, расстояние между которыми минимально."
   ]
  },
  {
   "cell_type": "code",
   "execution_count": 51,
   "metadata": {},
   "outputs": [
    {
     "name": "stdout",
     "output_type": "stream",
     "text": [
      "[6, 8, 21, 32, 46, 50, 54, 55, 56, 61, 65, 88, 94]\n",
      "6 8\n",
      "54 55\n",
      "55 56\n"
     ]
    }
   ],
   "source": [
    "import random\n",
    "N = random.randint(10, 20)\n",
    "A = random.sample(range(100), N)\n",
    "#print(A)\n",
    "\n",
    "def inp(L):\n",
    "    for i in range(len(L)-1):\n",
    "        j = i + 1\n",
    "        while j >= 1 and L[j-1] > L[j]:\n",
    "            L[j], L[j-1] = L[j-1], L[j]\n",
    "            j -= 1\n",
    "    return L\n",
    "b = inp(A)\n",
    "print(b)\n",
    "min_ = 10\n",
    "for i in range(1, len(b)):\n",
    "    if b[i]-b[i-1] <= min_:\n",
    "        min_ = b[i] - b[i-1]\n",
    "        d,c = b[i],b[i-1]\n",
    "        \n",
    "        print(c,d)"
   ]
  },
  {
   "cell_type": "markdown",
   "metadata": {},
   "source": [
    "### Упражнение 3. Треугольники\n",
    "\n",
    "Заданы $N$ попарно разлиных длин отрезков. Вычислить количество способов, которыми из этих отрезков можно сложить треугольник. Возможно ли, чтобы алгоритм работал с эффективностью $O(N^2)$?"
   ]
  },
  {
   "cell_type": "code",
   "execution_count": 65,
   "metadata": {},
   "outputs": [
    {
     "name": "stdout",
     "output_type": "stream",
     "text": [
      "[10, 18, 35, 14, 24, 29, 25, 88, 86, 69]\n",
      "43\n"
     ]
    }
   ],
   "source": [
    "import random\n",
    "N = random.randint(10, 20)\n",
    "A = random.sample(range(100), N)\n",
    "# print(N)\n",
    "print(A)\n",
    "#A = [2,2,2,2]\n",
    "quantity = 0\n",
    "for i in range(0,len(A)):\n",
    "    for j in range(i+1,len(A)):\n",
    "        for k in range(j+1,len(A)):\n",
    "            #print(A[i],A[j],A[k])\n",
    "            if (A[i]+A[j]-A[k])*(A[i]+A[k]-A[j])*(A[j]+A[k]-A[i]) > 0:\n",
    "                quantity +=1\n",
    "print(quantity)"
   ]
  },
  {
   "cell_type": "markdown",
   "metadata": {},
   "source": [
    "### Упражнение 4. Сортировка расческой\n",
    "\n",
    "Напишите функцию, сортирующую функцию с помощью алгоритма сортировки [расческой](https://ru.wikipedia.org/wiki/%D0%A1%D0%BE%D1%80%D1%82%D0%B8%D1%80%D0%BE%D0%B2%D0%BA%D0%B0_%D1%80%D0%B0%D1%81%D1%87%D1%91%D1%81%D0%BA%D0%BE%D0%B9)"
   ]
  },
  {
   "cell_type": "code",
   "execution_count": 87,
   "metadata": {},
   "outputs": [
    {
     "name": "stdout",
     "output_type": "stream",
     "text": [
      "6 5 4 7 8 7 8\n",
      "4\n",
      "3\n",
      "2\n",
      "1\n",
      "0\n",
      "['4', '5', '6', '7', '7', '8', '8']\n"
     ]
    }
   ],
   "source": [
    "a = input().split()\n",
    "\n",
    "#print(step)\n",
    "def rascheska(L): \n",
    "    step = int(len(L)//1.247)\n",
    "    while step > 0:\n",
    "        for i in range(len(L)):      \n",
    "            for idx,el in enumerate(L[1:len(L)-i]):      \n",
    "                idx += 1\n",
    "                if L[idx] < L[idx-step]:\n",
    "                    L[idx-step],L[idx] = L[idx],L[idx-step]\n",
    "\n",
    "        step = int(step//1.247)\n",
    "        print(step)\n",
    "    return L\n",
    "print(rascheska(a))"
   ]
  },
  {
   "cell_type": "code",
   "execution_count": 137,
   "metadata": {},
   "outputs": [
    {
     "name": "stdout",
     "output_type": "stream",
     "text": [
      "8 length done\n",
      "16 length done\n",
      "32 length done\n",
      "64 length done\n",
      "128 length done\n",
      "256 length done\n",
      "512 length done\n"
     ]
    },
    {
     "data": {
      "image/png": "[encoded data removed]",
      "text/plain": [
       "<Figure size 432x288 with 1 Axes>"
      ]
     },
     "metadata": {
      "needs_background": "light"
     },
     "output_type": "display_data"
    },
    {
     "data": {
      "image/png": "[encoded data removed]",
      "text/plain": [
       "<Figure size 432x288 with 1 Axes>"
      ]
     },
     "metadata": {
      "needs_background": "light"
     },
     "output_type": "display_data"
    }
   ],
   "source": [
    "import timeit\n",
    "import math\n",
    "import matplotlib.pyplot as plt\n",
    "start = 8\n",
    "factor = 2\n",
    "num_points = 7\n",
    "num_repeats = 10\n",
    "N_min = start\n",
    "N_max = start * factor**(num_points - 1)\n",
    "N_list = []\n",
    "T_list = []\n",
    "n2_list = []\n",
    "n3_list = []\n",
    "N = N_min\n",
    "setup = \"\"\"\n",
    "import random\n",
    "L=list(range(N))\n",
    "random.shuffle(L)\n",
    "def rascheska(L): \n",
    "    step = int(len(L)//1.247)\n",
    "    while step > 0:\n",
    "        for i in range(len(L)):      \n",
    "            for idx,el in enumerate(L[1:len(L)-i]):      \n",
    "                idx += 1\n",
    "                if L[idx] < L[idx-step]:\n",
    "                    L[idx-step],L[idx] = L[idx],L[idx-step]\n",
    "\n",
    "        step = int(step//1.247)\n",
    "     \n",
    "    return L\n",
    "\"\"\"\n",
    "while N <= N_max:\n",
    "    T = timeit.timeit(\n",
    "        stmt=\"a = L[:];rascheska(a)\",\n",
    "        setup=setup,\n",
    "        number=num_repeats,\n",
    "        globals=dict(N=N)\n",
    "    )\n",
    "    T_copy = timeit.timeit(\n",
    "        stmt=\"a = L[:]\",\n",
    "        setup=setup,\n",
    "        number=num_repeats,\n",
    "        globals=dict(N=N)\n",
    "    )\n",
    "    T -= T_copy\n",
    "    N_list.append(N)\n",
    "    T_list.append(T)\n",
    "    n2_list.append(T / (N ** 2))\n",
    "    n3_list.append(T / (N ** 3))\n",
    "    print(\"{} length done\".format(N))\n",
    "    N *= factor\n",
    "    \n",
    "plt.plot(N_list, n2_list)\n",
    "plt.xlabel(r\"${N}$\", fontsize=18)\n",
    "plt.ylabel(r\"$\\frac{T(N)}{N \\cdot \\ N}$\", fontsize=18)\n",
    "plt.xscale(\"linear\")\n",
    "plt.yscale(\"linear\")\n",
    "plt.title('rascheska: test time estimate $O(N \\cdot N)$', fontsize=16)\n",
    "plt.show()\n",
    "\n",
    "plt.plot(N_list, n3_list)\n",
    "plt.xlabel(r\"${N}$\", fontsize=18)\n",
    "plt.ylabel(r\"$\\frac{T(N)}{N \\cdot \\log^2 N}$\", fontsize=18)\n",
    "plt.xscale('linear')\n",
    "plt.yscale('linear')\n",
    "plt.title('rascheska: test time estimate $O(N \\cdot N \\cdot N)$', fontsize=16)\n",
    "plt.show()"
   ]
  },
  {
   "cell_type": "markdown",
   "metadata": {},
   "source": [
    "### Упражнение 5. Сортировка Шелла\n",
    "\n",
    "Напишите функцию, сортирующую список с помощью алгоритма сортировки [Шелла](https://ru.wikipedia.org/wiki/%D0%A1%D0%BE%D1%80%D1%82%D0%B8%D1%80%D0%BE%D0%B2%D0%BA%D0%B0_%D0%A8%D0%B5%D0%BB%D0%BB%D0%B0). Добавьте возможность изменения длины промежутка согласно последовательностям Седжвика и Пратта."
   ]
  },
  {
   "cell_type": "code",
   "execution_count": 108,
   "metadata": {},
   "outputs": [
    {
     "name": "stdout",
     "output_type": "stream",
     "text": [
      "9 8 7 6 5\n",
      "7\n",
      "9\n",
      "6\n",
      "8\n",
      "5\n",
      "9\n",
      "6\n",
      "7\n",
      "5\n",
      "7\n",
      "5\n",
      "6\n",
      "['5', '6', '7', '8', '9']\n"
     ]
    }
   ],
   "source": [
    "def shell(L):\n",
    "    d = int(len(L)//2)\n",
    "\n",
    "    while d > 0:\n",
    "        for i in range(len(L)):\n",
    "            j = i\n",
    "            while j >0 and L[j-d] > L[j]:\n",
    "#                 print(L[j])\n",
    "#                 print(L[j-d])\n",
    "                L[j], L[j-d] = L[j-d], L[j]\n",
    "                j -= 1\n",
    "                #print(d)\n",
    "        d = int(d//2)\n",
    "        \n",
    "    return L\n",
    "b = input().split()\n",
    "print(shell(b))"
   ]
  },
  {
   "cell_type": "markdown",
   "metadata": {},
   "source": [
    "С последовательностью Седжвика"
   ]
  },
  {
   "cell_type": "code",
   "execution_count": 109,
   "metadata": {},
   "outputs": [
    {
     "name": "stdout",
     "output_type": "stream",
     "text": [
      "7 6 5 4 3 9 0\n",
      "['0', '3', '4', '5', '6', '7', '9']\n"
     ]
    }
   ],
   "source": [
    "a = input().split()\n",
    "def sedg(L):\n",
    "    gap = []\n",
    "    d = 0\n",
    "    i = 0\n",
    "    while 3*d <= len(L):\n",
    "        #print(i,d)\n",
    "        if i % 2 == 0:\n",
    "            d = int(9*2**i - (9*2**(i/2)) + 1)\n",
    "        else:\n",
    "            d = int(8*2**i - 6*2**((i+1)/2) + 1)\n",
    "        gap.append(d)\n",
    "        #d += d\n",
    "        i += 1\n",
    "    gap = gap[:-1]\n",
    "    return gap[::-1]\n",
    "#print(sedg(a))\n",
    "\n",
    "        \n",
    "    \n",
    "def shell_S(L):\n",
    "\n",
    "    for i in range(len(L)):  \n",
    "        d_ = sedg(L) \n",
    "        if len(d_) > 0:\n",
    "            d = d_.pop(0)\n",
    "        else:\n",
    "            d = 1\n",
    "        j = i\n",
    "       # print(i)\n",
    "        while j >= 1 and L[j-d] > L[j]:\n",
    "            L[j], L[j-d] = L[j-d], L[j]\n",
    "            j -= 1\n",
    "          #  print(j)\n",
    "    return L\n",
    "print(shell_S(a))\n",
    "     \n",
    "    "
   ]
  },
  {
   "cell_type": "markdown",
   "metadata": {},
   "source": [
    "Оценка временной сложности сортировки Шелла"
   ]
  },
  {
   "cell_type": "code",
   "execution_count": 122,
   "metadata": {},
   "outputs": [
    {
     "name": "stdout",
     "output_type": "stream",
     "text": [
      "8 length done\n",
      "16 length done\n",
      "32 length done\n",
      "64 length done\n",
      "128 length done\n"
     ]
    },
    {
     "data": {
      "image/png": "[encoded data removed]",
      "text/plain": [
       "<Figure size 432x288 with 1 Axes>"
      ]
     },
     "metadata": {
      "needs_background": "light"
     },
     "output_type": "display_data"
    },
    {
     "data": {
      "image/png": "[encoded data removed]",
      "text/plain": [
       "<Figure size 432x288 with 1 Axes>"
      ]
     },
     "metadata": {
      "needs_background": "light"
     },
     "output_type": "display_data"
    }
   ],
   "source": [
    "import timeit\n",
    "import math\n",
    "import matplotlib.pyplot as plt\n",
    "start = 8\n",
    "factor = 2\n",
    "num_points = 5\n",
    "num_repeats = 10\n",
    "N_min = start\n",
    "N_max = start * factor**(num_points - 1)\n",
    "N_list = []\n",
    "T_list = []\n",
    "n2_list = []\n",
    "nlogn2_list = []\n",
    "N = N_min\n",
    "setup = \"\"\"\n",
    "import random\n",
    "L=list(range(N))\n",
    "random.shuffle(L)\n",
    "def shell(L):\n",
    "    d = int(len(L)//2)\n",
    "    while d > 0:\n",
    "        for i in range(len(L)):\n",
    "            j = i\n",
    "            while j >0 and L[j-d] > L[j]:\n",
    "                L[j], L[j-d] = L[j-d], L[j]\n",
    "                j -= 1\n",
    "                #print(d)\n",
    "        d = int(d//2)\n",
    "        \n",
    "    return L\n",
    "\"\"\"\n",
    "while N <= N_max:\n",
    "    T = timeit.timeit(\n",
    "        stmt=\"a = L[:];shell(a)\",\n",
    "        setup=setup,\n",
    "        number=num_repeats,\n",
    "        globals=dict(N=N)\n",
    "    )\n",
    "    T_copy = timeit.timeit(\n",
    "        stmt=\"a = L[:]\",\n",
    "        setup=setup,\n",
    "        number=num_repeats,\n",
    "        globals=dict(N=N)\n",
    "    )\n",
    "    T -= T_copy\n",
    "    N_list.append(N)\n",
    "    T_list.append(T)\n",
    "    n2_list.append(T / (N ** 2))\n",
    "    nlogn2_list.append(T / (N * math.log(N) ** 2))\n",
    "    print(\"{} length done\".format(N))\n",
    "    N *= factor\n",
    "    \n",
    "plt.plot(N_list, nlogn_list)\n",
    "plt.xlabel(r\"${N}$\", fontsize=18)\n",
    "plt.ylabel(r\"$\\frac{T(N)}{N \\cdot \\ N}$\", fontsize=18)\n",
    "plt.xscale(\"linear\")\n",
    "plt.yscale(\"linear\")\n",
    "plt.title('shell: test time estimate $O(N \\cdot N)$', fontsize=16)\n",
    "plt.show()\n",
    "\n",
    "plt.plot(N_list, nlogn2_list)\n",
    "plt.xlabel(r\"${N}$\", fontsize=18)\n",
    "plt.ylabel(r\"$\\frac{T(N)}{N \\cdot \\log^2 N}$\", fontsize=18)\n",
    "plt.xscale('log')\n",
    "plt.yscale('log')\n",
    "plt.title('shell: test time estimate $O(N \\cdot log ^2 N)$', fontsize=16)\n",
    "plt.show()"
   ]
  },
  {
   "cell_type": "code",
   "execution_count": 138,
   "metadata": {},
   "outputs": [
    {
     "name": "stdout",
     "output_type": "stream",
     "text": [
      "8 length done\n",
      "16 length done\n",
      "32 length done\n",
      "64 length done\n",
      "128 length done\n"
     ]
    },
    {
     "data": {
      "image/png": "[encoded data removed]",
      "text/plain": [
       "<Figure size 432x288 with 1 Axes>"
      ]
     },
     "metadata": {
      "needs_background": "light"
     },
     "output_type": "display_data"
    },
    {
     "data": {
      "image/png": "[encoded data removed]",
      "text/plain": [
       "<Figure size 432x288 with 1 Axes>"
      ]
     },
     "metadata": {
      "needs_background": "light"
     },
     "output_type": "display_data"
    }
   ],
   "source": [
    "import timeit\n",
    "import math\n",
    "import matplotlib.pyplot as plt\n",
    "start = 8\n",
    "factor = 2\n",
    "num_points = 5\n",
    "num_repeats = 10\n",
    "N_min = start\n",
    "N_max = start * factor**(num_points - 1)\n",
    "N_list = []\n",
    "T_list = []\n",
    "n4_3_list = []\n",
    "n2_list = []\n",
    "N = N_min\n",
    "setup = \"\"\"\n",
    "import random\n",
    "L=list(range(N))\n",
    "random.shuffle(L)\n",
    "\n",
    "def shell_S(L):\n",
    "    def sedg(L):\n",
    "        gap = []\n",
    "        d = 0\n",
    "        i = 0\n",
    "        while 3*d <= len(L):\n",
    "            #print(i,d)\n",
    "            if i % 2 == 0:\n",
    "                d = int(9*2**i - (9*2**(i/2)) + 1)\n",
    "            else:\n",
    "                d = int(8*2**i - 6*2**((i+1)/2) + 1)\n",
    "            gap.append(d)\n",
    "            #d += d\n",
    "            i += 1\n",
    "        gap = gap[:-1]\n",
    "        return gap[::-1]\n",
    "    for i in range(len(L)):  \n",
    "        d_ = sedg(L) \n",
    "        if len(d_) > 0:\n",
    "            d = d_.pop(0)\n",
    "        else:\n",
    "            d = 1\n",
    "        j = i\n",
    "       # print(i)\n",
    "        while j >= 1 and L[j-d] > L[j]:\n",
    "            L[j], L[j-d] = L[j-d], L[j]\n",
    "            j -= 1\n",
    "          #  print(j)\n",
    "    return L\n",
    "    \n",
    "\"\"\"\n",
    "while N <= N_max:\n",
    "    T = timeit.timeit(\n",
    "        stmt=\"a = L[:];shell_S(a)\",\n",
    "        setup=setup,\n",
    "        number=num_repeats,\n",
    "        globals=dict(N=N)\n",
    "    )\n",
    "    T_copy = timeit.timeit(\n",
    "        stmt=\"a = L[:]\",\n",
    "        setup=setup,\n",
    "        number=num_repeats,\n",
    "        globals=dict(N=N)\n",
    "    )\n",
    "    T -= T_copy\n",
    "    N_list.append(N)\n",
    "    T_list.append(T)\n",
    "    n4_3_list.append(T / (N ** (4/3)))\n",
    "    n2_list.append(T / (N ** 2))\n",
    "    print(\"{} length done\".format(N))\n",
    "    N *= factor\n",
    "    \n",
    "plt.plot(N_list, n4_3_list)\n",
    "plt.xlabel(r\"${N}$\", fontsize=18)\n",
    "plt.ylabel(r\"$\\frac{T(N)}{N \\cdot \\ N^(1/3)}$\", fontsize=18)\n",
    "plt.xscale('linear')\n",
    "plt.yscale('linear')\n",
    "plt.title('shell_S: test time estimate $O(N \\cdot N^(1/3))$', fontsize=16)\n",
    "plt.show()\n",
    "\n",
    "plt.plot(N_list, n2_list)\n",
    "plt.xlabel(r\"${N}$\", fontsize=18)\n",
    "plt.ylabel(r\"$\\frac{T(N)}{N \\cdot \\ N}$\", fontsize=18)\n",
    "plt.xscale('linear')\n",
    "plt.yscale('linear')\n",
    "plt.title('shell_S: test time estimate $O(N \\cdot N)$', fontsize=16)\n",
    "plt.show()"
   ]
  },
  {
   "cell_type": "markdown",
   "metadata": {},
   "source": [
    "Оценка временной сложности пузырька"
   ]
  },
  {
   "cell_type": "code",
   "execution_count": 140,
   "metadata": {},
   "outputs": [
    {
     "name": "stdout",
     "output_type": "stream",
     "text": [
      "8 length done\n",
      "16 length done\n",
      "32 length done\n",
      "64 length done\n",
      "128 length done\n"
     ]
    },
    {
     "data": {
      "image/png": "[encoded data removed]",
      "text/plain": [
       "<Figure size 432x288 with 1 Axes>"
      ]
     },
     "metadata": {
      "needs_background": "light"
     },
     "output_type": "display_data"
    },
    {
     "data": {
      "image/png": "[encoded data removed]",
      "text/plain": [
       "<Figure size 432x288 with 1 Axes>"
      ]
     },
     "metadata": {
      "needs_background": "light"
     },
     "output_type": "display_data"
    }
   ],
   "source": [
    "import timeit\n",
    "import math\n",
    "import matplotlib.pyplot as plt\n",
    "start = 8\n",
    "factor = 2\n",
    "num_points = 5\n",
    "num_repeats = 10\n",
    "N_min = start\n",
    "N_max = start * factor**(num_points - 1)\n",
    "N_list = []\n",
    "T_list = []\n",
    "n2_list = []\n",
    "n3_list = []\n",
    "N = N_min\n",
    "setup = \"\"\"\n",
    "import random\n",
    "L=list(range(N))\n",
    "random.shuffle(L)\n",
    "def bub(L):\n",
    "    for i in range(len(L)):\n",
    "        for idx,el in enumerate(L[1:len(L)-i]):\n",
    "            idx += 1\n",
    "            if L[idx] < L[idx-1]:\n",
    "                L[idx-1],L[idx] = L[idx],L[idx-1]\n",
    "    return L\n",
    "\"\"\"\n",
    "while N <= N_max:\n",
    "    T = timeit.timeit(\n",
    "        stmt=\"a = L[:];bub(a)\",\n",
    "        setup=setup,\n",
    "        number=num_repeats,\n",
    "        globals=dict(N=N)\n",
    "    )\n",
    "    T_copy = timeit.timeit(\n",
    "        stmt=\"a = L[:]\",\n",
    "        setup=setup,\n",
    "        number=num_repeats,\n",
    "        globals=dict(N=N)\n",
    "    )\n",
    "    T -= T_copy\n",
    "    N_list.append(N)\n",
    "    T_list.append(T)\n",
    "    n2_list.append(T / (N ** 2))\n",
    "    n3_list.append(T / (N ** 3))\n",
    "    print(\"{} length done\".format(N))\n",
    "    N *= factor\n",
    "    \n",
    "plt.plot(N_list, nlogn_list)\n",
    "plt.xlabel(r\"${N}$\", fontsize=18)\n",
    "plt.ylabel(r\"$\\frac{T(N)}{N \\cdot \\ N}$\", fontsize=18)\n",
    "plt.xscale(\"linear\")\n",
    "plt.yscale(\"linear\")\n",
    "plt.title('bub: test time estimate $O(N \\cdot N)$', fontsize=16)\n",
    "plt.show()\n",
    "\n",
    "plt.plot(N_list, n3_list)\n",
    "plt.xlabel(r\"${N}$\", fontsize=18)\n",
    "plt.ylabel(r\"$\\frac{T(N)}{N \\cdot N \\cdot N}$\", fontsize=18)\n",
    "plt.xscale('linear')\n",
    "plt.yscale('linear')\n",
    "plt.title('bub: test time estimate $O(N \\cdot N \\cdot N)$', fontsize=16)\n",
    "plt.show()"
   ]
  },
  {
   "cell_type": "markdown",
   "metadata": {},
   "source": [
    "Сортировка вставками"
   ]
  },
  {
   "cell_type": "code",
   "execution_count": 141,
   "metadata": {},
   "outputs": [
    {
     "name": "stdout",
     "output_type": "stream",
     "text": [
      "8 length done\n",
      "16 length done\n",
      "32 length done\n",
      "64 length done\n",
      "128 length done\n"
     ]
    },
    {
     "data": {
      "image/png": "[encoded data removed]",
      "text/plain": [
       "<Figure size 432x288 with 1 Axes>"
      ]
     },
     "metadata": {
      "needs_background": "light"
     },
     "output_type": "display_data"
    },
    {
     "data": {
      "image/png": "[encoded data removed]",
      "text/plain": [
       "<Figure size 432x288 with 1 Axes>"
      ]
     },
     "metadata": {
      "needs_background": "light"
     },
     "output_type": "display_data"
    }
   ],
   "source": [
    "import timeit\n",
    "import math\n",
    "import matplotlib.pyplot as plt\n",
    "start = 8\n",
    "factor = 2\n",
    "num_points = 5\n",
    "num_repeats = 10\n",
    "N_min = start\n",
    "N_max = start * factor**(num_points - 1)\n",
    "N_list = []\n",
    "T_list = []\n",
    "n2_list = []\n",
    "n3_list = []\n",
    "N = N_min\n",
    "setup = \"\"\"\n",
    "import random\n",
    "L=list(range(N))\n",
    "random.shuffle(L)\n",
    "def choice_sort(L):\n",
    "    def min_(L):\n",
    "        m = L[0]\n",
    "        i = 0\n",
    "        for j, e in enumerate(L[1:]):\n",
    "            if e < m:\n",
    "                #print(e)\n",
    "                m = e\n",
    "                i = j + 1\n",
    "        return i\n",
    "    for k in range(len(L)-1):\n",
    "        v = min_(L[k:])\n",
    "        v += k  \n",
    "        L[v], L[k] = L[k], L[v]\n",
    "    return L\n",
    "\"\"\"\n",
    "while N <= N_max:\n",
    "    T = timeit.timeit(\n",
    "        stmt=\"a = L[:];choice_sort(a)\",\n",
    "        setup=setup,\n",
    "        number=num_repeats,\n",
    "        globals=dict(N=N)\n",
    "    )\n",
    "    T_copy = timeit.timeit(\n",
    "        stmt=\"a = L[:]\",\n",
    "        setup=setup,\n",
    "        number=num_repeats,\n",
    "        globals=dict(N=N)\n",
    "    )\n",
    "    T -= T_copy\n",
    "    N_list.append(N)\n",
    "    T_list.append(T)\n",
    "    n2_list.append(T / (N ** 2))\n",
    "    n3_list.append(T / (N ** 3))\n",
    "    print(\"{} length done\".format(N))\n",
    "    N *= factor\n",
    "    \n",
    "plt.plot(N_list, nlogn_list)\n",
    "plt.xlabel(r\"${N}$\", fontsize=18)\n",
    "plt.ylabel(r\"$\\frac{T(N)}{N \\cdot \\ N}$\", fontsize=18)\n",
    "plt.xscale(\"linear\")\n",
    "plt.yscale(\"linear\")\n",
    "plt.title('choice_sort: test time estimate $O(N \\cdot N)$', fontsize=16)\n",
    "plt.show()\n",
    "\n",
    "plt.plot(N_list, n3_list)\n",
    "plt.xlabel(r\"${N}$\", fontsize=18)\n",
    "plt.ylabel(r\"$\\frac{T(N)}{N \\cdot N \\cdot N}$\", fontsize=18)\n",
    "plt.xscale('linear')\n",
    "plt.yscale('linear')\n",
    "plt.title('choice_sort: test time estimate $O(N \\cdot N \\cdot N)$', fontsize=16)\n",
    "plt.show()"
   ]
  },
  {
   "cell_type": "code",
   "execution_count": null,
   "metadata": {},
   "outputs": [],
   "source": [
    "Сортировка вставками"
   ]
  },
  {
   "cell_type": "code",
   "execution_count": null,
   "metadata": {},
   "outputs": [],
   "source": [
    "import timeit\n",
    "import math\n",
    "import matplotlib.pyplot as plt\n",
    "start = 8\n",
    "factor = 2\n",
    "num_points = 5\n",
    "num_repeats = 10\n",
    "N_min = start\n",
    "N_max = start * factor**(num_points - 1)\n",
    "N_list = []\n",
    "T_list = []\n",
    "n2_list = []\n",
    "n3_list = []\n",
    "N = N_min\n",
    "setup = \"\"\"\n",
    "import random\n",
    "L=list(range(N))\n",
    "random.shuffle(L)\n",
    "def inp(L):\n",
    "    for i in range(len(L)-1):\n",
    "        j = i + 1\n",
    "        while j >= 1 and L[j-1] > L[j]:\n",
    "            L[j], L[j-1] = L[j-1], L[j]\n",
    "            j -= 1\n",
    "    return L\n",
    "\"\"\"\n",
    "while N <= N_max:\n",
    "    T = timeit.timeit(\n",
    "        stmt=\"a = L[:];inp(a)\",\n",
    "        setup=setup,\n",
    "        number=num_repeats,\n",
    "        globals=dict(N=N)\n",
    "    )\n",
    "    T_copy = timeit.timeit(\n",
    "        stmt=\"a = L[:]\",\n",
    "        setup=setup,\n",
    "        number=num_repeats,\n",
    "        globals=dict(N=N)\n",
    "    )\n",
    "    T -= T_copy\n",
    "    N_list.append(N)\n",
    "    T_list.append(T)\n",
    "    n2_list.append(T / (N ** 2))\n",
    "    n3_list.append(T / (N ** 3))\n",
    "    print(\"{} length done\".format(N))\n",
    "    N *= factor\n",
    "    \n",
    "plt.plot(N_list, nlogn_list)\n",
    "plt.xlabel(r\"${N}$\", fontsize=18)\n",
    "plt.ylabel(r\"$\\frac{T(N)}{N \\cdot \\ N}$\", fontsize=18)\n",
    "plt.xscale(\"linear\")\n",
    "plt.yscale(\"linear\")\n",
    "plt.title('inp: test time estimate $O(N \\cdot N)$', fontsize=16)\n",
    "plt.show()\n",
    "\n",
    "plt.plot(N_list, n3_list)\n",
    "plt.xlabel(r\"${N}$\", fontsize=18)\n",
    "plt.ylabel(r\"$\\frac{T(N)}{N \\cdot N \\cdot N}$\", fontsize=18)\n",
    "plt.xscale('linear')\n",
    "plt.yscale('linear')\n",
    "plt.title('inp: test time estimate $O(N \\cdot N \\cdot N)$', fontsize=16)\n",
    "plt.show()"
   ]
  },
  {
   "cell_type": "markdown",
   "metadata": {},
   "source": [
    "### Упражнение 6. Экспериментальая оценка временной сложности алгоритма\n",
    "\n",
    "Проверьте, верны ли для реализованных Вами алгоритмов их теоретические временные сложности. Исследуйте сортировки выбором, пузырьком, вставками, расческой. Исследуйте сортировку Шелла в вариантах с последовательностями Седжвика, Пратта и в оригинальном варианте с делением длины промежутка пополам.\n",
    "\n",
    "Для того чтобы убедиться в том, что тестируемая сложность $O(f(N))$ подходит, надо изучить зависимость отношения $\\frac{T(N)}{f(N)}$ от $N$. Если $\\displaystyle\\lim_{N\\to \\infty}\\frac{T(N)}{f(N)} = С$, где $C > 0$, то сложность алгоритма не превосходит $O(f(N))$. Если $C > 0$, то сложность алгоритма - $O(f(N))$.\n",
    "\n",
    "Для квадратичных сортировок брать значения $N$, превышающие $10^5$ не следует, так как сортировка будет занимать слишком много времени. У меня сортировка пузырьком списка, состоящего из $10^5$ целых чисел заняла почти 15 мин.\n",
    "\n",
    "Для измерения времени сортировки используйте модуль [`timeit`](https://docs.python.org/3/library/timeit.html). Аргумент `stmt` функции `timeit.timeit()` содержит код, выполняемый `number` раз, после чего вычисляется среднее время его выполнения. Аргумент `setup` содержит код, который выполняется **1** раз до повторных запусков `stmt`. С помощью аргумента `globals` в `timeit.timeit()` передаются имена, необходимые для успешного выполнения `stmt` и `setup`. \n",
    "\n",
    "Обратите внимание, что в `stmt` инициализируется список `a`. Если этого не делать, то начиная со второго повторения `a` будет упорядочен до сортировки.\n",
    "\n",
    "Ниже приведен пример измерения времени сортировки с помощью метода `list.sort()`. Встроенная сортировка Python использует алгоритм [timsort](https://ru.wikipedia.org/wiki/Timsort), который сочетает в себе сортировки вставками и слиянием. Теоретическая сложность алгоритма $O(N \\cdot \\log N)$, однако у меня получилось, что сложность алгоритма ближе к $O(N \\cdot \\log ^2 N)$"
   ]
  },
  {
   "cell_type": "code",
   "execution_count": 2,
   "metadata": {},
   "outputs": [
    {
     "name": "stdout",
     "output_type": "stream",
     "text": [
      "8 length done\n",
      "16 length done\n",
      "32 length done\n",
      "64 length done\n",
      "128 length done\n",
      "256 length done\n",
      "512 length done\n",
      "1024 length done\n",
      "2048 length done\n",
      "4096 length done\n",
      "8192 length done\n",
      "16384 length done\n",
      "32768 length done\n",
      "65536 length done\n",
      "131072 length done\n",
      "262144 length done\n",
      "524288 length done\n",
      "1048576 length done\n",
      "2097152 length done\n",
      "4194304 length done\n",
      "8388608 length done\n",
      "16777216 length done\n",
      "33554432 length done\n"
     ]
    },
    {
     "data": {
      "image/png": "[encoded data removed]",
      "text/plain": [
       "<matplotlib.figure.Figure at 0x7f86239ac550>"
      ]
     },
     "metadata": {},
     "output_type": "display_data"
    },
    {
     "data": {
      "image/png": "[encoded data removed]",
      "text/plain": [
       "<matplotlib.figure.Figure at 0x7f86237f7860>"
      ]
     },
     "metadata": {},
     "output_type": "display_data"
    }
   ],
   "source": [
    "import timeit\n",
    "import math\n",
    "import matplotlib.pyplot as plt\n",
    "start = 8\n",
    "factor = 2\n",
    "num_points = 23\n",
    "num_repeats = 10\n",
    "N_min = start\n",
    "N_max = start * factor**(num_points - 1)\n",
    "N_list = []\n",
    "T_list = []\n",
    "nlogn_list = []\n",
    "nlogn2_list = []\n",
    "N = N_min\n",
    "setup = \"\"\"\n",
    "import random\n",
    "L=list(range(N))\n",
    "random.shuffle(L)\n",
    "def timsort(l):\n",
    "    l.sort()\n",
    "\"\"\"\n",
    "while N <= N_max:\n",
    "    T = timeit.timeit(\n",
    "        stmt=\"a = L[:];timsort(a)\",\n",
    "        setup=setup,\n",
    "        number=num_repeats,\n",
    "        globals=dict(N=N)\n",
    "    )\n",
    "    T_copy = timeit.timeit(\n",
    "        stmt=\"a = L[:]\",\n",
    "        setup=setup,\n",
    "        number=num_repeats,\n",
    "        globals=dict(N=N)\n",
    "    )\n",
    "    T -= T_copy\n",
    "    N_list.append(N)\n",
    "    T_list.append(T)\n",
    "    nlogn_list.append(T / (N * math.log(N)))\n",
    "    nlogn2_list.append(T / (N * math.log(N) ** 2))\n",
    "    print(\"{} length done\".format(N))\n",
    "    N *= factor\n",
    "    \n",
    "plt.plot(N_list, nlogn_list)\n",
    "plt.xlabel(r\"${N}$\", fontsize=18)\n",
    "plt.ylabel(r\"$\\frac{T(N)}{N \\cdot \\log N}$\", fontsize=18)\n",
    "plt.xscale('log')\n",
    "plt.yscale('log')\n",
    "plt.title('timsort: test time estimate $O(N \\cdot log N)$', fontsize=16)\n",
    "plt.show()\n",
    "\n",
    "plt.plot(N_list, nlogn2_list)\n",
    "plt.xlabel(r\"${N}$\", fontsize=18)\n",
    "plt.ylabel(r\"$\\frac{T(N)}{N \\cdot \\log^2 N}$\", fontsize=18)\n",
    "plt.xscale('log')\n",
    "plt.yscale('log')\n",
    "plt.title('timsort: test time estimate $O(N \\cdot log ^2 N)$', fontsize=16)\n",
    "plt.show()"
   ]
  },
  {
   "cell_type": "code",
   "execution_count": null,
   "metadata": {
    "collapsed": true
   },
   "outputs": [],
   "source": []
  },
  {
   "cell_type": "markdown",
   "metadata": {},
   "source": [
    "### Упражнение 7. Слияние\n",
    "\n",
    "В двух файлах <font color=green>seq1.txt</font>, <font color=green>seq2.txt</font> записаны возрастающие последовательности целых чисел. Объедините эти последовательности в одну возрастающую последовательность и запишите ее в третий файл. Постарайтесь сделать алгоритм однопроходным.\n",
    "\n",
    "#### Пример\n",
    "\n",
    "| <font size=3>Входные последовательности</font> | <font size=3>Выходная последовательность</font> |\n",
    "| :---: | :---: |\n",
    "| <font size=3>1 3 5 7<br>2 3 4 5 6</font> | <font size=3>1 2 3 3 4 5 5 6 7</font> |"
   ]
  },
  {
   "cell_type": "code",
   "execution_count": 15,
   "metadata": {},
   "outputs": [
    {
     "name": "stdout",
     "output_type": "stream",
     "text": [
      "['1', '3', '5', '7']\n",
      "['2', '3', '4', '5', '6']\n",
      "1 2 3 3 4 5 5 6 7\n"
     ]
    }
   ],
   "source": [
    "with open('seq1.txt', 'r') as f:\n",
    "    t1 = f.read().split()\n",
    "with open('seq2.txt','r') as g:\n",
    "    t2 = g.read().split()\n",
    "print(t1)\n",
    "\n",
    "\n",
    "\n",
    "def combine(a,b):\n",
    "    \n",
    "    c = []\n",
    "    while len(a) > 0 and len(b) > 0:\n",
    "        if a[0] > b[0]:\n",
    "            c.append(b.pop(0))\n",
    "        else:\n",
    "            c.append(a.pop(0))\n",
    "    if len(a) > 0:\n",
    "        c.extend(a)\n",
    "    if len(b) > 0:\n",
    "        c.extend(b)\n",
    "    return c\n",
    "print(t2)\n",
    "print(\" \".join(combine(t1,t2)))\n",
    "\n",
    "with open('seq3.txt', 'w') as q:\n",
    "    q.write(\" \".join(combine(t1,t2)))\n"
   ]
  },
  {
   "cell_type": "code",
   "execution_count": 13,
   "metadata": {},
   "outputs": [],
   "source": [
    "with open('seq1.txt','w') as d:\n",
    "    d.write('1 3 5 7')\n",
    "with open('seq2.txt','w') as h:\n",
    "    h.write('2 3 4 5 6')"
   ]
  },
  {
   "cell_type": "code",
   "execution_count": null,
   "metadata": {},
   "outputs": [],
   "source": []
  }
 ],
 "metadata": {
  "kernelspec": {
   "display_name": "Python 3",
   "language": "python",
   "name": "python3"
  },
  "language_info": {
   "codemirror_mode": {
    "name": "ipython",
    "version": 3
   },
   "file_extension": ".py",
   "mimetype": "text/x-python",
   "name": "python",
   "nbconvert_exporter": "python",
   "pygments_lexer": "ipython3",
   "version": "3.7.0"
  }
 },
 "nbformat": 4,
 "nbformat_minor": 2
}
