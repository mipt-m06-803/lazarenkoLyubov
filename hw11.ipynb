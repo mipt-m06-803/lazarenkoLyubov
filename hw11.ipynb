{
 "cells": [
  {
   "cell_type": "markdown",
   "metadata": {},
   "source": [
    "### Упражнение 1. Списки с одинаковым содержимым\n",
    "\n",
    "Определите, содержат ли списки $A$ и $B$ из одинаковые наборы элементов.\n",
    "\n",
    "\n",
    "#### Пример\n",
    "\n",
    "| <font size=3>Входные последовательности</font> | <font size=3>Выходная последовательность</font> |\n",
    "| :---: | :---: |\n",
    "| <font size=3>1 3 1<br>1 1 3</font> | <font size=3>True</font> |\n",
    "| <font size=3>1 3 1<br>1 3 3</font> | <font size=3>False</font> |"
   ]
  },
  {
   "cell_type": "code",
   "execution_count": 1,
   "metadata": {},
   "outputs": [],
   "source": [
    "import random\n",
    "alphabet = list(range(5))\n",
    "N = 20\n",
    "A = [random.choice(alphabet) for _ in range(N)]\n",
    "if random.randint(0, 2):\n",
    "    B = [random.choice(alphabet) for _ in range(N)]\n",
    "else:\n",
    "    B = random.shuffle(A)\n",
    "    "
   ]
  },
  {
   "cell_type": "code",
   "execution_count": 4,
   "metadata": {},
   "outputs": [
    {
     "name": "stdout",
     "output_type": "stream",
     "text": [
      "False\n"
     ]
    }
   ],
   "source": [
    "def inp(L):\n",
    "    for i in range(len(L)-1):\n",
    "        j = i + 1\n",
    "        while j >= 1 and L[j-1] > L[j]:\n",
    "            L[j], L[j-1] = L[j-1], L[j]\n",
    "            j -= 1\n",
    "    return L\n",
    "print(\"True\" if inp(A) == inp(B) else \"False\")"
   ]
  },
  {
   "cell_type": "markdown",
   "metadata": {},
   "source": [
    "### Упражнение 2. Наиболее близкие точки\n",
    "\n",
    "Дан список $A$ различных точек на коорднатной прямой. Распечатайте все пары точек, расстояние между которыми минимально."
   ]
  },
  {
   "cell_type": "code",
   "execution_count": 173,
   "metadata": {},
   "outputs": [
    {
     "name": "stdout",
     "output_type": "stream",
     "text": [
      "[2, 11, 21, 27, 31, 46, 59, 61, 79, 80, 84, 91]\n",
      "79 80\n"
     ]
    }
   ],
   "source": [
    "import random\n",
    "N = random.randint(10, 20)\n",
    "A = random.sample(range(100), N)\n",
    "#print(A)\n",
    "\n",
    "def close_(L):\n",
    "    def inp(L):\n",
    "        for i in range(len(L)-1):\n",
    "            j = i + 1\n",
    "            while j >= 1 and L[j-1] > L[j]:\n",
    "                L[j], L[j-1] = L[j-1], L[j]\n",
    "                j -= 1\n",
    "        return L\n",
    "    b = inp(A)\n",
    "    print(b)\n",
    "    min_ = b[1] - b[0] \n",
    "    flag = False\n",
    "    for i in range(2, len(b)):   \n",
    "        if b[i]-b[i-1] < min_:\n",
    "            min_ = b[i] - b[i-1]\n",
    "            flag = True\n",
    "    for i in range(2,len(b)):\n",
    "        if b[i] - b[i-1] == min_ and flag == False:\n",
    "              print(b[0],b[1],\"/n\",b[i-1],b[i])\n",
    "        elif b[i] - b[i-1] == min_ and flag == True:\n",
    "            print(b[i-1],b[i])\n",
    "close_(A)\n",
    "            "
   ]
  },
  {
   "cell_type": "markdown",
   "metadata": {},
   "source": [
    "### Упражнение 3. Треугольники\n",
    "\n",
    "Заданы $N$ попарно разлиных длин отрезков. Вычислить количество способов, которыми из этих отрезков можно сложить треугольник. Возможно ли, чтобы алгоритм работал с эффективностью $O(N^2)$?"
   ]
  },
  {
   "cell_type": "code",
   "execution_count": 227,
   "metadata": {},
   "outputs": [
    {
     "name": "stdout",
     "output_type": "stream",
     "text": [
      "[2, 2, 2, 2, 2]\n",
      "10\n"
     ]
    }
   ],
   "source": [
    "import random\n",
    "N = random.randint(10, 20)\n",
    "# A = random.sample(range(100), N)\n",
    "# print(N)\n",
    "print(A)\n",
    "A = [2,2,2,2,2]\n",
    "quantity = 0\n",
    "for i in range(0,len(A)-2):\n",
    "    for j in range(i+1,len(A)-1):\n",
    "        for k in range(j+1,len(A)):\n",
    "            #print(A[i],A[j],A[k])\n",
    "            if (A[i]+A[j]-A[k])*(A[i]+A[k]-A[j])*(A[j]+A[k]-A[i]) > 0:\n",
    "                quantity +=1\n",
    "print(quantity)"
   ]
  },
  {
   "cell_type": "code",
   "execution_count": 5,
   "metadata": {},
   "outputs": [
    {
     "name": "stdout",
     "output_type": "stream",
     "text": [
      "10\n"
     ]
    }
   ],
   "source": [
    "import random\n",
    "N = random.randint(10, 20)\n",
    "A = random.sample(range(100), N)\n",
    "#A = [2,2,2,2,2]\n",
    "quantity = 0\n",
    "A.sort(reverse = True)\n",
    "for i in range(0,len(A)-2):\n",
    "    for j in range(i + 1, len(A)-1):\n",
    "        if A[j] <= A[i]/2:\n",
    "            break\n",
    "        for k in range(j+1,len(A)):\n",
    "            if A[k] + A[j] <= A[i]:\n",
    "                break\n",
    "            quantity += 1\n",
    "print(quantity)"
   ]
  },
  {
   "cell_type": "markdown",
   "metadata": {},
   "source": [
    "### Упражнение 4. Сортировка расческой\n",
    "\n",
    "Напишите функцию, сортирующую функцию с помощью алгоритма сортировки [расческой](https://ru.wikipedia.org/wiki/%D0%A1%D0%BE%D1%80%D1%82%D0%B8%D1%80%D0%BE%D0%B2%D0%BA%D0%B0_%D1%80%D0%B0%D1%81%D1%87%D1%91%D1%81%D0%BA%D0%BE%D0%B9)"
   ]
  },
  {
   "cell_type": "code",
   "execution_count": 14,
   "metadata": {},
   "outputs": [
    {
     "name": "stdout",
     "output_type": "stream",
     "text": [
      "8 9 10 13 14 11\n",
      "4\n",
      "4\n",
      "3\n",
      "3\n",
      "3\n",
      "2\n",
      "2\n",
      "2\n",
      "2\n",
      "1\n",
      "1\n",
      "1\n",
      "1\n",
      "1\n",
      "1\n",
      "1\n",
      "1\n",
      "1\n",
      "1\n",
      "[8, 9, 10, 11, 13, 14]\n"
     ]
    }
   ],
   "source": [
    "a = [int(x) for x in input().split()]\n",
    "\n",
    "def rascheska(L):  \n",
    "    flag = False\n",
    "    step = int(len(L)//1.247)\n",
    "    while flag == False:  \n",
    "        if step <= 1:\n",
    "            step = 1\n",
    "            flag = True\n",
    "        i = 0\n",
    "        while i + step < len(L):\n",
    "            if L[i] > L[i + step]:\n",
    "                L[i + step],L[i] = L[i],L[i + step]\n",
    "                flag = False\n",
    "            i += 1\n",
    "            print(step)\n",
    "        step = int(step//1.247)\n",
    "    \n",
    "rascheska(a)\n",
    "print(a)"
   ]
  },
  {
   "cell_type": "code",
   "execution_count": 214,
   "metadata": {},
   "outputs": [
    {
     "name": "stdout",
     "output_type": "stream",
     "text": [
      "4 6 7 4 2 1 45 3 23 12 78 8 9 0\n",
      "14\n",
      "11\n",
      "8\n",
      "6\n",
      "4\n",
      "3\n",
      "2\n",
      "1\n",
      "[0, 1, 2, 3, 4, 4, 6, 7, 8, 9, 12, 23, 45, 78]\n"
     ]
    }
   ],
   "source": [
    "def rascheska(L): \n",
    "    step = len(L)\n",
    "    while step >= 1:\n",
    "        #print(step)\n",
    "        for idx in range(len(L)-step):\n",
    "            if L[idx] > L[idx+step]:\n",
    "                L[idx+step],L[idx] = L[idx],L[idx+step]\n",
    "        step = int(step//1.247)\n",
    "    return L\n",
    "\n",
    "a = [int(x) for x in input().split()]\n",
    "print(rascheska(a))"
   ]
  },
  {
   "cell_type": "code",
   "execution_count": 249,
   "metadata": {},
   "outputs": [
    {
     "name": "stdout",
     "output_type": "stream",
     "text": [
      "8 length done\n",
      "16 length done\n",
      "32 length done\n",
      "64 length done\n",
      "128 length done\n",
      "256 length done\n",
      "512 length done\n",
      "1024 length done\n",
      "2048 length done\n",
      "4096 length done\n"
     ]
    },
    {
     "data": {
      "image/png": "[encoded data removed]",
      "text/plain": [
       "<Figure size 432x288 with 1 Axes>"
      ]
     },
     "metadata": {
      "needs_background": "light"
     },
     "output_type": "display_data"
    },
    {
     "data": {
      "image/png": "[encoded data removed]",
      "text/plain": [
       "<Figure size 432x288 with 1 Axes>"
      ]
     },
     "metadata": {
      "needs_background": "light"
     },
     "output_type": "display_data"
    }
   ],
   "source": [
    "import timeit\n",
    "import math\n",
    "import matplotlib.pyplot as plt\n",
    "start = 8\n",
    "factor = 2\n",
    "num_points = 10\n",
    "num_repeats = 10\n",
    "N_min = start\n",
    "N_max = start * factor**(num_points - 1)\n",
    "N_list = []\n",
    "T_list = []\n",
    "n2_list = []\n",
    "n3_list = []\n",
    "N = N_min\n",
    "setup = \"\"\"\n",
    "import random\n",
    "L=list(range(N))\n",
    "random.shuffle(L)\n",
    "\n",
    "def rascheska(L): \n",
    "    step = len(L)\n",
    "    while step >= 1:\n",
    "        for idx in range(len(L)-step):\n",
    "            if L[idx] > L[idx+step]:\n",
    "                L[idx+step],L[idx] = L[idx],L[idx+step]\n",
    "        step = int(step//1.247)\n",
    "    return L\n",
    "\"\"\"\n",
    "while N <= N_max:\n",
    "    T = timeit.timeit(\n",
    "        stmt=\"a = L[:];rascheska(a)\",\n",
    "        setup=setup,\n",
    "        number=num_repeats,\n",
    "        globals=dict(N=N)\n",
    "    )\n",
    "    T_copy = timeit.timeit(\n",
    "        stmt=\"a = L[:]\",\n",
    "        setup=setup,\n",
    "        number=num_repeats,\n",
    "        globals=dict(N=N)\n",
    "    )\n",
    "    T -= T_copy\n",
    "    N_list.append(N)\n",
    "    T_list.append(T)\n",
    "    n2_list.append(T / (N ** 2))\n",
    "    n3_list.append(T / (N ** 3))\n",
    "    print(\"{} length done\".format(N))\n",
    "    N *= factor\n",
    "    \n",
    "plt.plot(N_list, n2_list)\n",
    "plt.xlabel(r\"${N}$\", fontsize=18)\n",
    "plt.ylabel(r\"$\\frac{T(N)}{N \\cdot \\ N}$\", fontsize=18)\n",
    "plt.xscale(\"linear\")\n",
    "plt.yscale(\"linear\")\n",
    "plt.title('rascheska: test time estimate $O(N \\cdot N)$', fontsize=16)\n",
    "plt.show()\n",
    "\n",
    "plt.plot(N_list, n3_list)\n",
    "plt.xlabel(r\"${N}$\", fontsize=18)\n",
    "plt.ylabel(r\"$\\frac{T(N)}{N \\cdot \\log^2 N}$\", fontsize=18)\n",
    "plt.xscale('linear')\n",
    "plt.yscale('linear')\n",
    "plt.title('rascheska: test time estimate $O(N \\cdot N \\cdot N)$', fontsize=16)\n",
    "plt.show()"
   ]
  },
  {
   "cell_type": "markdown",
   "metadata": {},
   "source": [
    "### Упражнение 5. Сортировка Шелла\n",
    "\n",
    "Напишите функцию, сортирующую список с помощью алгоритма сортировки [Шелла](https://ru.wikipedia.org/wiki/%D0%A1%D0%BE%D1%80%D1%82%D0%B8%D1%80%D0%BE%D0%B2%D0%BA%D0%B0_%D0%A8%D0%B5%D0%BB%D0%BB%D0%B0). Добавьте возможность изменения длины промежутка согласно последовательностям Седжвика и Пратта."
   ]
  },
  {
   "cell_type": "code",
   "execution_count": 19,
   "metadata": {},
   "outputs": [
    {
     "name": "stdout",
     "output_type": "stream",
     "text": [
      "[2, 3, 4, 4, 5, 5, 5, 6, 6, 6, 7, 7, 8, 9, 10, 12]\n"
     ]
    }
   ],
   "source": [
    "def shell(L):\n",
    "    d = int(len(L)//2)\n",
    "    while d > 0:\n",
    "        for i in range(d,len(L)):\n",
    "            temp = L[i] \n",
    "            j = i       \n",
    "            while j >= d and L[j - d] > temp:\n",
    "                L[j] = L[j - d]\n",
    "                j = j - d\n",
    "            L[j] = temp\n",
    "        d = int(d//2)\n",
    "\n",
    "    return L\n",
    "\n",
    "a = [10, 2, 3, 4, 5, 6, 7, 4, 5, 5, 6, 7, 8, 12, 6, 9]       \n",
    "print(shell(a))"
   ]
  },
  {
   "cell_type": "markdown",
   "metadata": {},
   "source": [
    "С последовательностью Седжвика"
   ]
  },
  {
   "cell_type": "code",
   "execution_count": 20,
   "metadata": {},
   "outputs": [
    {
     "name": "stdout",
     "output_type": "stream",
     "text": [
      "[5, 1]\n",
      "[2, 4, 4, 5, 5, 6, 6, 7, 7, 8, 9]\n"
     ]
    }
   ],
   "source": [
    "#a = [int(i) for i in input().split()]\n",
    "a = [2,4,6,7,8,9,7,6,5,4,5]\n",
    "def sedg(L):\n",
    "    gap = []\n",
    "    d = 0\n",
    "    i = 0\n",
    "    while 3*d <= len(L):\n",
    "        #print(i,d)\n",
    "        if i % 2 == 0:\n",
    "            d = int(9*2**i - (9*2**(i/2)) + 1)\n",
    "        else:\n",
    "            d = int(8*2**i - 6*2**((i+1)/2) + 1)\n",
    "        gap.append(d)\n",
    "        i += 1\n",
    "    \n",
    "    return gap[::-1]\n",
    "print(sedg(a))\n",
    "\n",
    "        \n",
    "    \n",
    "def shell_S(L):\n",
    "    gaps = sedg(L)\n",
    "    for gap in gaps:\n",
    "        for i in range(gap, len(L)):  \n",
    "            temp = L[i] \n",
    "            j = i\n",
    "            while j >= gap and L[j - gap] > temp:\n",
    "                L[j] = L[j - gap]\n",
    "                j = j - gap\n",
    "            L[j] = temp\n",
    "\n",
    "shell_S(a)\n",
    "print(a)\n",
    "     \n",
    "    "
   ]
  },
  {
   "cell_type": "code",
   "execution_count": 27,
   "metadata": {},
   "outputs": [
    {
     "name": "stdout",
     "output_type": "stream",
     "text": [
      "[4, 3, 2, 1]\n",
      "[2, 4, 4, 5, 5, 6, 6, 7, 7, 8, 9]\n"
     ]
    }
   ],
   "source": [
    "from math import log\n",
    "\n",
    "def Pratt(L):\n",
    "    d = []\n",
    "    \n",
    "    for i in range(int(log(len(L), 2))):\n",
    "        for j in range(int(log(len(L), 3))):         \n",
    "            d_i = 2**i * 3**j\n",
    "            if d_i > len(L)/2:\n",
    "                break\n",
    "            d.append(d_i)\n",
    "    \n",
    "    return sorted(d, reverse=True)\n",
    "print(Pratt(a))\n",
    "\n",
    "def shell_P(L): \n",
    "    gaps = Pratt(L)\n",
    "    for gap in gaps:\n",
    "        for i in range(gap, len(L)):  \n",
    "            temp = L[i] \n",
    "            j = i\n",
    "            while j >= gap and L[j - gap] > temp:\n",
    "                L[j] = L[j - gap]\n",
    "                j = j - gap\n",
    "            L[j] = temp\n",
    "    \n",
    "a = [2,4,6,7,8,9,7,6,5,4,5]\n",
    "shell_P(a)\n",
    "print(a)"
   ]
  },
  {
   "cell_type": "markdown",
   "metadata": {},
   "source": [
    "Оценка временной сложности сортировки Шелла"
   ]
  },
  {
   "cell_type": "code",
   "execution_count": 2,
   "metadata": {},
   "outputs": [
    {
     "name": "stdout",
     "output_type": "stream",
     "text": [
      "8 length done\n",
      "16 length done\n",
      "32 length done\n",
      "64 length done\n",
      "128 length done\n",
      "256 length done\n",
      "512 length done\n",
      "1024 length done\n",
      "2048 length done\n",
      "4096 length done\n"
     ]
    },
    {
     "data": {
      "text/plain": [
       "<Figure size 640x480 with 1 Axes>"
      ]
     },
     "metadata": {},
     "output_type": "display_data"
    },
    {
     "data": {
      "text/plain": [
       "<Figure size 640x480 with 1 Axes>"
      ]
     },
     "metadata": {},
     "output_type": "display_data"
    }
   ],
   "source": [
    "import timeit\n",
    "import math\n",
    "import matplotlib.pyplot as plt\n",
    "start = 8\n",
    "factor = 2\n",
    "num_points = 10\n",
    "num_repeats = 10\n",
    "N_min = start\n",
    "N_max = start * factor**(num_points - 1)\n",
    "N_list = []\n",
    "T_list = []\n",
    "n2_list = []\n",
    "nlogn2_list = []\n",
    "N = N_min\n",
    "setup = \"\"\"\n",
    "import random\n",
    "L=list(range(N))\n",
    "random.shuffle(L)\n",
    "def shell(L):\n",
    "    d = int(len(L)//2)\n",
    "    while d > 0:\n",
    "        for i in range(d):\n",
    "            for j in range(i + d, len(L), d):\n",
    "                while j >= d and L[j-d] > L[j]:\n",
    "                    L[j],L[j-d] = L[j - d],L[j]\n",
    "                    j = j - d\n",
    "                    #print(d)\n",
    "        d = int(d//2)\n",
    "        \n",
    "    return L\n",
    "\"\"\"\n",
    "while N <= N_max:\n",
    "    T = timeit.timeit(\n",
    "        stmt=\"a = L[:];shell(a)\",\n",
    "        setup=setup,\n",
    "        number=num_repeats,\n",
    "        globals=dict(N=N)\n",
    "    )\n",
    "    T_copy = timeit.timeit(\n",
    "        stmt=\"a = L[:]\",\n",
    "        setup=setup,\n",
    "        number=num_repeats,\n",
    "        globals=dict(N=N)\n",
    "    )\n",
    "    T -= T_copy\n",
    "    N_list.append(N)\n",
    "    T_list.append(T)\n",
    "    n2_list.append(T / (N ** 2))\n",
    "    nlogn2_list.append(T / (N * math.log(N) ** 2))\n",
    "    print(\"{} length done\".format(N))\n",
    "    N *= factor\n",
    "    \n",
    "plt.plot(n2_list, nlogn2_list)\n",
    "plt.xlabel(r\"${N}$\", fontsize=18)\n",
    "plt.ylabel(r\"$\\frac{T(N)}{N \\cdot \\ N}$\", fontsize=18)\n",
    "plt.xscale(\"log\")\n",
    "plt.yscale(\"log\")\n",
    "plt.title('shell: test time estimate $O(N \\cdot N)$', fontsize=16)\n",
    "plt.show()\n",
    "\n",
    "plt.plot(N_list, nlogn2_list)\n",
    "plt.xlabel(r\"${N}$\", fontsize=18)\n",
    "plt.ylabel(r\"$\\frac{T(N)}{N \\cdot \\log^2 N}$\", fontsize=18)\n",
    "plt.xscale('log')\n",
    "plt.yscale('log')\n",
    "plt.title('shell: test time estimate $O(N \\cdot log ^2 N)$', fontsize=16)\n",
    "plt.show()"
   ]
  },
  {
   "cell_type": "code",
   "execution_count": 24,
   "metadata": {},
   "outputs": [
    {
     "name": "stdout",
     "output_type": "stream",
     "text": [
      "8 length done\n",
      "16 length done\n",
      "32 length done\n",
      "64 length done\n",
      "128 length done\n",
      "256 length done\n",
      "512 length done\n",
      "1024 length done\n"
     ]
    },
    {
     "data": {
      "image/png": "[encoded data removed]",
      "text/plain": [
       "<Figure size 432x288 with 1 Axes>"
      ]
     },
     "metadata": {
      "needs_background": "light"
     },
     "output_type": "display_data"
    },
    {
     "data": {
      "image/png": "[encoded data removed]",
      "text/plain": [
       "<Figure size 432x288 with 1 Axes>"
      ]
     },
     "metadata": {
      "needs_background": "light"
     },
     "output_type": "display_data"
    }
   ],
   "source": [
    "import timeit\n",
    "import math\n",
    "import matplotlib.pyplot as plt\n",
    "start = 8\n",
    "factor = 2\n",
    "num_points = 8\n",
    "num_repeats = 10\n",
    "N_min = start\n",
    "N_max = start * factor**(num_points - 1)\n",
    "N_list = []\n",
    "T_list = []\n",
    "n4_3_list = []\n",
    "n2_list = []\n",
    "N = N_min\n",
    "setup = \"\"\"\n",
    "import random\n",
    "from math import log\n",
    "L=list(range(N))\n",
    "random.shuffle(L)\n",
    "\n",
    "def shell_P(L): \n",
    "    def Pratt(n):\n",
    "        d = []\n",
    "        for i in range(int(log(n, 2))):\n",
    "            for j in range(int(log(n, 3))):         \n",
    "                d_i = 2**i * 3**j\n",
    "                if d_i > n/2:\n",
    "                    break\n",
    "                d.append(d_i)\n",
    "    \n",
    "        return sorted(d, reverse=True)\n",
    "    \n",
    "    gaps = Pratt(len(L))\n",
    "    for gap in gaps:\n",
    "        for i in range(gap, len(L)):  \n",
    "            temp = L[i] \n",
    "            j = i\n",
    "            while j >= gap and L[j - gap] > temp:\n",
    "                L[j] = L[j - gap]\n",
    "                j = j - gap\n",
    "            L[j] = temp\n",
    "    \n",
    "\"\"\"\n",
    "while N <= N_max:\n",
    "    T = timeit.timeit(\n",
    "        stmt=\"a = L[:];shell_P(a)\",\n",
    "        setup=setup,\n",
    "        number=num_repeats,\n",
    "        globals=dict(N=N)\n",
    "    )\n",
    "    T_copy = timeit.timeit(\n",
    "        stmt=\"a = L[:]\",\n",
    "        setup=setup,\n",
    "        number=num_repeats,\n",
    "        globals=dict(N=N)\n",
    "    )\n",
    "    T -= T_copy\n",
    "    N_list.append(N)\n",
    "    T_list.append(T)\n",
    "    n4_3_list.append(T / (N ** (4/3)))\n",
    "    n2_list.append(T / (N ** 2))\n",
    "    print(\"{} length done\".format(N))\n",
    "    N *= factor\n",
    "    \n",
    "plt.plot(N_list, n4_3_list)\n",
    "plt.xlabel(r\"${N}$\", fontsize=18)\n",
    "plt.ylabel(r\"$\\frac{T(N)}{N \\cdot \\ N^(1/3)}$\", fontsize=18)\n",
    "plt.xscale('log')\n",
    "plt.yscale('log')\n",
    "plt.title('shell_P: test time estimate $O(N \\cdot N^(1/3))$', fontsize=16)\n",
    "plt.show()\n",
    "\n",
    "plt.plot(N_list, n2_list)\n",
    "plt.xlabel(r\"${N}$\", fontsize=18)\n",
    "plt.ylabel(r\"$\\frac{T(N)}{N^2}$\", fontsize=18)\n",
    "plt.xscale('log')\n",
    "plt.yscale('log')\n",
    "plt.title('shell_P: test time estimate $O(N \\cdot N)$', fontsize=16)\n",
    "plt.show()"
   ]
  },
  {
   "cell_type": "markdown",
   "metadata": {},
   "source": [
    "Оценка временной сложности пузырька"
   ]
  },
  {
   "cell_type": "code",
   "execution_count": 3,
   "metadata": {},
   "outputs": [
    {
     "name": "stdout",
     "output_type": "stream",
     "text": [
      "8 length done\n",
      "16 length done\n",
      "32 length done\n",
      "64 length done\n",
      "128 length done\n"
     ]
    },
    {
     "data": {
      "image/png": "[encoded data removed]",
      "text/plain": [
       "<Figure size 432x288 with 1 Axes>"
      ]
     },
     "metadata": {
      "needs_background": "light"
     },
     "output_type": "display_data"
    },
    {
     "data": {
      "image/png": "[encoded data removed]",
      "text/plain": [
       "<Figure size 432x288 with 1 Axes>"
      ]
     },
     "metadata": {
      "needs_background": "light"
     },
     "output_type": "display_data"
    }
   ],
   "source": [
    "import timeit\n",
    "import math\n",
    "import matplotlib.pyplot as plt\n",
    "%matplotlib inline\n",
    "start = 8\n",
    "factor = 2\n",
    "num_points = 5\n",
    "num_repeats = 10\n",
    "N_min = start\n",
    "N_max = start * factor**(num_points - 1)\n",
    "N_list = []\n",
    "T_list = []\n",
    "n2_list = []\n",
    "n3_list = []\n",
    "N = N_min\n",
    "setup = \"\"\"\n",
    "import random\n",
    "L=list(range(N))\n",
    "random.shuffle(L)\n",
    "def bub(L):\n",
    "    for i in range(len(L)):\n",
    "        for idx,el in enumerate(L[1:len(L)-i]):\n",
    "            idx += 1\n",
    "            if L[idx] < L[idx-1]:\n",
    "                L[idx-1],L[idx] = L[idx],L[idx-1]\n",
    "\"\"\"\n",
    "while N <= N_max:\n",
    "    T = timeit.timeit(\n",
    "        stmt=\"a = L[:];bub(a)\",\n",
    "        setup=setup,\n",
    "        number=num_repeats,\n",
    "        globals=dict(N=N)\n",
    "    )\n",
    "    T_copy = timeit.timeit(\n",
    "        stmt=\"a = L[:]\",\n",
    "        setup=setup,\n",
    "        number=num_repeats,\n",
    "        globals=dict(N=N)\n",
    "    )\n",
    "    T -= T_copy\n",
    "    N_list.append(N)\n",
    "    T_list.append(T)\n",
    "    n2_list.append(T / (N ** 2))\n",
    "    n3_list.append(T / (N ** 3))\n",
    "    print(\"{} length done\".format(N))\n",
    "    N *= factor\n",
    "    \n",
    "plt.plot(N_list, n2_list)\n",
    "plt.xlabel(r\"${N}$\", fontsize=18)\n",
    "plt.ylabel(r\"$\\frac{T(N)}{N^2}$\", fontsize=18)\n",
    "plt.xscale(\"log\")\n",
    "plt.yscale(\"log\")\n",
    "plt.title('bub: test time estimate $O(N^2)$', fontsize=16)\n",
    "plt.show()\n",
    "\n",
    "plt.plot(N_list, n3_list)\n",
    "plt.xlabel(r\"${N}$\", fontsize=18)\n",
    "plt.ylabel(r\"$\\frac{T(N)}{N^3}$\", fontsize=18)\n",
    "plt.xscale('log')\n",
    "plt.yscale('log')\n",
    "plt.title('bub: test time estimate $O(N^3)$', fontsize=16)\n",
    "plt.show()"
   ]
  },
  {
   "cell_type": "markdown",
   "metadata": {},
   "source": [
    "Сортировка вставками"
   ]
  },
  {
   "cell_type": "code",
   "execution_count": 141,
   "metadata": {},
   "outputs": [
    {
     "name": "stdout",
     "output_type": "stream",
     "text": [
      "8 length done\n",
      "16 length done\n",
      "32 length done\n",
      "64 length done\n",
      "128 length done\n"
     ]
    },
    {
     "data": {
      "image/png": "[encoded data removed]",
      "text/plain": [
       "<Figure size 432x288 with 1 Axes>"
      ]
     },
     "metadata": {
      "needs_background": "light"
     },
     "output_type": "display_data"
    },
    {
     "data": {
      "image/png": "[encoded data removed]",
      "text/plain": [
       "<Figure size 432x288 with 1 Axes>"
      ]
     },
     "metadata": {
      "needs_background": "light"
     },
     "output_type": "display_data"
    }
   ],
   "source": [
    "import timeit\n",
    "import math\n",
    "import matplotlib.pyplot as plt\n",
    "start = 8\n",
    "factor = 2\n",
    "num_points = 5\n",
    "num_repeats = 10\n",
    "N_min = start\n",
    "N_max = start * factor**(num_points - 1)\n",
    "N_list = []\n",
    "T_list = []\n",
    "n2_list = []\n",
    "n3_list = []\n",
    "N = N_min\n",
    "setup = \"\"\"\n",
    "import random\n",
    "L=list(range(N))\n",
    "random.shuffle(L)\n",
    "def choice_sort(L):\n",
    "    def min_(L):\n",
    "        m = L[0]\n",
    "        i = 0\n",
    "        for j, e in enumerate(L[1:]):\n",
    "            if e < m:\n",
    "                #print(e)\n",
    "                m = e\n",
    "                i = j + 1\n",
    "        return i\n",
    "    for k in range(len(L)-1):\n",
    "        v = min_(L[k:])\n",
    "        v += k  \n",
    "        L[v], L[k] = L[k], L[v]\n",
    "    return L\n",
    "\"\"\"\n",
    "while N <= N_max:\n",
    "    T = timeit.timeit(\n",
    "        stmt=\"a = L[:];choice_sort(a)\",\n",
    "        setup=setup,\n",
    "        number=num_repeats,\n",
    "        globals=dict(N=N)\n",
    "    )\n",
    "    T_copy = timeit.timeit(\n",
    "        stmt=\"a = L[:]\",\n",
    "        setup=setup,\n",
    "        number=num_repeats,\n",
    "        globals=dict(N=N)\n",
    "    )\n",
    "    T -= T_copy\n",
    "    N_list.append(N)\n",
    "    T_list.append(T)\n",
    "    n2_list.append(T / (N ** 2))\n",
    "    n3_list.append(T / (N ** 3))\n",
    "    print(\"{} length done\".format(N))\n",
    "    N *= factor\n",
    "    \n",
    "plt.plot(N_list, nlogn_list)\n",
    "plt.xlabel(r\"${N}$\", fontsize=18)\n",
    "plt.ylabel(r\"$\\frac{T(N)}{N \\cdot \\ N}$\", fontsize=18)\n",
    "plt.xscale(\"linear\")\n",
    "plt.yscale(\"linear\")\n",
    "plt.title('choice_sort: test time estimate $O(N \\cdot N)$', fontsize=16)\n",
    "plt.show()\n",
    "\n",
    "plt.plot(N_list, n3_list)\n",
    "plt.xlabel(r\"${N}$\", fontsize=18)\n",
    "plt.ylabel(r\"$\\frac{T(N)}{N \\cdot N \\cdot N}$\", fontsize=18)\n",
    "plt.xscale('linear')\n",
    "plt.yscale('linear')\n",
    "plt.title('choice_sort: test time estimate $O(N \\cdot N \\cdot N)$', fontsize=16)\n",
    "plt.show()"
   ]
  },
  {
   "cell_type": "code",
   "execution_count": null,
   "metadata": {},
   "outputs": [],
   "source": [
    "Сортировка вставками"
   ]
  },
  {
   "cell_type": "code",
   "execution_count": null,
   "metadata": {},
   "outputs": [],
   "source": [
    "import timeit\n",
    "import math\n",
    "import matplotlib.pyplot as plt\n",
    "start = 8\n",
    "factor = 2\n",
    "num_points = 5\n",
    "num_repeats = 10\n",
    "N_min = start\n",
    "N_max = start * factor**(num_points - 1)\n",
    "N_list = []\n",
    "T_list = []\n",
    "n2_list = []\n",
    "n3_list = []\n",
    "N = N_min\n",
    "setup = \"\"\"\n",
    "import random\n",
    "L=list(range(N))\n",
    "random.shuffle(L)\n",
    "def inp(L):\n",
    "    for i in range(len(L)-1):\n",
    "        j = i + 1\n",
    "        while j >= 1 and L[j-1] > L[j]:\n",
    "            L[j], L[j-1] = L[j-1], L[j]\n",
    "            j -= 1\n",
    "    return L\n",
    "\"\"\"\n",
    "while N <= N_max:\n",
    "    T = timeit.timeit(\n",
    "        stmt=\"a = L[:];inp(a)\",\n",
    "        setup=setup,\n",
    "        number=num_repeats,\n",
    "        globals=dict(N=N)\n",
    "    )\n",
    "    T_copy = timeit.timeit(\n",
    "        stmt=\"a = L[:]\",\n",
    "        setup=setup,\n",
    "        number=num_repeats,\n",
    "        globals=dict(N=N)\n",
    "    )\n",
    "    T -= T_copy\n",
    "    N_list.append(N)\n",
    "    T_list.append(T)\n",
    "    n2_list.append(T / (N ** 2))\n",
    "    n3_list.append(T / (N ** 3))\n",
    "    print(\"{} length done\".format(N))\n",
    "    N *= factor\n",
    "    \n",
    "plt.plot(N_list, nlogn_list)\n",
    "plt.xlabel(r\"${N}$\", fontsize=18)\n",
    "plt.ylabel(r\"$\\frac{T(N)}{N \\cdot \\ N}$\", fontsize=18)\n",
    "plt.xscale(\"linear\")\n",
    "plt.yscale(\"linear\")\n",
    "plt.title('inp: test time estimate $O(N \\cdot N)$', fontsize=16)\n",
    "plt.show()\n",
    "\n",
    "plt.plot(N_list, n3_list)\n",
    "plt.xlabel(r\"${N}$\", fontsize=18)\n",
    "plt.ylabel(r\"$\\frac{T(N)}{N \\cdot N \\cdot N}$\", fontsize=18)\n",
    "plt.xscale('linear')\n",
    "plt.yscale('linear')\n",
    "plt.title('inp: test time estimate $O(N \\cdot N \\cdot N)$', fontsize=16)\n",
    "plt.show()"
   ]
  },
  {
   "cell_type": "markdown",
   "metadata": {},
   "source": [
    "### Упражнение 6. Экспериментальая оценка временной сложности алгоритма\n",
    "\n",
    "Проверьте, верны ли для реализованных Вами алгоритмов их теоретические временные сложности. Исследуйте сортировки выбором, пузырьком, вставками, расческой. Исследуйте сортировку Шелла в вариантах с последовательностями Седжвика, Пратта и в оригинальном варианте с делением длины промежутка пополам.\n",
    "\n",
    "Для того чтобы убедиться в том, что тестируемая сложность $O(f(N))$ подходит, надо изучить зависимость отношения $\\frac{T(N)}{f(N)}$ от $N$. Если $\\displaystyle\\lim_{N\\to \\infty}\\frac{T(N)}{f(N)} = С$, где $C > 0$, то сложность алгоритма не превосходит $O(f(N))$. Если $C > 0$, то сложность алгоритма - $O(f(N))$.\n",
    "\n",
    "Для квадратичных сортировок брать значения $N$, превышающие $10^5$ не следует, так как сортировка будет занимать слишком много времени. У меня сортировка пузырьком списка, состоящего из $10^5$ целых чисел заняла почти 15 мин.\n",
    "\n",
    "Для измерения времени сортировки используйте модуль [`timeit`](https://docs.python.org/3/library/timeit.html). Аргумент `stmt` функции `timeit.timeit()` содержит код, выполняемый `number` раз, после чего вычисляется среднее время его выполнения. Аргумент `setup` содержит код, который выполняется **1** раз до повторных запусков `stmt`. С помощью аргумента `globals` в `timeit.timeit()` передаются имена, необходимые для успешного выполнения `stmt` и `setup`. \n",
    "\n",
    "Обратите внимание, что в `stmt` инициализируется список `a`. Если этого не делать, то начиная со второго повторения `a` будет упорядочен до сортировки.\n",
    "\n",
    "Ниже приведен пример измерения времени сортировки с помощью метода `list.sort()`. Встроенная сортировка Python использует алгоритм [timsort](https://ru.wikipedia.org/wiki/Timsort), который сочетает в себе сортировки вставками и слиянием. Теоретическая сложность алгоритма $O(N \\cdot \\log N)$, однако у меня получилось, что сложность алгоритма ближе к $O(N \\cdot \\log ^2 N)$"
   ]
  },
  {
   "cell_type": "code",
   "execution_count": 2,
   "metadata": {},
   "outputs": [
    {
     "name": "stdout",
     "output_type": "stream",
     "text": [
      "8 length done\n",
      "16 length done\n",
      "32 length done\n",
      "64 length done\n",
      "128 length done\n",
      "256 length done\n",
      "512 length done\n",
      "1024 length done\n",
      "2048 length done\n",
      "4096 length done\n",
      "8192 length done\n",
      "16384 length done\n",
      "32768 length done\n",
      "65536 length done\n",
      "131072 length done\n",
      "262144 length done\n",
      "524288 length done\n",
      "1048576 length done\n",
      "2097152 length done\n",
      "4194304 length done\n",
      "8388608 length done\n",
      "16777216 length done\n",
      "33554432 length done\n"
     ]
    },
    {
     "data": {
      "image/png": "[encoded data removed]",
      "text/plain": [
       "<matplotlib.figure.Figure at 0x7f86239ac550>"
      ]
     },
     "metadata": {},
     "output_type": "display_data"
    },
    {
     "data": {
      "image/png": "[encoded data removed]",
      "text/plain": [
       "<matplotlib.figure.Figure at 0x7f86237f7860>"
      ]
     },
     "metadata": {},
     "output_type": "display_data"
    }
   ],
   "source": [
    "import timeit\n",
    "import math\n",
    "import matplotlib.pyplot as plt\n",
    "start = 8\n",
    "factor = 2\n",
    "num_points = 23\n",
    "num_repeats = 10\n",
    "N_min = start\n",
    "N_max = start * factor**(num_points - 1)\n",
    "N_list = []\n",
    "T_list = []\n",
    "nlogn_list = []\n",
    "nlogn2_list = []\n",
    "N = N_min\n",
    "setup = \"\"\"\n",
    "import random\n",
    "L=list(range(N))\n",
    "random.shuffle(L)\n",
    "def timsort(l):\n",
    "    l.sort()\n",
    "\"\"\"\n",
    "while N <= N_max:\n",
    "    T = timeit.timeit(\n",
    "        stmt=\"a = L[:];timsort(a)\",\n",
    "        setup=setup,\n",
    "        number=num_repeats,\n",
    "        globals=dict(N=N)\n",
    "    )\n",
    "    T_copy = timeit.timeit(\n",
    "        stmt=\"a = L[:]\",\n",
    "        setup=setup,\n",
    "        number=num_repeats,\n",
    "        globals=dict(N=N)\n",
    "    )\n",
    "    T -= T_copy\n",
    "    N_list.append(N)\n",
    "    T_list.append(T)\n",
    "    nlogn_list.append(T / (N * math.log(N)))\n",
    "    nlogn2_list.append(T / (N * math.log(N) ** 2))\n",
    "    print(\"{} length done\".format(N))\n",
    "    N *= factor\n",
    "    \n",
    "plt.plot(N_list, nlogn_list)\n",
    "plt.xlabel(r\"${N}$\", fontsize=18)\n",
    "plt.ylabel(r\"$\\frac{T(N)}{N \\cdot \\log N}$\", fontsize=18)\n",
    "plt.xscale('log')\n",
    "plt.yscale('log')\n",
    "plt.title('timsort: test time estimate $O(N \\cdot log N)$', fontsize=16)\n",
    "plt.show()\n",
    "\n",
    "plt.plot(N_list, nlogn2_list)\n",
    "plt.xlabel(r\"${N}$\", fontsize=18)\n",
    "plt.ylabel(r\"$\\frac{T(N)}{N \\cdot \\log^2 N}$\", fontsize=18)\n",
    "plt.xscale('log')\n",
    "plt.yscale('log')\n",
    "plt.title('timsort: test time estimate $O(N \\cdot log ^2 N)$', fontsize=16)\n",
    "plt.show()"
   ]
  },
  {
   "cell_type": "code",
   "execution_count": null,
   "metadata": {
    "collapsed": true
   },
   "outputs": [],
   "source": []
  },
  {
   "cell_type": "markdown",
   "metadata": {},
   "source": [
    "### Упражнение 7. Слияние\n",
    "\n",
    "В двух файлах <font color=green>seq1.txt</font>, <font color=green>seq2.txt</font> записаны возрастающие последовательности целых чисел. Объедините эти последовательности в одну возрастающую последовательность и запишите ее в третий файл. Постарайтесь сделать алгоритм однопроходным.\n",
    "\n",
    "#### Пример\n",
    "\n",
    "| <font size=3>Входные последовательности</font> | <font size=3>Выходная последовательность</font> |\n",
    "| :---: | :---: |\n",
    "| <font size=3>1 3 5 7<br>2 3 4 5 6</font> | <font size=3>1 2 3 3 4 5 5 6 7</font> |"
   ]
  },
  {
   "cell_type": "code",
   "execution_count": 15,
   "metadata": {},
   "outputs": [
    {
     "name": "stdout",
     "output_type": "stream",
     "text": [
      "['1', '3', '5', '7']\n",
      "['2', '3', '4', '5', '6']\n",
      "1 2 3 3 4 5 5 6 7\n"
     ]
    }
   ],
   "source": [
    "with open('seq1.txt', 'r') as f:\n",
    "    t1 = f.read().split()\n",
    "with open('seq2.txt','r') as g:\n",
    "    t2 = g.read().split()\n",
    "print(t1)\n",
    "\n",
    "\n",
    "\n",
    "def combine(a,b):\n",
    "    \n",
    "    c = []\n",
    "    while len(a) > 0 and len(b) > 0:\n",
    "        if a[0] > b[0]:\n",
    "            c.append(b.pop(0))\n",
    "        else:\n",
    "            c.append(a.pop(0))\n",
    "    if len(a) > 0:\n",
    "        c.extend(a)\n",
    "    if len(b) > 0:\n",
    "        c.extend(b)\n",
    "    return c\n",
    "print(t2)\n",
    "print(\" \".join(combine(t1,t2)))\n",
    "\n",
    "with open('seq3.txt', 'w') as q:\n",
    "    q.write(\" \".join(combine(t1,t2)))\n"
   ]
  },
  {
   "cell_type": "code",
   "execution_count": 13,
   "metadata": {},
   "outputs": [],
   "source": [
    "with open('seq1.txt','w') as d:\n",
    "    d.write('1 3 5 7')\n",
    "with open('seq2.txt','w') as h:\n",
    "    h.write('2 3 4 5 6')"
   ]
  },
  {
   "cell_type": "code",
   "execution_count": null,
   "metadata": {},
   "outputs": [],
   "source": []
  }
 ],
 "metadata": {
  "kernelspec": {
   "display_name": "Python 3",
   "language": "python",
   "name": "python3"
  },
  "language_info": {
   "codemirror_mode": {
    "name": "ipython",
    "version": 3
   },
   "file_extension": ".py",
   "mimetype": "text/x-python",
   "name": "python",
   "nbconvert_exporter": "python",
   "pygments_lexer": "ipython3",
   "version": "3.7.0"
  }
 },
 "nbformat": 4,
 "nbformat_minor": 2
}
