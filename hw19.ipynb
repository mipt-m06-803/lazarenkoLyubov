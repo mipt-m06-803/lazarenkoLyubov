{
 "cells": [
  {
   "cell_type": "markdown",
   "metadata": {},
   "source": [
    "# Упражнение 1. Максимальное произведение\n",
    "\n",
    "На вход подается число $N > 1$, а затем $N$ чисел: каждое в отдельной строке. Найдите среди введенных чисел два числа, дающих максимальное произведение. Решите задачу в 1 проход, не сохраняя все введенные числа."
   ]
  },
  {
   "cell_type": "code",
   "execution_count": 38,
   "metadata": {},
   "outputs": [
    {
     "name": "stdout",
     "output_type": "stream",
     "text": [
      "2\n",
      "-4\n",
      "-2\n",
      "-2 -4\n"
     ]
    }
   ],
   "source": [
    "N = int(input())\n",
    "a = 0\n",
    "max1 = 0\n",
    "max2 = 0\n",
    "min1 = 0\n",
    "min2 = 0\n",
    "for _ in range(N):\n",
    "    z = int(input())\n",
    "\n",
    "    if z > max1:\n",
    "        max1 = z\n",
    "        if max1 > max2:\n",
    "            max2,max1 = max1,max2\n",
    "    if z < min1:\n",
    "        min1 = z\n",
    "        if min1 < min2:\n",
    "            min2,min1 = min1,min2\n",
    "            \n",
    "if N == 2:\n",
    "    if abs(max2*min2) > abs(min1*min2) and abs(max2*min2) > abs(max1*max2):\n",
    "        print(max2, min2)\n",
    "    elif abs(min1*min2) > abs(max1*max2) and abs(min1*min2) > abs(min1*max2):\n",
    "        print(min1, min2)\n",
    "    else:\n",
    "        print(max1, max2)\n",
    "    \n",
    "elif min1*min2 > max1*max2:\n",
    "    print(min1,min2)\n",
    "else:   \n",
    "    print(max1,max2) "
   ]
  },
  {
   "cell_type": "markdown",
   "metadata": {},
   "source": [
    "#### Упражнение 2. Максимальное произведение 3-х чисел\n",
    "\n",
    "Из последовательности целых чисел выбрать 3 числа, произведение которых максимально\n",
    "\n",
    "*Вход.* В первой строке текста - количество чисел $N$, $3 \\leq N \\leq 10^8$, в следующих $N$ строках - целые числа.\n",
    "\n",
    "*Выход.* Три числа в произвольном порядке.\n",
    "\n",
    "Есть указания к решению в <font color=blue>[1]</font>."
   ]
  },
  {
   "cell_type": "code",
   "execution_count": 42,
   "metadata": {},
   "outputs": [
    {
     "name": "stdout",
     "output_type": "stream",
     "text": [
      "4\n",
      "-2\n",
      "-4\n",
      "-1\n",
      "3\n",
      "0 0 3\n"
     ]
    }
   ],
   "source": [
    "N = int(input())\n",
    "max1 = 0\n",
    "max2 = 0\n",
    "max3 = 0\n",
    "min1 = 0\n",
    "min2 = 0\n",
    "min3 = 0\n",
    "max_1 = 0\n",
    "max_2 = 0\n",
    "max_3 = 0\n",
    "for _ in range(N):\n",
    "    z = int(input())\n",
    "    if z > max1 and z > 0:\n",
    "        max1 = z\n",
    "        if max1 > max2:\n",
    "            max2,max1 = max1,max2\n",
    "            if max2 > max3:\n",
    "                max3,max2 = max2,max3         \n",
    "        \n",
    "    if z < min1 and z < 0:\n",
    "        min1 = z\n",
    "        if min1 < min2:\n",
    "            min2,min1 = min1,min2\n",
    "            if min2 < min3:     \n",
    "                min3,min2 = min2,min3\n",
    "                \n",
    "    if z > max_1 and z < 0:\n",
    "        max_1 = z\n",
    "        if max_1 > max_2:\n",
    "            max_2,max_1 = max_1,max_2\n",
    "            if max_2 > max_3:\n",
    "                max_3,max_2 = max_2,max_3      \n",
    "            \n",
    "            \n",
    "if N == 3:\n",
    "    if abs(min1*min2*max1) > abs(max1*max2*max3):\n",
    "        print(min1,min2,max2)\n",
    "    elif  abs(max1*max2*max3) > abs(min1*min2*max1):\n",
    "        print(max1,max2,max3)\n",
    "    else:\n",
    "        print(min1,min2,min3)\n",
    "elif max_1*min1*min2 > max_1*max2*max3:\n",
    "    print(max_1,min1,min2)\n",
    "elif max_1*min1*min2 < max_1*max2*max3:\n",
    "    print(max_1, max2, max3)\n",
    "elif min1*min2*max1 > max1*max2*max3:\n",
    "    print(min1,min2,max2)\n",
    "else:   \n",
    "    print(max1,max2,max3) "
   ]
  },
  {
   "cell_type": "code",
   "execution_count": null,
   "metadata": {},
   "outputs": [],
   "source": []
  }
 ],
 "metadata": {
  "kernelspec": {
   "display_name": "Python 3",
   "language": "python",
   "name": "python3"
  },
  "language_info": {
   "codemirror_mode": {
    "name": "ipython",
    "version": 3
   },
   "file_extension": ".py",
   "mimetype": "text/x-python",
   "name": "python",
   "nbconvert_exporter": "python",
   "pygments_lexer": "ipython3",
   "version": "3.7.0"
  }
 },
 "nbformat": 4,
 "nbformat_minor": 2
}
