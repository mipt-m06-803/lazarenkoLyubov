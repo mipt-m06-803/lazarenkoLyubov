{
 "cells": [
  {
   "cell_type": "markdown",
   "metadata": {},
   "source": [
    "# Упражнение 1. Максимальное произведение\n",
    "\n",
    "На вход подается число $N > 1$, а затем $N$ чисел: каждое в отдельной строке. Найдите среди введенных чисел два числа, дающих максимальное произведение. Решите задачу в 1 проход, не сохраняя все введенные числа."
   ]
  },
  {
   "cell_type": "code",
   "execution_count": 8,
   "metadata": {},
   "outputs": [
    {
     "name": "stdout",
     "output_type": "stream",
     "text": [
      "7\n",
      "-30\n",
      "-33\n",
      "-34\n",
      "-23\n",
      "-45\n",
      "-13\n",
      "-50\n",
      "-45 -50\n"
     ]
    }
   ],
   "source": [
    "N = int(input())\n",
    "max1 = 0\n",
    "max2 = 0\n",
    "max_ = 0\n",
    "min1 = 0\n",
    "min2 = 0\n",
    "min_ = 0\n",
    "for _ in range(N):\n",
    "    z = int(input())\n",
    "    if z > max1:\n",
    "        max1 = z\n",
    "        if max1 > max2:\n",
    "            max_ = max2\n",
    "            max2 = max1\n",
    "            max1 = max_\n",
    "        \n",
    "    if z < min1:\n",
    "        min1 = z\n",
    "        if min1 < min2:\n",
    "            min_ = min2\n",
    "            min2 = min1\n",
    "            min1 = min_\n",
    "            \n",
    "            \n",
    "            \n",
    "if min1*min2 > max1*max2:\n",
    "    print(min1,min2)\n",
    "else:   \n",
    "    print(max1,max2) "
   ]
  },
  {
   "cell_type": "markdown",
   "metadata": {},
   "source": [
    "# Упражнение 2. Максимальное произведение 3-х чисел\n",
    "\n",
    "Из последовательности целых чисел выбрать 3 числа, произведение которых максимально\n",
    "\n",
    "*Вход.* В первой строке текста - количество чисел $N$, $3 \\leq N \\leq 10^8$, в следующих $N$ строках - целые числа.\n",
    "\n",
    "*Выход.* Три числа в произвольном порядке.\n",
    "\n",
    "Есть указания к решению в <font color=blue>[1]</font>."
   ]
  },
  {
   "cell_type": "code",
   "execution_count": 11,
   "metadata": {},
   "outputs": [
    {
     "name": "stdout",
     "output_type": "stream",
     "text": [
      "7\n",
      "-90\n",
      "-56\n",
      "90\n",
      "54\n",
      "12\n",
      "1\n",
      "6\n",
      "-56 -90 90\n"
     ]
    }
   ],
   "source": [
    "N = int(input())\n",
    "max1 = 0\n",
    "max2 = 0\n",
    "max_ = 0\n",
    "min1 = 0\n",
    "min2 = 0\n",
    "min_ = 0\n",
    "for _ in range(N):\n",
    "    z = int(input())\n",
    "    if z > max1:\n",
    "        max1 = z\n",
    "        if max1 > max2:\n",
    "            max_ = max2\n",
    "            max2 = max1\n",
    "            max1 = max_\n",
    "        \n",
    "    if z < min1:\n",
    "        min1 = z\n",
    "        if min1 < min2:\n",
    "            min_ = min2\n",
    "            min2 = min1\n",
    "            min1 = min_\n",
    "            \n",
    "            \n",
    "            \n",
    "if min1*min2*max1 > max1*max2*max_:\n",
    "    print(min1,min2,max2)\n",
    "else:   \n",
    "    print(max1,max2,max_) "
   ]
  },
  {
   "cell_type": "code",
   "execution_count": null,
   "metadata": {},
   "outputs": [],
   "source": []
  }
 ],
 "metadata": {
  "kernelspec": {
   "display_name": "Python 3",
   "language": "python",
   "name": "python3"
  }
 },
 "nbformat": 4,
 "nbformat_minor": 2
}
